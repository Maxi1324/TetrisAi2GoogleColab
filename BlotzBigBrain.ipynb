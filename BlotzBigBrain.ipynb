{
 "cells": [
  {
   "cell_type": "code",
   "execution_count": 1,
   "metadata": {},
   "outputs": [
    {
     "name": "stdout",
     "output_type": "stream",
     "text": [
      "Requirement already satisfied: gym in c:\\users\\maxie\\appdata\\local\\packages\\pythonsoftwarefoundation.python.3.9_qbz5n2kfra8p0\\localcache\\local-packages\\python39\\site-packages (0.26.2)\n",
      "Requirement already satisfied: importlib-metadata>=4.8.0 in c:\\users\\maxie\\appdata\\local\\packages\\pythonsoftwarefoundation.python.3.9_qbz5n2kfra8p0\\localcache\\local-packages\\python39\\site-packages (from gym) (5.1.0)\n",
      "Requirement already satisfied: numpy>=1.18.0 in c:\\users\\maxie\\appdata\\local\\packages\\pythonsoftwarefoundation.python.3.9_qbz5n2kfra8p0\\localcache\\local-packages\\python39\\site-packages (from gym) (1.23.5)\n",
      "Requirement already satisfied: gym-notices>=0.0.4 in c:\\users\\maxie\\appdata\\local\\packages\\pythonsoftwarefoundation.python.3.9_qbz5n2kfra8p0\\localcache\\local-packages\\python39\\site-packages (from gym) (0.0.8)\n",
      "Requirement already satisfied: cloudpickle>=1.2.0 in c:\\users\\maxie\\appdata\\local\\packages\\pythonsoftwarefoundation.python.3.9_qbz5n2kfra8p0\\localcache\\local-packages\\python39\\site-packages (from gym) (2.2.0)\n",
      "Requirement already satisfied: zipp>=0.5 in c:\\users\\maxie\\appdata\\local\\packages\\pythonsoftwarefoundation.python.3.9_qbz5n2kfra8p0\\localcache\\local-packages\\python39\\site-packages (from importlib-metadata>=4.8.0->gym) (3.11.0)\n"
     ]
    },
    {
     "name": "stderr",
     "output_type": "stream",
     "text": [
      "WARNING: You are using pip version 21.0.1; however, version 22.3.1 is available.\n",
      "You should consider upgrading via the 'C:\\Users\\maxie\\AppData\\Local\\Microsoft\\WindowsApps\\PythonSoftwareFoundation.Python.3.9_qbz5n2kfra8p0\\python.exe -m pip install --upgrade pip' command.\n"
     ]
    },
    {
     "name": "stdout",
     "output_type": "stream",
     "text": [
      "Requirement already satisfied: pygame in c:\\users\\maxie\\appdata\\local\\packages\\pythonsoftwarefoundation.python.3.9_qbz5n2kfra8p0\\localcache\\local-packages\\python39\\site-packages (2.1.2)\n"
     ]
    },
    {
     "name": "stderr",
     "output_type": "stream",
     "text": [
      "WARNING: You are using pip version 21.0.1; however, version 22.3.1 is available.\n",
      "You should consider upgrading via the 'C:\\Users\\maxie\\AppData\\Local\\Microsoft\\WindowsApps\\PythonSoftwareFoundation.Python.3.9_qbz5n2kfra8p0\\python.exe -m pip install --upgrade pip' command.\n"
     ]
    },
    {
     "name": "stdout",
     "output_type": "stream",
     "text": [
      "Requirement already satisfied: numpy in c:\\users\\maxie\\appdata\\local\\packages\\pythonsoftwarefoundation.python.3.9_qbz5n2kfra8p0\\localcache\\local-packages\\python39\\site-packages (1.23.5)\n"
     ]
    },
    {
     "name": "stderr",
     "output_type": "stream",
     "text": [
      "WARNING: You are using pip version 21.0.1; however, version 22.3.1 is available.\n",
      "You should consider upgrading via the 'C:\\Users\\maxie\\AppData\\Local\\Microsoft\\WindowsApps\\PythonSoftwareFoundation.Python.3.9_qbz5n2kfra8p0\\python.exe -m pip install --upgrade pip' command.\n"
     ]
    },
    {
     "name": "stdout",
     "output_type": "stream",
     "text": [
      "Requirement already satisfied: keras-rl2 in c:\\users\\maxie\\appdata\\local\\packages\\pythonsoftwarefoundation.python.3.9_qbz5n2kfra8p0\\localcache\\local-packages\\python39\\site-packages (1.0.5)\n",
      "Requirement already satisfied: tensorflow in c:\\users\\maxie\\appdata\\local\\packages\\pythonsoftwarefoundation.python.3.9_qbz5n2kfra8p0\\localcache\\local-packages\\python39\\site-packages (from keras-rl2) (2.11.0)\n",
      "Requirement already satisfied: tensorflow-intel==2.11.0 in c:\\users\\maxie\\appdata\\local\\packages\\pythonsoftwarefoundation.python.3.9_qbz5n2kfra8p0\\localcache\\local-packages\\python39\\site-packages (from tensorflow->keras-rl2) (2.11.0)\n",
      "Requirement already satisfied: tensorflow-io-gcs-filesystem>=0.23.1 in c:\\users\\maxie\\appdata\\local\\packages\\pythonsoftwarefoundation.python.3.9_qbz5n2kfra8p0\\localcache\\local-packages\\python39\\site-packages (from tensorflow-intel==2.11.0->tensorflow->keras-rl2) (0.28.0)\n",
      "Requirement already satisfied: protobuf<3.20,>=3.9.2 in c:\\users\\maxie\\appdata\\local\\packages\\pythonsoftwarefoundation.python.3.9_qbz5n2kfra8p0\\localcache\\local-packages\\python39\\site-packages (from tensorflow-intel==2.11.0->tensorflow->keras-rl2) (3.19.6)\n",
      "Requirement already satisfied: typing-extensions>=3.6.6 in c:\\users\\maxie\\appdata\\local\\packages\\pythonsoftwarefoundation.python.3.9_qbz5n2kfra8p0\\localcache\\local-packages\\python39\\site-packages (from tensorflow-intel==2.11.0->tensorflow->keras-rl2) (4.4.0)\n",
      "Requirement already satisfied: astunparse>=1.6.0 in c:\\users\\maxie\\appdata\\local\\packages\\pythonsoftwarefoundation.python.3.9_qbz5n2kfra8p0\\localcache\\local-packages\\python39\\site-packages (from tensorflow-intel==2.11.0->tensorflow->keras-rl2) (1.6.3)\n",
      "Requirement already satisfied: wrapt>=1.11.0 in c:\\users\\maxie\\appdata\\local\\packages\\pythonsoftwarefoundation.python.3.9_qbz5n2kfra8p0\\localcache\\local-packages\\python39\\site-packages (from tensorflow-intel==2.11.0->tensorflow->keras-rl2) (1.14.1)\n",
      "Requirement already satisfied: termcolor>=1.1.0 in c:\\users\\maxie\\appdata\\local\\packages\\pythonsoftwarefoundation.python.3.9_qbz5n2kfra8p0\\localcache\\local-packages\\python39\\site-packages (from tensorflow-intel==2.11.0->tensorflow->keras-rl2) (2.1.1)\n",
      "Requirement already satisfied: packaging in c:\\users\\maxie\\appdata\\local\\packages\\pythonsoftwarefoundation.python.3.9_qbz5n2kfra8p0\\localcache\\local-packages\\python39\\site-packages (from tensorflow-intel==2.11.0->tensorflow->keras-rl2) (20.9)\n",
      "Requirement already satisfied: h5py>=2.9.0 in c:\\users\\maxie\\appdata\\local\\packages\\pythonsoftwarefoundation.python.3.9_qbz5n2kfra8p0\\localcache\\local-packages\\python39\\site-packages (from tensorflow-intel==2.11.0->tensorflow->keras-rl2) (3.7.0)\n",
      "Requirement already satisfied: libclang>=13.0.0 in c:\\users\\maxie\\appdata\\local\\packages\\pythonsoftwarefoundation.python.3.9_qbz5n2kfra8p0\\localcache\\local-packages\\python39\\site-packages (from tensorflow-intel==2.11.0->tensorflow->keras-rl2) (14.0.6)\n",
      "Requirement already satisfied: tensorflow-estimator<2.12,>=2.11.0 in c:\\users\\maxie\\appdata\\local\\packages\\pythonsoftwarefoundation.python.3.9_qbz5n2kfra8p0\\localcache\\local-packages\\python39\\site-packages (from tensorflow-intel==2.11.0->tensorflow->keras-rl2) (2.11.0)\n",
      "Requirement already satisfied: flatbuffers>=2.0 in c:\\users\\maxie\\appdata\\local\\packages\\pythonsoftwarefoundation.python.3.9_qbz5n2kfra8p0\\localcache\\local-packages\\python39\\site-packages (from tensorflow-intel==2.11.0->tensorflow->keras-rl2) (22.11.23)\n",
      "Requirement already satisfied: tensorboard<2.12,>=2.11 in c:\\users\\maxie\\appdata\\local\\packages\\pythonsoftwarefoundation.python.3.9_qbz5n2kfra8p0\\localcache\\local-packages\\python39\\site-packages (from tensorflow-intel==2.11.0->tensorflow->keras-rl2) (2.11.0)\n",
      "Requirement already satisfied: keras<2.12,>=2.11.0 in c:\\users\\maxie\\appdata\\local\\packages\\pythonsoftwarefoundation.python.3.9_qbz5n2kfra8p0\\localcache\\local-packages\\python39\\site-packages (from tensorflow-intel==2.11.0->tensorflow->keras-rl2) (2.11.0)\n",
      "Requirement already satisfied: opt-einsum>=2.3.2 in c:\\users\\maxie\\appdata\\local\\packages\\pythonsoftwarefoundation.python.3.9_qbz5n2kfra8p0\\localcache\\local-packages\\python39\\site-packages (from tensorflow-intel==2.11.0->tensorflow->keras-rl2) (3.3.0)\n",
      "Requirement already satisfied: six>=1.12.0 in c:\\users\\maxie\\appdata\\local\\packages\\pythonsoftwarefoundation.python.3.9_qbz5n2kfra8p0\\localcache\\local-packages\\python39\\site-packages (from tensorflow-intel==2.11.0->tensorflow->keras-rl2) (1.15.0)\n",
      "Requirement already satisfied: google-pasta>=0.1.1 in c:\\users\\maxie\\appdata\\local\\packages\\pythonsoftwarefoundation.python.3.9_qbz5n2kfra8p0\\localcache\\local-packages\\python39\\site-packages (from tensorflow-intel==2.11.0->tensorflow->keras-rl2) (0.2.0)\n",
      "Requirement already satisfied: absl-py>=1.0.0 in c:\\users\\maxie\\appdata\\local\\packages\\pythonsoftwarefoundation.python.3.9_qbz5n2kfra8p0\\localcache\\local-packages\\python39\\site-packages (from tensorflow-intel==2.11.0->tensorflow->keras-rl2) (1.3.0)\n",
      "Requirement already satisfied: grpcio<2.0,>=1.24.3 in c:\\users\\maxie\\appdata\\local\\packages\\pythonsoftwarefoundation.python.3.9_qbz5n2kfra8p0\\localcache\\local-packages\\python39\\site-packages (from tensorflow-intel==2.11.0->tensorflow->keras-rl2) (1.51.1)\n",
      "Requirement already satisfied: numpy>=1.20 in c:\\users\\maxie\\appdata\\local\\packages\\pythonsoftwarefoundation.python.3.9_qbz5n2kfra8p0\\localcache\\local-packages\\python39\\site-packages (from tensorflow-intel==2.11.0->tensorflow->keras-rl2) (1.23.5)\n",
      "Requirement already satisfied: setuptools in c:\\program files\\windowsapps\\pythonsoftwarefoundation.python.3.9_3.9.3568.0_x64__qbz5n2kfra8p0\\lib\\site-packages (from tensorflow-intel==2.11.0->tensorflow->keras-rl2) (58.1.0)\n",
      "Requirement already satisfied: gast<=0.4.0,>=0.2.1 in c:\\users\\maxie\\appdata\\local\\packages\\pythonsoftwarefoundation.python.3.9_qbz5n2kfra8p0\\localcache\\local-packages\\python39\\site-packages (from tensorflow-intel==2.11.0->tensorflow->keras-rl2) (0.4.0)\n",
      "Requirement already satisfied: wheel<1.0,>=0.23.0 in c:\\users\\maxie\\appdata\\local\\packages\\pythonsoftwarefoundation.python.3.9_qbz5n2kfra8p0\\localcache\\local-packages\\python39\\site-packages (from astunparse>=1.6.0->tensorflow-intel==2.11.0->tensorflow->keras-rl2) (0.38.4)\n",
      "Requirement already satisfied: google-auth-oauthlib<0.5,>=0.4.1 in c:\\users\\maxie\\appdata\\local\\packages\\pythonsoftwarefoundation.python.3.9_qbz5n2kfra8p0\\localcache\\local-packages\\python39\\site-packages (from tensorboard<2.12,>=2.11->tensorflow-intel==2.11.0->tensorflow->keras-rl2) (0.4.6)\n",
      "Requirement already satisfied: tensorboard-data-server<0.7.0,>=0.6.0 in c:\\users\\maxie\\appdata\\local\\packages\\pythonsoftwarefoundation.python.3.9_qbz5n2kfra8p0\\localcache\\local-packages\\python39\\site-packages (from tensorboard<2.12,>=2.11->tensorflow-intel==2.11.0->tensorflow->keras-rl2) (0.6.1)\n",
      "Requirement already satisfied: markdown>=2.6.8 in c:\\users\\maxie\\appdata\\local\\packages\\pythonsoftwarefoundation.python.3.9_qbz5n2kfra8p0\\localcache\\local-packages\\python39\\site-packages (from tensorboard<2.12,>=2.11->tensorflow-intel==2.11.0->tensorflow->keras-rl2) (3.4.1)\n",
      "Requirement already satisfied: tensorboard-plugin-wit>=1.6.0 in c:\\users\\maxie\\appdata\\local\\packages\\pythonsoftwarefoundation.python.3.9_qbz5n2kfra8p0\\localcache\\local-packages\\python39\\site-packages (from tensorboard<2.12,>=2.11->tensorflow-intel==2.11.0->tensorflow->keras-rl2) (1.8.1)\n",
      "Requirement already satisfied: google-auth<3,>=1.6.3 in c:\\users\\maxie\\appdata\\local\\packages\\pythonsoftwarefoundation.python.3.9_qbz5n2kfra8p0\\localcache\\local-packages\\python39\\site-packages (from tensorboard<2.12,>=2.11->tensorflow-intel==2.11.0->tensorflow->keras-rl2) (2.14.1)\n",
      "Requirement already satisfied: requests<3,>=2.21.0 in c:\\users\\maxie\\appdata\\local\\packages\\pythonsoftwarefoundation.python.3.9_qbz5n2kfra8p0\\localcache\\local-packages\\python39\\site-packages (from tensorboard<2.12,>=2.11->tensorflow-intel==2.11.0->tensorflow->keras-rl2) (2.28.1)\n",
      "Requirement already satisfied: werkzeug>=1.0.1 in c:\\users\\maxie\\appdata\\local\\packages\\pythonsoftwarefoundation.python.3.9_qbz5n2kfra8p0\\localcache\\local-packages\\python39\\site-packages (from tensorboard<2.12,>=2.11->tensorflow-intel==2.11.0->tensorflow->keras-rl2) (2.2.2)\n",
      "Requirement already satisfied: cachetools<6.0,>=2.0.0 in c:\\users\\maxie\\appdata\\local\\packages\\pythonsoftwarefoundation.python.3.9_qbz5n2kfra8p0\\localcache\\local-packages\\python39\\site-packages (from google-auth<3,>=1.6.3->tensorboard<2.12,>=2.11->tensorflow-intel==2.11.0->tensorflow->keras-rl2) (5.2.0)\n",
      "Requirement already satisfied: pyasn1-modules>=0.2.1 in c:\\users\\maxie\\appdata\\local\\packages\\pythonsoftwarefoundation.python.3.9_qbz5n2kfra8p0\\localcache\\local-packages\\python39\\site-packages (from google-auth<3,>=1.6.3->tensorboard<2.12,>=2.11->tensorflow-intel==2.11.0->tensorflow->keras-rl2) (0.2.8)\n",
      "Requirement already satisfied: rsa<5,>=3.1.4 in c:\\users\\maxie\\appdata\\local\\packages\\pythonsoftwarefoundation.python.3.9_qbz5n2kfra8p0\\localcache\\local-packages\\python39\\site-packages (from google-auth<3,>=1.6.3->tensorboard<2.12,>=2.11->tensorflow-intel==2.11.0->tensorflow->keras-rl2) (4.9)\n",
      "Requirement already satisfied: requests-oauthlib>=0.7.0 in c:\\users\\maxie\\appdata\\local\\packages\\pythonsoftwarefoundation.python.3.9_qbz5n2kfra8p0\\localcache\\local-packages\\python39\\site-packages (from google-auth-oauthlib<0.5,>=0.4.1->tensorboard<2.12,>=2.11->tensorflow-intel==2.11.0->tensorflow->keras-rl2) (1.3.1)\n",
      "Requirement already satisfied: importlib-metadata>=4.4 in c:\\users\\maxie\\appdata\\local\\packages\\pythonsoftwarefoundation.python.3.9_qbz5n2kfra8p0\\localcache\\local-packages\\python39\\site-packages (from markdown>=2.6.8->tensorboard<2.12,>=2.11->tensorflow-intel==2.11.0->tensorflow->keras-rl2) (5.1.0)\n",
      "Requirement already satisfied: zipp>=0.5 in c:\\users\\maxie\\appdata\\local\\packages\\pythonsoftwarefoundation.python.3.9_qbz5n2kfra8p0\\localcache\\local-packages\\python39\\site-packages (from importlib-metadata>=4.4->markdown>=2.6.8->tensorboard<2.12,>=2.11->tensorflow-intel==2.11.0->tensorflow->keras-rl2) (3.11.0)\n",
      "Requirement already satisfied: pyasn1<0.5.0,>=0.4.6 in c:\\users\\maxie\\appdata\\local\\packages\\pythonsoftwarefoundation.python.3.9_qbz5n2kfra8p0\\localcache\\local-packages\\python39\\site-packages (from pyasn1-modules>=0.2.1->google-auth<3,>=1.6.3->tensorboard<2.12,>=2.11->tensorflow-intel==2.11.0->tensorflow->keras-rl2) (0.4.8)\n",
      "Requirement already satisfied: idna<4,>=2.5 in c:\\users\\maxie\\appdata\\local\\packages\\pythonsoftwarefoundation.python.3.9_qbz5n2kfra8p0\\localcache\\local-packages\\python39\\site-packages (from requests<3,>=2.21.0->tensorboard<2.12,>=2.11->tensorflow-intel==2.11.0->tensorflow->keras-rl2) (3.4)\n",
      "Requirement already satisfied: charset-normalizer<3,>=2 in c:\\users\\maxie\\appdata\\local\\packages\\pythonsoftwarefoundation.python.3.9_qbz5n2kfra8p0\\localcache\\local-packages\\python39\\site-packages (from requests<3,>=2.21.0->tensorboard<2.12,>=2.11->tensorflow-intel==2.11.0->tensorflow->keras-rl2) (2.1.1)\n",
      "Requirement already satisfied: urllib3<1.27,>=1.21.1 in c:\\users\\maxie\\appdata\\local\\packages\\pythonsoftwarefoundation.python.3.9_qbz5n2kfra8p0\\localcache\\local-packages\\python39\\site-packages (from requests<3,>=2.21.0->tensorboard<2.12,>=2.11->tensorflow-intel==2.11.0->tensorflow->keras-rl2) (1.26.13)\n",
      "Requirement already satisfied: certifi>=2017.4.17 in c:\\users\\maxie\\appdata\\local\\packages\\pythonsoftwarefoundation.python.3.9_qbz5n2kfra8p0\\localcache\\local-packages\\python39\\site-packages (from requests<3,>=2.21.0->tensorboard<2.12,>=2.11->tensorflow-intel==2.11.0->tensorflow->keras-rl2) (2022.9.24)\n",
      "Requirement already satisfied: oauthlib>=3.0.0 in c:\\users\\maxie\\appdata\\local\\packages\\pythonsoftwarefoundation.python.3.9_qbz5n2kfra8p0\\localcache\\local-packages\\python39\\site-packages (from requests-oauthlib>=0.7.0->google-auth-oauthlib<0.5,>=0.4.1->tensorboard<2.12,>=2.11->tensorflow-intel==2.11.0->tensorflow->keras-rl2) (3.2.2)\n",
      "Requirement already satisfied: MarkupSafe>=2.1.1 in c:\\users\\maxie\\appdata\\local\\packages\\pythonsoftwarefoundation.python.3.9_qbz5n2kfra8p0\\localcache\\local-packages\\python39\\site-packages (from werkzeug>=1.0.1->tensorboard<2.12,>=2.11->tensorflow-intel==2.11.0->tensorflow->keras-rl2) (2.1.1)\n",
      "Requirement already satisfied: pyparsing>=2.0.2 in c:\\users\\maxie\\appdata\\local\\packages\\pythonsoftwarefoundation.python.3.9_qbz5n2kfra8p0\\localcache\\local-packages\\python39\\site-packages (from packaging->tensorflow-intel==2.11.0->tensorflow->keras-rl2) (2.4.7)\n"
     ]
    },
    {
     "name": "stderr",
     "output_type": "stream",
     "text": [
      "WARNING: You are using pip version 21.0.1; however, version 22.3.1 is available.\n",
      "You should consider upgrading via the 'C:\\Users\\maxie\\AppData\\Local\\Microsoft\\WindowsApps\\PythonSoftwareFoundation.Python.3.9_qbz5n2kfra8p0\\python.exe -m pip install --upgrade pip' command.\n"
     ]
    }
   ],
   "source": [
    "%run Scripts/Prepare.ipynb"
   ]
  },
  {
   "cell_type": "code",
   "execution_count": 2,
   "metadata": {},
   "outputs": [],
   "source": [
    "from keras.models import Sequential\n",
    "from keras.layers import Dense, Activation, Flatten\n",
    "\n",
    "from rl.policy import BoltzmannQPolicy"
   ]
  },
  {
   "cell_type": "code",
   "execution_count": 3,
   "metadata": {},
   "outputs": [],
   "source": [
    "trainstep = 1000000\n",
    "learningrate = 1e-3\n",
    "warmup = 100\n",
    "\n",
    "rewardHoch = 4\n",
    "rewardmult = 2\n",
    "alwaysReward = 0.000000001\n",
    "\n",
    "render = False\n",
    "\n",
    "verbose = 3000\n",
    "\n",
    "speed = 10\n",
    "\n",
    "loadfile = None\n",
    "savefile = \"BoltzBig\""
   ]
  },
  {
   "cell_type": "code",
   "execution_count": 4,
   "metadata": {},
   "outputs": [
    {
     "name": "stdout",
     "output_type": "stream",
     "text": [
      "Model: \"sequential\"\n",
      "_________________________________________________________________\n",
      " Layer (type)                Output Shape              Param #   \n",
      "=================================================================\n",
      " dense (Dense)               (None, 1, 20, 10, 1)      2         \n",
      "                                                                 \n",
      " flatten (Flatten)           (None, 200)               0         \n",
      "                                                                 \n",
      " dense_1 (Dense)             (None, 200)               40200     \n",
      "                                                                 \n",
      " dense_2 (Dense)             (None, 200)               40200     \n",
      "                                                                 \n",
      " dense_3 (Dense)             (None, 200)               40200     \n",
      "                                                                 \n",
      " dense_4 (Dense)             (None, 200)               40200     \n",
      "                                                                 \n",
      " dense_5 (Dense)             (None, 200)               40200     \n",
      "                                                                 \n",
      " dense_6 (Dense)             (None, 200)               40200     \n",
      "                                                                 \n",
      " dense_7 (Dense)             (None, 5)                 1005      \n",
      "                                                                 \n",
      "=================================================================\n",
      "Total params: 242,207\n",
      "Trainable params: 242,207\n",
      "Non-trainable params: 0\n",
      "_________________________________________________________________\n",
      "None\n"
     ]
    }
   ],
   "source": [
    "\n",
    "model =  Sequential([\n",
    "        Dense(1, activation='relu', input_shape=(1,20,10,1)),\n",
    "        Flatten(),\n",
    "        Dense(200, activation='relu'),\n",
    "        Dense(200, activation='relu'),\n",
    "        Dense(200, activation='relu'),\n",
    "        Dense(200, activation='relu'),\n",
    "        Dense(200, activation='relu'),\n",
    "        Dense(200, activation='relu'),\n",
    "        Dense(5, activation='relu'),\n",
    "    ])\n",
    "\n",
    "print(model.summary())\n",
    "    \n",
    "policy = BoltzmannQPolicy() "
   ]
  },
  {
   "cell_type": "code",
   "execution_count": 5,
   "metadata": {},
   "outputs": [
    {
     "name": "stdout",
     "output_type": "stream",
     "text": [
      "WARNING:tensorflow:From C:\\Users\\maxie\\AppData\\Local\\Packages\\PythonSoftwareFoundation.Python.3.9_qbz5n2kfra8p0\\LocalCache\\local-packages\\Python39\\site-packages\\tensorflow\\python\\autograph\\pyct\\static_analysis\\liveness.py:83: Analyzer.lamba_check (from tensorflow.python.autograph.pyct.static_analysis.liveness) is deprecated and will be removed after 2023-09-23.\n",
      "Instructions for updating:\n",
      "Lambda fuctions will be no more assumed to be used in the statement where they are used, or at least in the same block. https://github.com/tensorflow/tensorflow/issues/56089\n",
      "Training for 1000000 steps ...\n"
     ]
    },
    {
     "name": "stderr",
     "output_type": "stream",
     "text": [
      "C:\\Users\\maxie\\AppData\\Local\\Packages\\PythonSoftwareFoundation.Python.3.9_qbz5n2kfra8p0\\LocalCache\\local-packages\\Python39\\site-packages\\keras\\engine\\training_v1.py:2357: UserWarning: `Model.state_updates` will be removed in a future version. This property should not be used in TensorFlow 2.0, as `updates` are applied automatically.\n",
      "  updates=self.state_updates,\n"
     ]
    },
    {
     "name": "stdout",
     "output_type": "stream",
     "text": [
      "    561/1000000: episode: 1, duration: 18.517s, episode steps: 561, steps per second:  30, episode reward:  0.000, mean reward:  0.000 [ 0.000,  0.000], mean action: 1.996 [0.000, 4.000],  loss: 0.000011, mae: 0.028492, mean_q: 0.037708\n",
      "   1022/1000000: episode: 2, duration: 21.121s, episode steps: 461, steps per second:  22, episode reward:  0.000, mean reward:  0.000 [ 0.000,  0.000], mean action: 1.972 [0.000, 4.000],  loss: 0.000005, mae: 0.038104, mean_q: 0.048663\n",
      "   1457/1000000: episode: 3, duration: 21.642s, episode steps: 435, steps per second:  20, episode reward:  0.000, mean reward:  0.000 [ 0.000,  0.000], mean action: 1.961 [0.000, 4.000],  loss: 0.000004, mae: 0.036759, mean_q: 0.046659\n",
      "   1966/1000000: episode: 4, duration: 28.655s, episode steps: 509, steps per second:  18, episode reward:  0.000, mean reward:  0.000 [ 0.000,  0.000], mean action: 2.014 [0.000, 4.000],  loss: 0.000005, mae: 0.035479, mean_q: 0.045234\n",
      "   2720/1000000: episode: 5, duration: 48.853s, episode steps: 754, steps per second:  15, episode reward:  0.000, mean reward:  0.000 [ 0.000,  0.000], mean action: 1.931 [0.000, 4.000],  loss: 0.000013, mae: 0.035697, mean_q: 0.045722\n",
      "   3377/1000000: episode: 6, duration: 40.344s, episode steps: 657, steps per second:  16, episode reward:  0.000, mean reward:  0.000 [ 0.000,  0.000], mean action: 2.035 [0.000, 4.000],  loss: 0.000006, mae: 0.036609, mean_q: 0.046524\n",
      "   4020/1000000: episode: 7, duration: 40.094s, episode steps: 643, steps per second:  16, episode reward:  0.000, mean reward:  0.000 [ 0.000,  0.000], mean action: 1.944 [0.000, 4.000],  loss: 0.000004, mae: 0.035421, mean_q: 0.044943\n",
      "   4568/1000000: episode: 8, duration: 33.038s, episode steps: 548, steps per second:  17, episode reward:  0.000, mean reward:  0.000 [ 0.000,  0.000], mean action: 1.945 [0.000, 4.000],  loss: 0.000004, mae: 0.033958, mean_q: 0.042982\n",
      "   5262/1000000: episode: 9, duration: 43.256s, episode steps: 694, steps per second:  16, episode reward:  0.000, mean reward:  0.000 [ 0.000,  0.000], mean action: 1.921 [0.000, 4.000],  loss: 0.000003, mae: 0.032516, mean_q: 0.041134\n",
      "   5663/1000000: episode: 10, duration: 24.557s, episode steps: 401, steps per second:  16, episode reward:  0.000, mean reward:  0.000 [ 0.000,  0.000], mean action: 2.007 [0.000, 4.000],  loss: 0.000002, mae: 0.031324, mean_q: 0.039579\n",
      "   6004/1000000: episode: 11, duration: 21.767s, episode steps: 341, steps per second:  16, episode reward:  0.000, mean reward:  0.000 [ 0.000,  0.000], mean action: 1.909 [0.000, 4.000],  loss: 0.000003, mae: 0.030078, mean_q: 0.037990\n",
      "   6577/1000000: episode: 12, duration: 38.847s, episode steps: 573, steps per second:  15, episode reward:  0.000, mean reward:  0.000 [ 0.000,  0.000], mean action: 2.009 [0.000, 4.000],  loss: 0.000003, mae: 0.029052, mean_q: 0.036886\n",
      "   7245/1000000: episode: 13, duration: 43.173s, episode steps: 668, steps per second:  15, episode reward:  0.000, mean reward:  0.000 [ 0.000,  0.000], mean action: 1.979 [0.000, 4.000],  loss: 0.000002, mae: 0.029950, mean_q: 0.037890\n",
      "   7675/1000000: episode: 14, duration: 26.070s, episode steps: 430, steps per second:  16, episode reward:  0.000, mean reward:  0.000 [ 0.000,  0.000], mean action: 2.065 [0.000, 4.000],  loss: 0.000002, mae: 0.029311, mean_q: 0.037131\n",
      "   8096/1000000: episode: 15, duration: 26.156s, episode steps: 421, steps per second:  16, episode reward:  0.000, mean reward:  0.000 [ 0.000,  0.000], mean action: 2.083 [0.000, 4.000],  loss: 0.000002, mae: 0.028602, mean_q: 0.036146\n",
      "   8625/1000000: episode: 16, duration: 32.414s, episode steps: 529, steps per second:  16, episode reward:  0.000, mean reward:  0.000 [ 0.000,  0.000], mean action: 1.996 [0.000, 4.000],  loss: 0.000002, mae: 0.027584, mean_q: 0.034860\n",
      "   9219/1000000: episode: 17, duration: 36.224s, episode steps: 594, steps per second:  16, episode reward:  0.000, mean reward:  0.000 [ 0.000,  0.000], mean action: 2.024 [0.000, 4.000],  loss: 0.000001, mae: 0.026389, mean_q: 0.033345\n",
      "   9792/1000000: episode: 18, duration: 35.165s, episode steps: 573, steps per second:  16, episode reward:  0.000, mean reward:  0.000 [ 0.000,  0.000], mean action: 2.017 [0.000, 4.000],  loss: 0.000001, mae: 0.025064, mean_q: 0.031691\n",
      "  10555/1000000: episode: 19, duration: 47.108s, episode steps: 763, steps per second:  16, episode reward:  0.000, mean reward:  0.000 [ 0.000,  0.000], mean action: 2.142 [0.000, 4.000],  loss: 0.000001, mae: 0.023723, mean_q: 0.029970\n",
      "  11085/1000000: episode: 20, duration: 34.341s, episode steps: 530, steps per second:  15, episode reward:  0.000, mean reward:  0.000 [ 0.000,  0.000], mean action: 2.034 [0.000, 4.000],  loss: 0.000001, mae: 0.022444, mean_q: 0.028387\n",
      "  11755/1000000: episode: 21, duration: 41.766s, episode steps: 670, steps per second:  16, episode reward:  0.000, mean reward:  0.000 [ 0.000,  0.000], mean action: 2.013 [0.000, 4.000],  loss: 0.000001, mae: 0.021467, mean_q: 0.027153\n",
      "  12110/1000000: episode: 22, duration: 23.167s, episode steps: 355, steps per second:  15, episode reward:  0.000, mean reward:  0.000 [ 0.000,  0.000], mean action: 1.930 [0.000, 4.000],  loss: 0.000001, mae: 0.020505, mean_q: 0.025918\n",
      "  12751/1000000: episode: 23, duration: 47.071s, episode steps: 641, steps per second:  14, episode reward:  0.000, mean reward:  0.000 [ 0.000,  0.000], mean action: 1.922 [0.000, 4.000],  loss: 0.000001, mae: 0.019713, mean_q: 0.024917\n",
      "  13457/1000000: episode: 24, duration: 50.312s, episode steps: 706, steps per second:  14, episode reward:  0.000, mean reward:  0.000 [ 0.000,  0.000], mean action: 2.013 [0.000, 4.000],  loss: 0.000001, mae: 0.018579, mean_q: 0.023501\n",
      "  13780/1000000: episode: 25, duration: 23.279s, episode steps: 323, steps per second:  14, episode reward:  0.000, mean reward:  0.000 [ 0.000,  0.000], mean action: 1.913 [0.000, 4.000],  loss: 0.000001, mae: 0.017672, mean_q: 0.022332\n",
      "  14241/1000000: episode: 26, duration: 31.632s, episode steps: 461, steps per second:  15, episode reward:  0.000, mean reward:  0.000 [ 0.000,  0.000], mean action: 1.963 [0.000, 4.000],  loss: 0.000001, mae: 0.017029, mean_q: 0.021522\n",
      "  14702/1000000: episode: 27, duration: 31.074s, episode steps: 461, steps per second:  15, episode reward:  0.000, mean reward:  0.000 [ 0.000,  0.000], mean action: 1.974 [0.000, 4.000],  loss: 0.000001, mae: 0.016372, mean_q: 0.020768\n",
      "  15166/1000000: episode: 28, duration: 30.911s, episode steps: 464, steps per second:  15, episode reward:  0.000, mean reward:  0.000 [ 0.000,  0.000], mean action: 2.043 [0.000, 4.000],  loss: 0.000001, mae: 0.016198, mean_q: 0.020475\n",
      "  15663/1000000: episode: 29, duration: 33.576s, episode steps: 497, steps per second:  15, episode reward:  0.000, mean reward:  0.000 [ 0.000,  0.000], mean action: 2.087 [0.000, 4.000],  loss: 0.000001, mae: 0.015646, mean_q: 0.019827\n",
      "  16401/1000000: episode: 30, duration: 50.009s, episode steps: 738, steps per second:  15, episode reward:  0.000, mean reward:  0.000 [ 0.000,  0.000], mean action: 1.955 [0.000, 4.000],  loss: 0.000001, mae: 0.015018, mean_q: 0.019051\n",
      "  16925/1000000: episode: 31, duration: 36.001s, episode steps: 524, steps per second:  15, episode reward:  0.000, mean reward:  0.000 [ 0.000,  0.000], mean action: 2.017 [0.000, 4.000],  loss: 0.000001, mae: 0.014779, mean_q: 0.018759\n",
      "  17681/1000000: episode: 32, duration: 51.897s, episode steps: 756, steps per second:  15, episode reward:  0.000, mean reward:  0.000 [ 0.000,  0.000], mean action: 2.095 [0.000, 4.000],  loss: 0.000001, mae: 0.014016, mean_q: 0.017762\n",
      "  18028/1000000: episode: 33, duration: 23.727s, episode steps: 347, steps per second:  15, episode reward:  0.000, mean reward:  0.000 [ 0.000,  0.000], mean action: 1.896 [0.000, 4.000],  loss: 0.000000, mae: 0.013285, mean_q: 0.016817\n",
      "  18789/1000000: episode: 34, duration: 50.773s, episode steps: 761, steps per second:  15, episode reward:  0.000, mean reward:  0.000 [ 0.000,  0.000], mean action: 1.993 [0.000, 4.000],  loss: 0.000000, mae: 0.012674, mean_q: 0.016049\n",
      "  19143/1000000: episode: 35, duration: 24.170s, episode steps: 354, steps per second:  15, episode reward:  0.000, mean reward:  0.000 [ 0.000,  0.000], mean action: 1.963 [0.000, 4.000],  loss: 0.000000, mae: 0.011982, mean_q: 0.015159\n",
      "  19671/1000000: episode: 36, duration: 35.305s, episode steps: 528, steps per second:  15, episode reward:  0.000, mean reward:  0.000 [ 0.000,  0.000], mean action: 1.979 [0.000, 4.000],  loss: 0.000000, mae: 0.011409, mean_q: 0.014440\n",
      "  20321/1000000: episode: 37, duration: 44.794s, episode steps: 650, steps per second:  15, episode reward:  0.000, mean reward:  0.000 [ 0.000,  0.000], mean action: 1.878 [0.000, 4.000],  loss: 0.000000, mae: 0.010850, mean_q: 0.013730\n",
      "  20854/1000000: episode: 38, duration: 37.002s, episode steps: 533, steps per second:  14, episode reward:  0.000, mean reward:  0.000 [ 0.000,  0.000], mean action: 2.026 [0.000, 4.000],  loss: 0.000000, mae: 0.010275, mean_q: 0.013013\n",
      "  21323/1000000: episode: 39, duration: 31.867s, episode steps: 469, steps per second:  15, episode reward:  0.000, mean reward:  0.000 [ 0.000,  0.000], mean action: 2.015 [0.000, 4.000],  loss: 0.000000, mae: 0.009730, mean_q: 0.012329\n",
      "  22083/1000000: episode: 40, duration: 52.328s, episode steps: 760, steps per second:  15, episode reward:  0.000, mean reward:  0.000 [ 0.000,  0.000], mean action: 1.880 [0.000, 4.000],  loss: 0.000000, mae: 0.009177, mean_q: 0.011627\n"
     ]
    }
   ],
   "source": [
    "%run Scripts/ScriptBase.ipynb"
   ]
  }
 ],
 "metadata": {
  "kernelspec": {
   "display_name": "Python 3.9.13 64-bit (microsoft store)",
   "language": "python",
   "name": "python3"
  },
  "language_info": {
   "codemirror_mode": {
    "name": "ipython",
    "version": 3
   },
   "file_extension": ".py",
   "mimetype": "text/x-python",
   "name": "python",
   "nbconvert_exporter": "python",
   "pygments_lexer": "ipython3",
   "version": "3.9.13"
  },
  "orig_nbformat": 4,
  "vscode": {
   "interpreter": {
    "hash": "f4bbdff7cc7fa638b219fc0c8cef6f1b11f01eaec5f56662ef273699e3711f2e"
   }
  }
 },
 "nbformat": 4,
 "nbformat_minor": 2
}
