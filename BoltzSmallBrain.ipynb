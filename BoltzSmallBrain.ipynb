{
 "cells": [
  {
   "cell_type": "code",
   "execution_count": 1,
   "metadata": {},
   "outputs": [
    {
     "name": "stdout",
     "output_type": "stream",
     "text": [
      "Requirement already satisfied: gym in c:\\users\\maxie\\appdata\\local\\packages\\pythonsoftwarefoundation.python.3.9_qbz5n2kfra8p0\\localcache\\local-packages\\python39\\site-packages (0.26.2)\n",
      "Requirement already satisfied: gym-notices>=0.0.4 in c:\\users\\maxie\\appdata\\local\\packages\\pythonsoftwarefoundation.python.3.9_qbz5n2kfra8p0\\localcache\\local-packages\\python39\\site-packages (from gym) (0.0.8)\n",
      "Requirement already satisfied: importlib-metadata>=4.8.0 in c:\\users\\maxie\\appdata\\local\\packages\\pythonsoftwarefoundation.python.3.9_qbz5n2kfra8p0\\localcache\\local-packages\\python39\\site-packages (from gym) (5.1.0)\n",
      "Requirement already satisfied: cloudpickle>=1.2.0 in c:\\users\\maxie\\appdata\\local\\packages\\pythonsoftwarefoundation.python.3.9_qbz5n2kfra8p0\\localcache\\local-packages\\python39\\site-packages (from gym) (2.2.0)\n",
      "Requirement already satisfied: numpy>=1.18.0 in c:\\users\\maxie\\appdata\\local\\packages\\pythonsoftwarefoundation.python.3.9_qbz5n2kfra8p0\\localcache\\local-packages\\python39\\site-packages (from gym) (1.23.5)\n",
      "Requirement already satisfied: zipp>=0.5 in c:\\users\\maxie\\appdata\\local\\packages\\pythonsoftwarefoundation.python.3.9_qbz5n2kfra8p0\\localcache\\local-packages\\python39\\site-packages (from importlib-metadata>=4.8.0->gym) (3.11.0)\n"
     ]
    },
    {
     "name": "stderr",
     "output_type": "stream",
     "text": [
      "WARNING: You are using pip version 21.0.1; however, version 22.3.1 is available.\n",
      "You should consider upgrading via the 'C:\\Users\\maxie\\AppData\\Local\\Microsoft\\WindowsApps\\PythonSoftwareFoundation.Python.3.9_qbz5n2kfra8p0\\python.exe -m pip install --upgrade pip' command.\n"
     ]
    },
    {
     "name": "stdout",
     "output_type": "stream",
     "text": [
      "Requirement already satisfied: pygame in c:\\users\\maxie\\appdata\\local\\packages\\pythonsoftwarefoundation.python.3.9_qbz5n2kfra8p0\\localcache\\local-packages\\python39\\site-packages (2.1.2)\n"
     ]
    },
    {
     "name": "stderr",
     "output_type": "stream",
     "text": [
      "WARNING: You are using pip version 21.0.1; however, version 22.3.1 is available.\n",
      "You should consider upgrading via the 'C:\\Users\\maxie\\AppData\\Local\\Microsoft\\WindowsApps\\PythonSoftwareFoundation.Python.3.9_qbz5n2kfra8p0\\python.exe -m pip install --upgrade pip' command.\n"
     ]
    },
    {
     "name": "stdout",
     "output_type": "stream",
     "text": [
      "Requirement already satisfied: numpy in c:\\users\\maxie\\appdata\\local\\packages\\pythonsoftwarefoundation.python.3.9_qbz5n2kfra8p0\\localcache\\local-packages\\python39\\site-packages (1.23.5)"
     ]
    },
    {
     "name": "stderr",
     "output_type": "stream",
     "text": [
      "WARNING: You are using pip version 21.0.1; however, version 22.3.1 is available.\n",
      "You should consider upgrading via the 'C:\\Users\\maxie\\AppData\\Local\\Microsoft\\WindowsApps\\PythonSoftwareFoundation.Python.3.9_qbz5n2kfra8p0\\python.exe -m pip install --upgrade pip' command.\n"
     ]
    },
    {
     "name": "stdout",
     "output_type": "stream",
     "text": [
      "\n",
      "Requirement already satisfied: keras-rl2 in c:\\users\\maxie\\appdata\\local\\packages\\pythonsoftwarefoundation.python.3.9_qbz5n2kfra8p0\\localcache\\local-packages\\python39\\site-packages (1.0.5)\n",
      "Requirement already satisfied: tensorflow in c:\\users\\maxie\\appdata\\local\\packages\\pythonsoftwarefoundation.python.3.9_qbz5n2kfra8p0\\localcache\\local-packages\\python39\\site-packages (from keras-rl2) (2.11.0)\n",
      "Requirement already satisfied: tensorflow-intel==2.11.0 in c:\\users\\maxie\\appdata\\local\\packages\\pythonsoftwarefoundation.python.3.9_qbz5n2kfra8p0\\localcache\\local-packages\\python39\\site-packages (from tensorflow->keras-rl2) (2.11.0)\n",
      "Requirement already satisfied: absl-py>=1.0.0 in c:\\users\\maxie\\appdata\\local\\packages\\pythonsoftwarefoundation.python.3.9_qbz5n2kfra8p0\\localcache\\local-packages\\python39\\site-packages (from tensorflow-intel==2.11.0->tensorflow->keras-rl2) (1.3.0)\n",
      "Requirement already satisfied: astunparse>=1.6.0 in c:\\users\\maxie\\appdata\\local\\packages\\pythonsoftwarefoundation.python.3.9_qbz5n2kfra8p0\\localcache\\local-packages\\python39\\site-packages (from tensorflow-intel==2.11.0->tensorflow->keras-rl2) (1.6.3)\n",
      "Requirement already satisfied: grpcio<2.0,>=1.24.3 in c:\\users\\maxie\\appdata\\local\\packages\\pythonsoftwarefoundation.python.3.9_qbz5n2kfra8p0\\localcache\\local-packages\\python39\\site-packages (from tensorflow-intel==2.11.0->tensorflow->keras-rl2) (1.51.1)\n",
      "Requirement already satisfied: tensorboard<2.12,>=2.11 in c:\\users\\maxie\\appdata\\local\\packages\\pythonsoftwarefoundation.python.3.9_qbz5n2kfra8p0\\localcache\\local-packages\\python39\\site-packages (from tensorflow-intel==2.11.0->tensorflow->keras-rl2) (2.11.0)\n",
      "Requirement already satisfied: gast<=0.4.0,>=0.2.1 in c:\\users\\maxie\\appdata\\local\\packages\\pythonsoftwarefoundation.python.3.9_qbz5n2kfra8p0\\localcache\\local-packages\\python39\\site-packages (from tensorflow-intel==2.11.0->tensorflow->keras-rl2) (0.4.0)\n",
      "Requirement already satisfied: google-pasta>=0.1.1 in c:\\users\\maxie\\appdata\\local\\packages\\pythonsoftwarefoundation.python.3.9_qbz5n2kfra8p0\\localcache\\local-packages\\python39\\site-packages (from tensorflow-intel==2.11.0->tensorflow->keras-rl2) (0.2.0)\n",
      "Requirement already satisfied: opt-einsum>=2.3.2 in c:\\users\\maxie\\appdata\\local\\packages\\pythonsoftwarefoundation.python.3.9_qbz5n2kfra8p0\\localcache\\local-packages\\python39\\site-packages (from tensorflow-intel==2.11.0->tensorflow->keras-rl2) (3.3.0)\n",
      "Requirement already satisfied: typing-extensions>=3.6.6 in c:\\users\\maxie\\appdata\\local\\packages\\pythonsoftwarefoundation.python.3.9_qbz5n2kfra8p0\\localcache\\local-packages\\python39\\site-packages (from tensorflow-intel==2.11.0->tensorflow->keras-rl2) (4.4.0)\n",
      "Requirement already satisfied: setuptools in c:\\program files\\windowsapps\\pythonsoftwarefoundation.python.3.9_3.9.3568.0_x64__qbz5n2kfra8p0\\lib\\site-packages (from tensorflow-intel==2.11.0->tensorflow->keras-rl2) (58.1.0)\n",
      "Requirement already satisfied: termcolor>=1.1.0 in c:\\users\\maxie\\appdata\\local\\packages\\pythonsoftwarefoundation.python.3.9_qbz5n2kfra8p0\\localcache\\local-packages\\python39\\site-packages (from tensorflow-intel==2.11.0->tensorflow->keras-rl2) (2.1.1)\n",
      "Requirement already satisfied: packaging in c:\\users\\maxie\\appdata\\local\\packages\\pythonsoftwarefoundation.python.3.9_qbz5n2kfra8p0\\localcache\\local-packages\\python39\\site-packages (from tensorflow-intel==2.11.0->tensorflow->keras-rl2) (20.9)\n",
      "Requirement already satisfied: flatbuffers>=2.0 in c:\\users\\maxie\\appdata\\local\\packages\\pythonsoftwarefoundation.python.3.9_qbz5n2kfra8p0\\localcache\\local-packages\\python39\\site-packages (from tensorflow-intel==2.11.0->tensorflow->keras-rl2) (22.11.23)\n",
      "Requirement already satisfied: keras<2.12,>=2.11.0 in c:\\users\\maxie\\appdata\\local\\packages\\pythonsoftwarefoundation.python.3.9_qbz5n2kfra8p0\\localcache\\local-packages\\python39\\site-packages (from tensorflow-intel==2.11.0->tensorflow->keras-rl2) (2.11.0)\n",
      "Requirement already satisfied: six>=1.12.0 in c:\\users\\maxie\\appdata\\local\\packages\\pythonsoftwarefoundation.python.3.9_qbz5n2kfra8p0\\localcache\\local-packages\\python39\\site-packages (from tensorflow-intel==2.11.0->tensorflow->keras-rl2) (1.15.0)\n",
      "Requirement already satisfied: numpy>=1.20 in c:\\users\\maxie\\appdata\\local\\packages\\pythonsoftwarefoundation.python.3.9_qbz5n2kfra8p0\\localcache\\local-packages\\python39\\site-packages (from tensorflow-intel==2.11.0->tensorflow->keras-rl2) (1.23.5)\n",
      "Requirement already satisfied: h5py>=2.9.0 in c:\\users\\maxie\\appdata\\local\\packages\\pythonsoftwarefoundation.python.3.9_qbz5n2kfra8p0\\localcache\\local-packages\\python39\\site-packages (from tensorflow-intel==2.11.0->tensorflow->keras-rl2) (3.7.0)\n",
      "Requirement already satisfied: tensorflow-io-gcs-filesystem>=0.23.1 in c:\\users\\maxie\\appdata\\local\\packages\\pythonsoftwarefoundation.python.3.9_qbz5n2kfra8p0\\localcache\\local-packages\\python39\\site-packages (from tensorflow-intel==2.11.0->tensorflow->keras-rl2) (0.28.0)\n",
      "Requirement already satisfied: libclang>=13.0.0 in c:\\users\\maxie\\appdata\\local\\packages\\pythonsoftwarefoundation.python.3.9_qbz5n2kfra8p0\\localcache\\local-packages\\python39\\site-packages (from tensorflow-intel==2.11.0->tensorflow->keras-rl2) (14.0.6)\n",
      "Requirement already satisfied: wrapt>=1.11.0 in c:\\users\\maxie\\appdata\\local\\packages\\pythonsoftwarefoundation.python.3.9_qbz5n2kfra8p0\\localcache\\local-packages\\python39\\site-packages (from tensorflow-intel==2.11.0->tensorflow->keras-rl2) (1.14.1)\n",
      "Requirement already satisfied: tensorflow-estimator<2.12,>=2.11.0 in c:\\users\\maxie\\appdata\\local\\packages\\pythonsoftwarefoundation.python.3.9_qbz5n2kfra8p0\\localcache\\local-packages\\python39\\site-packages (from tensorflow-intel==2.11.0->tensorflow->keras-rl2) (2.11.0)\n",
      "Requirement already satisfied: protobuf<3.20,>=3.9.2 in c:\\users\\maxie\\appdata\\local\\packages\\pythonsoftwarefoundation.python.3.9_qbz5n2kfra8p0\\localcache\\local-packages\\python39\\site-packages (from tensorflow-intel==2.11.0->tensorflow->keras-rl2) (3.19.6)\n",
      "Requirement already satisfied: wheel<1.0,>=0.23.0 in c:\\users\\maxie\\appdata\\local\\packages\\pythonsoftwarefoundation.python.3.9_qbz5n2kfra8p0\\localcache\\local-packages\\python39\\site-packages (from astunparse>=1.6.0->tensorflow-intel==2.11.0->tensorflow->keras-rl2) (0.38.4)\n",
      "Requirement already satisfied: tensorboard-data-server<0.7.0,>=0.6.0 in c:\\users\\maxie\\appdata\\local\\packages\\pythonsoftwarefoundation.python.3.9_qbz5n2kfra8p0\\localcache\\local-packages\\python39\\site-packages (from tensorboard<2.12,>=2.11->tensorflow-intel==2.11.0->tensorflow->keras-rl2) (0.6.1)\n",
      "Requirement already satisfied: werkzeug>=1.0.1 in c:\\users\\maxie\\appdata\\local\\packages\\pythonsoftwarefoundation.python.3.9_qbz5n2kfra8p0\\localcache\\local-packages\\python39\\site-packages (from tensorboard<2.12,>=2.11->tensorflow-intel==2.11.0->tensorflow->keras-rl2) (2.2.2)\n",
      "Requirement already satisfied: google-auth<3,>=1.6.3 in c:\\users\\maxie\\appdata\\local\\packages\\pythonsoftwarefoundation.python.3.9_qbz5n2kfra8p0\\localcache\\local-packages\\python39\\site-packages (from tensorboard<2.12,>=2.11->tensorflow-intel==2.11.0->tensorflow->keras-rl2) (2.14.1)\n",
      "Requirement already satisfied: markdown>=2.6.8 in c:\\users\\maxie\\appdata\\local\\packages\\pythonsoftwarefoundation.python.3.9_qbz5n2kfra8p0\\localcache\\local-packages\\python39\\site-packages (from tensorboard<2.12,>=2.11->tensorflow-intel==2.11.0->tensorflow->keras-rl2) (3.4.1)\n",
      "Requirement already satisfied: tensorboard-plugin-wit>=1.6.0 in c:\\users\\maxie\\appdata\\local\\packages\\pythonsoftwarefoundation.python.3.9_qbz5n2kfra8p0\\localcache\\local-packages\\python39\\site-packages (from tensorboard<2.12,>=2.11->tensorflow-intel==2.11.0->tensorflow->keras-rl2) (1.8.1)\n",
      "Requirement already satisfied: requests<3,>=2.21.0 in c:\\users\\maxie\\appdata\\local\\packages\\pythonsoftwarefoundation.python.3.9_qbz5n2kfra8p0\\localcache\\local-packages\\python39\\site-packages (from tensorboard<2.12,>=2.11->tensorflow-intel==2.11.0->tensorflow->keras-rl2) (2.28.1)\n",
      "Requirement already satisfied: google-auth-oauthlib<0.5,>=0.4.1 in c:\\users\\maxie\\appdata\\local\\packages\\pythonsoftwarefoundation.python.3.9_qbz5n2kfra8p0\\localcache\\local-packages\\python39\\site-packages (from tensorboard<2.12,>=2.11->tensorflow-intel==2.11.0->tensorflow->keras-rl2) (0.4.6)\n",
      "Requirement already satisfied: pyasn1-modules>=0.2.1 in c:\\users\\maxie\\appdata\\local\\packages\\pythonsoftwarefoundation.python.3.9_qbz5n2kfra8p0\\localcache\\local-packages\\python39\\site-packages (from google-auth<3,>=1.6.3->tensorboard<2.12,>=2.11->tensorflow-intel==2.11.0->tensorflow->keras-rl2) (0.2.8)\n",
      "Requirement already satisfied: rsa<5,>=3.1.4 in c:\\users\\maxie\\appdata\\local\\packages\\pythonsoftwarefoundation.python.3.9_qbz5n2kfra8p0\\localcache\\local-packages\\python39\\site-packages (from google-auth<3,>=1.6.3->tensorboard<2.12,>=2.11->tensorflow-intel==2.11.0->tensorflow->keras-rl2) (4.9)\n",
      "Requirement already satisfied: cachetools<6.0,>=2.0.0 in c:\\users\\maxie\\appdata\\local\\packages\\pythonsoftwarefoundation.python.3.9_qbz5n2kfra8p0\\localcache\\local-packages\\python39\\site-packages (from google-auth<3,>=1.6.3->tensorboard<2.12,>=2.11->tensorflow-intel==2.11.0->tensorflow->keras-rl2) (5.2.0)\n",
      "Requirement already satisfied: requests-oauthlib>=0.7.0 in c:\\users\\maxie\\appdata\\local\\packages\\pythonsoftwarefoundation.python.3.9_qbz5n2kfra8p0\\localcache\\local-packages\\python39\\site-packages (from google-auth-oauthlib<0.5,>=0.4.1->tensorboard<2.12,>=2.11->tensorflow-intel==2.11.0->tensorflow->keras-rl2) (1.3.1)\n",
      "Requirement already satisfied: importlib-metadata>=4.4 in c:\\users\\maxie\\appdata\\local\\packages\\pythonsoftwarefoundation.python.3.9_qbz5n2kfra8p0\\localcache\\local-packages\\python39\\site-packages (from markdown>=2.6.8->tensorboard<2.12,>=2.11->tensorflow-intel==2.11.0->tensorflow->keras-rl2) (5.1.0)\n",
      "Requirement already satisfied: zipp>=0.5 in c:\\users\\maxie\\appdata\\local\\packages\\pythonsoftwarefoundation.python.3.9_qbz5n2kfra8p0\\localcache\\local-packages\\python39\\site-packages (from importlib-metadata>=4.4->markdown>=2.6.8->tensorboard<2.12,>=2.11->tensorflow-intel==2.11.0->tensorflow->keras-rl2) (3.11.0)\n",
      "Requirement already satisfied: pyasn1<0.5.0,>=0.4.6 in c:\\users\\maxie\\appdata\\local\\packages\\pythonsoftwarefoundation.python.3.9_qbz5n2kfra8p0\\localcache\\local-packages\\python39\\site-packages (from pyasn1-modules>=0.2.1->google-auth<3,>=1.6.3->tensorboard<2.12,>=2.11->tensorflow-intel==2.11.0->tensorflow->keras-rl2) (0.4.8)\n",
      "Requirement already satisfied: urllib3<1.27,>=1.21.1 in c:\\users\\maxie\\appdata\\local\\packages\\pythonsoftwarefoundation.python.3.9_qbz5n2kfra8p0\\localcache\\local-packages\\python39\\site-packages (from requests<3,>=2.21.0->tensorboard<2.12,>=2.11->tensorflow-intel==2.11.0->tensorflow->keras-rl2) (1.26.13)\n",
      "Requirement already satisfied: charset-normalizer<3,>=2 in c:\\users\\maxie\\appdata\\local\\packages\\pythonsoftwarefoundation.python.3.9_qbz5n2kfra8p0\\localcache\\local-packages\\python39\\site-packages (from requests<3,>=2.21.0->tensorboard<2.12,>=2.11->tensorflow-intel==2.11.0->tensorflow->keras-rl2) (2.1.1)\n",
      "Requirement already satisfied: certifi>=2017.4.17 in c:\\users\\maxie\\appdata\\local\\packages\\pythonsoftwarefoundation.python.3.9_qbz5n2kfra8p0\\localcache\\local-packages\\python39\\site-packages (from requests<3,>=2.21.0->tensorboard<2.12,>=2.11->tensorflow-intel==2.11.0->tensorflow->keras-rl2) (2022.9.24)\n",
      "Requirement already satisfied: idna<4,>=2.5 in c:\\users\\maxie\\appdata\\local\\packages\\pythonsoftwarefoundation.python.3.9_qbz5n2kfra8p0\\localcache\\local-packages\\python39\\site-packages (from requests<3,>=2.21.0->tensorboard<2.12,>=2.11->tensorflow-intel==2.11.0->tensorflow->keras-rl2) (3.4)\n",
      "Requirement already satisfied: oauthlib>=3.0.0 in c:\\users\\maxie\\appdata\\local\\packages\\pythonsoftwarefoundation.python.3.9_qbz5n2kfra8p0\\localcache\\local-packages\\python39\\site-packages (from requests-oauthlib>=0.7.0->google-auth-oauthlib<0.5,>=0.4.1->tensorboard<2.12,>=2.11->tensorflow-intel==2.11.0->tensorflow->keras-rl2) (3.2.2)\n",
      "Requirement already satisfied: MarkupSafe>=2.1.1 in c:\\users\\maxie\\appdata\\local\\packages\\pythonsoftwarefoundation.python.3.9_qbz5n2kfra8p0\\localcache\\local-packages\\python39\\site-packages (from werkzeug>=1.0.1->tensorboard<2.12,>=2.11->tensorflow-intel==2.11.0->tensorflow->keras-rl2) (2.1.1)\n",
      "Requirement already satisfied: pyparsing>=2.0.2 in c:\\users\\maxie\\appdata\\local\\packages\\pythonsoftwarefoundation.python.3.9_qbz5n2kfra8p0\\localcache\\local-packages\\python39\\site-packages (from packaging->tensorflow-intel==2.11.0->tensorflow->keras-rl2) (2.4.7)\n"
     ]
    },
    {
     "name": "stderr",
     "output_type": "stream",
     "text": [
      "WARNING: You are using pip version 21.0.1; however, version 22.3.1 is available.\n",
      "You should consider upgrading via the 'C:\\Users\\maxie\\AppData\\Local\\Microsoft\\WindowsApps\\PythonSoftwareFoundation.Python.3.9_qbz5n2kfra8p0\\python.exe -m pip install --upgrade pip' command.\n"
     ]
    }
   ],
   "source": [
    "%run Scripts/Prepare.ipynb"
   ]
  },
  {
   "cell_type": "code",
   "execution_count": 2,
   "metadata": {},
   "outputs": [],
   "source": [
    "from keras.models import Sequential\n",
    "from keras.layers import Dense, Activation, Flatten\n",
    "\n",
    "from rl.policy import BoltzmannQPolicy"
   ]
  },
  {
   "cell_type": "code",
   "execution_count": 3,
   "metadata": {},
   "outputs": [],
   "source": [
    "trainstep = 1000000\n",
    "learningrate = 1e-3\n",
    "warmup = 100\n",
    "\n",
    "rewardHoch = 4\n",
    "rewardmult = 2\n",
    "alwaysReward = 0.000000001\n",
    "\n",
    "render = False\n",
    "\n",
    "verbose = 3000\n",
    "\n",
    "speed = 10\n",
    "\n",
    "loadfile = None\n",
    "savefile = \"BoltzSmall\""
   ]
  },
  {
   "cell_type": "code",
   "execution_count": 4,
   "metadata": {},
   "outputs": [
    {
     "name": "stdout",
     "output_type": "stream",
     "text": [
      "Model: \"sequential\"\n",
      "_________________________________________________________________\n",
      " Layer (type)                Output Shape              Param #   \n",
      "=================================================================\n",
      " dense (Dense)               (None, 1, 20, 10, 1)      2         \n",
      "                                                                 \n",
      " flatten (Flatten)           (None, 200)               0         \n",
      "                                                                 \n",
      " dense_1 (Dense)             (None, 100)               20100     \n",
      "                                                                 \n",
      " dense_2 (Dense)             (None, 200)               20200     \n",
      "                                                                 \n",
      " dense_3 (Dense)             (None, 100)               20100     \n",
      "                                                                 \n",
      " dense_4 (Dense)             (None, 5)                 505       \n",
      "                                                                 \n",
      "=================================================================\n",
      "Total params: 60,907\n",
      "Trainable params: 60,907\n",
      "Non-trainable params: 0\n",
      "_________________________________________________________________\n",
      "None\n"
     ]
    }
   ],
   "source": [
    "\n",
    "model =  Sequential([\n",
    "        Dense(1, activation='relu', input_shape=(1,20,10,1)),\n",
    "        Flatten(),\n",
    "        Dense(100, activation='relu'),\n",
    "        Dense(200, activation='relu'),\n",
    "        Dense(100, activation='relu'),\n",
    "        Dense(5, activation='relu'),\n",
    "    ])\n",
    "\n",
    "print(model.summary())\n",
    "    \n",
    "policy = BoltzmannQPolicy() "
   ]
  },
  {
   "cell_type": "code",
   "execution_count": 5,
   "metadata": {},
   "outputs": [
    {
     "name": "stdout",
     "output_type": "stream",
     "text": [
      "WARNING:tensorflow:From C:\\Users\\maxie\\AppData\\Local\\Packages\\PythonSoftwareFoundation.Python.3.9_qbz5n2kfra8p0\\LocalCache\\local-packages\\Python39\\site-packages\\tensorflow\\python\\autograph\\pyct\\static_analysis\\liveness.py:83: Analyzer.lamba_check (from tensorflow.python.autograph.pyct.static_analysis.liveness) is deprecated and will be removed after 2023-09-23.\n",
      "Instructions for updating:\n",
      "Lambda fuctions will be no more assumed to be used in the statement where they are used, or at least in the same block. https://github.com/tensorflow/tensorflow/issues/56089\n",
      "Training for 1000000 steps ...\n"
     ]
    },
    {
     "name": "stderr",
     "output_type": "stream",
     "text": [
      "C:\\Users\\maxie\\AppData\\Local\\Packages\\PythonSoftwareFoundation.Python.3.9_qbz5n2kfra8p0\\LocalCache\\local-packages\\Python39\\site-packages\\keras\\engine\\training_v1.py:2357: UserWarning: `Model.state_updates` will be removed in a future version. This property should not be used in TensorFlow 2.0, as `updates` are applied automatically.\n",
      "  updates=self.state_updates,\n"
     ]
    },
    {
     "name": "stdout",
     "output_type": "stream",
     "text": [
      "    507/1000000: episode: 1, duration: 18.253s, episode steps: 507, steps per second:  28, episode reward:  0.000, mean reward:  0.000 [ 0.000,  0.000], mean action: 1.953 [0.000, 4.000],  loss: 0.000265, mae: 0.140174, mean_q: 0.187419\n",
      "   1018/1000000: episode: 2, duration: 21.813s, episode steps: 511, steps per second:  23, episode reward:  0.000, mean reward:  0.000 [ 0.000,  0.000], mean action: 1.924 [0.000, 4.000],  loss: 0.000133, mae: 0.225107, mean_q: 0.290079\n",
      "   1643/1000000: episode: 3, duration: 28.203s, episode steps: 625, steps per second:  22, episode reward:  0.000, mean reward:  0.000 [ 0.000,  0.000], mean action: 1.987 [0.000, 4.000],  loss: 0.000187, mae: 0.250394, mean_q: 0.322175\n",
      "   2162/1000000: episode: 4, duration: 25.809s, episode steps: 519, steps per second:  20, episode reward:  0.000, mean reward:  0.000 [ 0.000,  0.000], mean action: 1.967 [0.000, 4.000],  loss: 0.000122, mae: 0.257731, mean_q: 0.328553\n",
      "   2605/1000000: episode: 5, duration: 25.382s, episode steps: 443, steps per second:  17, episode reward:  0.000, mean reward:  0.000 [ 0.000,  0.000], mean action: 2.007 [0.000, 4.000],  loss: 0.000104, mae: 0.249570, mean_q: 0.317275\n",
      "   3126/1000000: episode: 6, duration: 27.474s, episode steps: 521, steps per second:  19, episode reward:  0.000, mean reward:  0.000 [ 0.000,  0.000], mean action: 1.975 [0.000, 4.000],  loss: 0.000058, mae: 0.242345, mean_q: 0.307022\n",
      "   3819/1000000: episode: 7, duration: 38.441s, episode steps: 693, steps per second:  18, episode reward:  0.000, mean reward:  0.000 [ 0.000,  0.000], mean action: 2.010 [0.000, 4.000],  loss: 0.000050, mae: 0.240472, mean_q: 0.304815\n",
      "   4173/1000000: episode: 8, duration: 18.597s, episode steps: 354, steps per second:  19, episode reward:  0.000, mean reward:  0.000 [ 0.000,  0.000], mean action: 2.169 [0.000, 4.000],  loss: 0.000049, mae: 0.240357, mean_q: 0.304483\n",
      "   4646/1000000: episode: 9, duration: 24.146s, episode steps: 473, steps per second:  20, episode reward:  0.000, mean reward:  0.000 [ 0.000,  0.000], mean action: 2.008 [0.000, 4.000],  loss: 0.000058, mae: 0.234376, mean_q: 0.296468\n",
      "   5357/1000000: episode: 10, duration: 36.893s, episode steps: 711, steps per second:  19, episode reward:  0.000, mean reward:  0.000 [ 0.000,  0.000], mean action: 2.028 [0.000, 4.000],  loss: 0.000046, mae: 0.230872, mean_q: 0.291820\n",
      "line cleared\n",
      "   5973/1000000: episode: 11, duration: 33.113s, episode steps: 616, steps per second:  19, episode reward: 16.000, mean reward:  0.026 [ 0.000, 16.000], mean action: 2.029 [0.000, 4.000],  loss: 0.000056, mae: 0.229978, mean_q: 0.290793\n",
      "   6633/1000000: episode: 12, duration: 35.423s, episode steps: 660, steps per second:  19, episode reward:  0.000, mean reward:  0.000 [ 0.000,  0.000], mean action: 1.939 [0.000, 4.000],  loss: 0.000050, mae: 0.224437, mean_q: 0.284007\n",
      "   7143/1000000: episode: 13, duration: 29.858s, episode steps: 510, steps per second:  17, episode reward:  0.000, mean reward:  0.000 [ 0.000,  0.000], mean action: 1.994 [0.000, 4.000],  loss: 0.000052, mae: 0.219254, mean_q: 0.277349\n",
      "   7824/1000000: episode: 14, duration: 36.023s, episode steps: 681, steps per second:  19, episode reward:  0.000, mean reward:  0.000 [ 0.000,  0.000], mean action: 1.966 [0.000, 4.000],  loss: 0.000074, mae: 0.214439, mean_q: 0.272121\n",
      "   8469/1000000: episode: 15, duration: 36.200s, episode steps: 645, steps per second:  18, episode reward:  0.000, mean reward:  0.000 [ 0.000,  0.000], mean action: 1.913 [0.000, 4.000],  loss: 0.012544, mae: 0.220349, mean_q: 0.284261\n",
      "   9196/1000000: episode: 16, duration: 38.719s, episode steps: 727, steps per second:  19, episode reward:  0.000, mean reward:  0.000 [ 0.000,  0.000], mean action: 1.972 [0.000, 4.000],  loss: 0.028078, mae: 0.332554, mean_q: 0.437761\n",
      "   9748/1000000: episode: 17, duration: 29.335s, episode steps: 552, steps per second:  19, episode reward:  0.000, mean reward:  0.000 [ 0.000,  0.000], mean action: 1.920 [0.000, 4.000],  loss: 0.027925, mae: 0.420485, mean_q: 0.555770\n",
      "  10317/1000000: episode: 18, duration: 30.936s, episode steps: 569, steps per second:  18, episode reward:  0.000, mean reward:  0.000 [ 0.000,  0.000], mean action: 1.968 [0.000, 4.000],  loss: 0.029853, mae: 0.535352, mean_q: 0.701347\n",
      "  10940/1000000: episode: 19, duration: 33.732s, episode steps: 623, steps per second:  18, episode reward:  0.000, mean reward:  0.000 [ 0.000,  0.000], mean action: 2.071 [0.000, 4.000],  loss: 0.031067, mae: 0.655819, mean_q: 0.850534\n",
      "  11554/1000000: episode: 20, duration: 33.133s, episode steps: 614, steps per second:  19, episode reward:  0.000, mean reward:  0.000 [ 0.000,  0.000], mean action: 2.023 [0.000, 4.000],  loss: 0.048863, mae: 0.719127, mean_q: 0.922082\n",
      "  11980/1000000: episode: 21, duration: 23.811s, episode steps: 426, steps per second:  18, episode reward:  0.000, mean reward:  0.000 [ 0.000,  0.000], mean action: 2.045 [0.000, 4.000],  loss: 0.015420, mae: 0.759198, mean_q: 0.969981\n",
      "  12499/1000000: episode: 22, duration: 28.694s, episode steps: 519, steps per second:  18, episode reward:  0.000, mean reward:  0.000 [ 0.000,  0.000], mean action: 2.008 [0.000, 4.000],  loss: 0.016998, mae: 0.793469, mean_q: 1.012604\n",
      "  13006/1000000: episode: 23, duration: 29.034s, episode steps: 507, steps per second:  17, episode reward:  0.000, mean reward:  0.000 [ 0.000,  0.000], mean action: 2.116 [0.000, 4.000],  loss: 0.015841, mae: 0.809783, mean_q: 1.030056\n",
      "  13433/1000000: episode: 24, duration: 22.902s, episode steps: 427, steps per second:  19, episode reward:  0.000, mean reward:  0.000 [ 0.000,  0.000], mean action: 1.995 [0.000, 4.000],  loss: 0.022286, mae: 0.837845, mean_q: 1.067340\n",
      "  14098/1000000: episode: 25, duration: 42.659s, episode steps: 665, steps per second:  16, episode reward:  0.000, mean reward:  0.000 [ 0.000,  0.000], mean action: 1.898 [0.000, 4.000],  loss: 0.026263, mae: 0.863000, mean_q: 1.100275\n",
      "  14595/1000000: episode: 26, duration: 31.977s, episode steps: 497, steps per second:  16, episode reward:  0.000, mean reward:  0.000 [ 0.000,  0.000], mean action: 1.956 [0.000, 4.000],  loss: 0.019053, mae: 0.898136, mean_q: 1.150104\n",
      "  15111/1000000: episode: 27, duration: 31.619s, episode steps: 516, steps per second:  16, episode reward:  0.000, mean reward:  0.000 [ 0.000,  0.000], mean action: 1.984 [0.000, 4.000],  loss: 0.058511, mae: 1.024928, mean_q: 1.322129\n",
      "  15823/1000000: episode: 28, duration: 42.781s, episode steps: 712, steps per second:  17, episode reward:  0.000, mean reward:  0.000 [ 0.000,  0.000], mean action: 1.949 [0.000, 4.000],  loss: 0.258603, mae: 1.240643, mean_q: 1.602608\n",
      "  16479/1000000: episode: 29, duration: 39.270s, episode steps: 656, steps per second:  17, episode reward:  0.000, mean reward:  0.000 [ 0.000,  0.000], mean action: 2.069 [0.000, 4.000],  loss: 0.547655, mae: 1.505787, mean_q: 1.959191\n",
      "  16983/1000000: episode: 30, duration: 31.019s, episode steps: 504, steps per second:  16, episode reward:  0.000, mean reward:  0.000 [ 0.000,  0.000], mean action: 2.000 [0.000, 4.000],  loss: 0.571515, mae: 1.788312, mean_q: 2.311279\n",
      "  17548/1000000: episode: 31, duration: 34.012s, episode steps: 565, steps per second:  17, episode reward:  0.000, mean reward:  0.000 [ 0.000,  0.000], mean action: 2.030 [0.000, 4.000],  loss: 0.632975, mae: 2.097911, mean_q: 2.701100\n",
      "  18258/1000000: episode: 32, duration: 42.717s, episode steps: 710, steps per second:  17, episode reward:  0.000, mean reward:  0.000 [ 0.000,  0.000], mean action: 1.887 [0.000, 4.000],  loss: 0.727168, mae: 2.457820, mean_q: 3.166136\n",
      "  18693/1000000: episode: 33, duration: 25.596s, episode steps: 435, steps per second:  17, episode reward:  0.000, mean reward:  0.000 [ 0.000,  0.000], mean action: 2.087 [0.000, 4.000],  loss: 0.496785, mae: 2.807174, mean_q: 3.603438\n",
      "  19235/1000000: episode: 34, duration: 31.460s, episode steps: 542, steps per second:  17, episode reward:  0.000, mean reward:  0.000 [ 0.000,  0.000], mean action: 2.092 [0.000, 4.000],  loss: 0.264116, mae: 3.026697, mean_q: 3.860464\n",
      "  19713/1000000: episode: 35, duration: 29.068s, episode steps: 478, steps per second:  16, episode reward:  0.000, mean reward:  0.000 [ 0.000,  0.000], mean action: 1.950 [0.000, 4.000],  loss: 0.611213, mae: 3.407693, mean_q: 4.348058\n",
      "  20407/1000000: episode: 36, duration: 42.788s, episode steps: 694, steps per second:  16, episode reward:  0.000, mean reward:  0.000 [ 0.000,  0.000], mean action: 2.004 [0.000, 4.000],  loss: 0.547316, mae: 3.668260, mean_q: 4.691061\n",
      "  20982/1000000: episode: 37, duration: 33.377s, episode steps: 575, steps per second:  17, episode reward:  0.000, mean reward:  0.000 [ 0.000,  0.000], mean action: 2.010 [0.000, 4.000],  loss: 0.614198, mae: 3.894408, mean_q: 4.981556\n",
      "  21505/1000000: episode: 38, duration: 32.383s, episode steps: 523, steps per second:  16, episode reward:  0.000, mean reward:  0.000 [ 0.000,  0.000], mean action: 2.000 [0.000, 4.000],  loss: 0.793496, mae: 4.219897, mean_q: 5.394411\n",
      "  22067/1000000: episode: 39, duration: 34.263s, episode steps: 562, steps per second:  16, episode reward:  0.000, mean reward:  0.000 [ 0.000,  0.000], mean action: 1.936 [0.000, 4.000],  loss: 0.851306, mae: 4.479328, mean_q: 5.718735\n",
      "  22547/1000000: episode: 40, duration: 30.668s, episode steps: 480, steps per second:  16, episode reward:  0.000, mean reward:  0.000 [ 0.000,  0.000], mean action: 2.119 [0.000, 4.000],  loss: 0.366982, mae: 4.631685, mean_q: 5.871115\n",
      "  23160/1000000: episode: 41, duration: 37.341s, episode steps: 613, steps per second:  16, episode reward:  0.000, mean reward:  0.000 [ 0.000,  0.000], mean action: 2.042 [0.000, 4.000],  loss: 0.629257, mae: 4.894557, mean_q: 6.234970\n",
      "  23794/1000000: episode: 42, duration: 37.572s, episode steps: 634, steps per second:  17, episode reward:  0.000, mean reward:  0.000 [ 0.000,  0.000], mean action: 2.017 [0.000, 4.000],  loss: 0.925126, mae: 5.174391, mean_q: 6.612380\n",
      "  24427/1000000: episode: 43, duration: 39.705s, episode steps: 633, steps per second:  16, episode reward:  0.000, mean reward:  0.000 [ 0.000,  0.000], mean action: 1.951 [0.000, 4.000],  loss: 0.562150, mae: 5.471008, mean_q: 6.934109\n",
      "  24873/1000000: episode: 44, duration: 26.407s, episode steps: 446, steps per second:  17, episode reward:  0.000, mean reward:  0.000 [ 0.000,  0.000], mean action: 2.016 [0.000, 4.000],  loss: 0.443324, mae: 5.649108, mean_q: 7.147827\n",
      "  25353/1000000: episode: 45, duration: 27.755s, episode steps: 480, steps per second:  17, episode reward:  0.000, mean reward:  0.000 [ 0.000,  0.000], mean action: 2.069 [0.000, 4.000],  loss: 0.462302, mae: 5.845465, mean_q: 7.395118\n"
     ]
    }
   ],
   "source": [
    "%run Scripts/ScriptBase.ipynb"
   ]
  }
 ],
 "metadata": {
  "kernelspec": {
   "display_name": "Python 3.9.13 64-bit (microsoft store)",
   "language": "python",
   "name": "python3"
  },
  "language_info": {
   "codemirror_mode": {
    "name": "ipython",
    "version": 3
   },
   "file_extension": ".py",
   "mimetype": "text/x-python",
   "name": "python",
   "nbconvert_exporter": "python",
   "pygments_lexer": "ipython3",
   "version": "3.9.13"
  },
  "orig_nbformat": 4,
  "vscode": {
   "interpreter": {
    "hash": "f4bbdff7cc7fa638b219fc0c8cef6f1b11f01eaec5f56662ef273699e3711f2e"
   }
  }
 },
 "nbformat": 4,
 "nbformat_minor": 2
}
