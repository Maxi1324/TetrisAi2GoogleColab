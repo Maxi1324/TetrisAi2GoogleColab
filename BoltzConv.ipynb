{
 "cells": [
  {
   "cell_type": "code",
   "execution_count": 1,
   "metadata": {},
   "outputs": [
    {
     "name": "stdout",
     "output_type": "stream",
     "text": [
      "Requirement already satisfied: gym in c:\\users\\maxie\\appdata\\local\\packages\\pythonsoftwarefoundation.python.3.9_qbz5n2kfra8p0\\localcache\\local-packages\\python39\\site-packages (0.26.2)\n",
      "Requirement already satisfied: gym-notices>=0.0.4 in c:\\users\\maxie\\appdata\\local\\packages\\pythonsoftwarefoundation.python.3.9_qbz5n2kfra8p0\\localcache\\local-packages\\python39\\site-packages (from gym) (0.0.8)\n",
      "Requirement already satisfied: numpy>=1.18.0 in c:\\users\\maxie\\appdata\\local\\packages\\pythonsoftwarefoundation.python.3.9_qbz5n2kfra8p0\\localcache\\local-packages\\python39\\site-packages (from gym) (1.23.5)\n",
      "Requirement already satisfied: cloudpickle>=1.2.0 in c:\\users\\maxie\\appdata\\local\\packages\\pythonsoftwarefoundation.python.3.9_qbz5n2kfra8p0\\localcache\\local-packages\\python39\\site-packages (from gym) (2.2.0)\n",
      "Requirement already satisfied: importlib-metadata>=4.8.0 in c:\\users\\maxie\\appdata\\local\\packages\\pythonsoftwarefoundation.python.3.9_qbz5n2kfra8p0\\localcache\\local-packages\\python39\\site-packages (from gym) (5.1.0)\n",
      "Requirement already satisfied: zipp>=0.5 in c:\\users\\maxie\\appdata\\local\\packages\\pythonsoftwarefoundation.python.3.9_qbz5n2kfra8p0\\localcache\\local-packages\\python39\\site-packages (from importlib-metadata>=4.8.0->gym) (3.11.0)\n"
     ]
    },
    {
     "name": "stderr",
     "output_type": "stream",
     "text": [
      "WARNING: You are using pip version 21.0.1; however, version 22.3.1 is available.\n",
      "You should consider upgrading via the 'C:\\Users\\maxie\\AppData\\Local\\Microsoft\\WindowsApps\\PythonSoftwareFoundation.Python.3.9_qbz5n2kfra8p0\\python.exe -m pip install --upgrade pip' command.\n"
     ]
    },
    {
     "name": "stdout",
     "output_type": "stream",
     "text": [
      "Requirement already satisfied: pygame in c:\\users\\maxie\\appdata\\local\\packages\\pythonsoftwarefoundation.python.3.9_qbz5n2kfra8p0\\localcache\\local-packages\\python39\\site-packages (2.1.2)\n"
     ]
    },
    {
     "name": "stderr",
     "output_type": "stream",
     "text": [
      "WARNING: You are using pip version 21.0.1; however, version 22.3.1 is available.\n",
      "You should consider upgrading via the 'C:\\Users\\maxie\\AppData\\Local\\Microsoft\\WindowsApps\\PythonSoftwareFoundation.Python.3.9_qbz5n2kfra8p0\\python.exe -m pip install --upgrade pip' command.\n"
     ]
    },
    {
     "name": "stdout",
     "output_type": "stream",
     "text": [
      "Requirement already satisfied: numpy in c:\\users\\maxie\\appdata\\local\\packages\\pythonsoftwarefoundation.python.3.9_qbz5n2kfra8p0\\localcache\\local-packages\\python39\\site-packages (1.23.5)\n"
     ]
    },
    {
     "name": "stderr",
     "output_type": "stream",
     "text": [
      "WARNING: You are using pip version 21.0.1; however, version 22.3.1 is available.\n",
      "You should consider upgrading via the 'C:\\Users\\maxie\\AppData\\Local\\Microsoft\\WindowsApps\\PythonSoftwareFoundation.Python.3.9_qbz5n2kfra8p0\\python.exe -m pip install --upgrade pip' command.\n",
      "WARNING: You are using pip version 21.0.1; however, version 22.3.1 is available.\n",
      "You should consider upgrading via the 'C:\\Users\\maxie\\AppData\\Local\\Microsoft\\WindowsApps\\PythonSoftwareFoundation.Python.3.9_qbz5n2kfra8p0\\python.exe -m pip install --upgrade pip' command.\n"
     ]
    },
    {
     "name": "stdout",
     "output_type": "stream",
     "text": [
      "Requirement already satisfied: keras-rl2 in c:\\users\\maxie\\appdata\\local\\packages\\pythonsoftwarefoundation.python.3.9_qbz5n2kfra8p0\\localcache\\local-packages\\python39\\site-packages (1.0.5)\n",
      "Requirement already satisfied: tensorflow in c:\\users\\maxie\\appdata\\local\\packages\\pythonsoftwarefoundation.python.3.9_qbz5n2kfra8p0\\localcache\\local-packages\\python39\\site-packages (from keras-rl2) (2.11.0)\n",
      "Requirement already satisfied: tensorflow-intel==2.11.0 in c:\\users\\maxie\\appdata\\local\\packages\\pythonsoftwarefoundation.python.3.9_qbz5n2kfra8p0\\localcache\\local-packages\\python39\\site-packages (from tensorflow->keras-rl2) (2.11.0)\n",
      "Requirement already satisfied: absl-py>=1.0.0 in c:\\users\\maxie\\appdata\\local\\packages\\pythonsoftwarefoundation.python.3.9_qbz5n2kfra8p0\\localcache\\local-packages\\python39\\site-packages (from tensorflow-intel==2.11.0->tensorflow->keras-rl2) (1.3.0)\n",
      "Requirement already satisfied: termcolor>=1.1.0 in c:\\users\\maxie\\appdata\\local\\packages\\pythonsoftwarefoundation.python.3.9_qbz5n2kfra8p0\\localcache\\local-packages\\python39\\site-packages (from tensorflow-intel==2.11.0->tensorflow->keras-rl2) (2.1.1)\n",
      "Requirement already satisfied: six>=1.12.0 in c:\\users\\maxie\\appdata\\local\\packages\\pythonsoftwarefoundation.python.3.9_qbz5n2kfra8p0\\localcache\\local-packages\\python39\\site-packages (from tensorflow-intel==2.11.0->tensorflow->keras-rl2) (1.15.0)\n",
      "Requirement already satisfied: tensorboard<2.12,>=2.11 in c:\\users\\maxie\\appdata\\local\\packages\\pythonsoftwarefoundation.python.3.9_qbz5n2kfra8p0\\localcache\\local-packages\\python39\\site-packages (from tensorflow-intel==2.11.0->tensorflow->keras-rl2) (2.11.0)\n",
      "Requirement already satisfied: gast<=0.4.0,>=0.2.1 in c:\\users\\maxie\\appdata\\local\\packages\\pythonsoftwarefoundation.python.3.9_qbz5n2kfra8p0\\localcache\\local-packages\\python39\\site-packages (from tensorflow-intel==2.11.0->tensorflow->keras-rl2) (0.4.0)\n",
      "Requirement already satisfied: astunparse>=1.6.0 in c:\\users\\maxie\\appdata\\local\\packages\\pythonsoftwarefoundation.python.3.9_qbz5n2kfra8p0\\localcache\\local-packages\\python39\\site-packages (from tensorflow-intel==2.11.0->tensorflow->keras-rl2) (1.6.3)\n",
      "Requirement already satisfied: wrapt>=1.11.0 in c:\\users\\maxie\\appdata\\local\\packages\\pythonsoftwarefoundation.python.3.9_qbz5n2kfra8p0\\localcache\\local-packages\\python39\\site-packages (from tensorflow-intel==2.11.0->tensorflow->keras-rl2) (1.14.1)\n",
      "Requirement already satisfied: grpcio<2.0,>=1.24.3 in c:\\users\\maxie\\appdata\\local\\packages\\pythonsoftwarefoundation.python.3.9_qbz5n2kfra8p0\\localcache\\local-packages\\python39\\site-packages (from tensorflow-intel==2.11.0->tensorflow->keras-rl2) (1.51.1)\n",
      "Requirement already satisfied: keras<2.12,>=2.11.0 in c:\\users\\maxie\\appdata\\local\\packages\\pythonsoftwarefoundation.python.3.9_qbz5n2kfra8p0\\localcache\\local-packages\\python39\\site-packages (from tensorflow-intel==2.11.0->tensorflow->keras-rl2) (2.11.0)\n",
      "Requirement already satisfied: tensorflow-estimator<2.12,>=2.11.0 in c:\\users\\maxie\\appdata\\local\\packages\\pythonsoftwarefoundation.python.3.9_qbz5n2kfra8p0\\localcache\\local-packages\\python39\\site-packages (from tensorflow-intel==2.11.0->tensorflow->keras-rl2) (2.11.0)\n",
      "Requirement already satisfied: packaging in c:\\users\\maxie\\appdata\\local\\packages\\pythonsoftwarefoundation.python.3.9_qbz5n2kfra8p0\\localcache\\local-packages\\python39\\site-packages (from tensorflow-intel==2.11.0->tensorflow->keras-rl2) (20.9)\n",
      "Requirement already satisfied: opt-einsum>=2.3.2 in c:\\users\\maxie\\appdata\\local\\packages\\pythonsoftwarefoundation.python.3.9_qbz5n2kfra8p0\\localcache\\local-packages\\python39\\site-packages (from tensorflow-intel==2.11.0->tensorflow->keras-rl2) (3.3.0)\n",
      "Requirement already satisfied: flatbuffers>=2.0 in c:\\users\\maxie\\appdata\\local\\packages\\pythonsoftwarefoundation.python.3.9_qbz5n2kfra8p0\\localcache\\local-packages\\python39\\site-packages (from tensorflow-intel==2.11.0->tensorflow->keras-rl2) (22.11.23)\n",
      "Requirement already satisfied: typing-extensions>=3.6.6 in c:\\users\\maxie\\appdata\\local\\packages\\pythonsoftwarefoundation.python.3.9_qbz5n2kfra8p0\\localcache\\local-packages\\python39\\site-packages (from tensorflow-intel==2.11.0->tensorflow->keras-rl2) (4.4.0)\n",
      "Requirement already satisfied: setuptools in c:\\program files\\windowsapps\\pythonsoftwarefoundation.python.3.9_3.9.3568.0_x64__qbz5n2kfra8p0\\lib\\site-packages (from tensorflow-intel==2.11.0->tensorflow->keras-rl2) (58.1.0)\n",
      "Requirement already satisfied: numpy>=1.20 in c:\\users\\maxie\\appdata\\local\\packages\\pythonsoftwarefoundation.python.3.9_qbz5n2kfra8p0\\localcache\\local-packages\\python39\\site-packages (from tensorflow-intel==2.11.0->tensorflow->keras-rl2) (1.23.5)\n",
      "Requirement already satisfied: tensorflow-io-gcs-filesystem>=0.23.1 in c:\\users\\maxie\\appdata\\local\\packages\\pythonsoftwarefoundation.python.3.9_qbz5n2kfra8p0\\localcache\\local-packages\\python39\\site-packages (from tensorflow-intel==2.11.0->tensorflow->keras-rl2) (0.28.0)\n",
      "Requirement already satisfied: protobuf<3.20,>=3.9.2 in c:\\users\\maxie\\appdata\\local\\packages\\pythonsoftwarefoundation.python.3.9_qbz5n2kfra8p0\\localcache\\local-packages\\python39\\site-packages (from tensorflow-intel==2.11.0->tensorflow->keras-rl2) (3.19.6)\n",
      "Requirement already satisfied: libclang>=13.0.0 in c:\\users\\maxie\\appdata\\local\\packages\\pythonsoftwarefoundation.python.3.9_qbz5n2kfra8p0\\localcache\\local-packages\\python39\\site-packages (from tensorflow-intel==2.11.0->tensorflow->keras-rl2) (14.0.6)\n",
      "Requirement already satisfied: google-pasta>=0.1.1 in c:\\users\\maxie\\appdata\\local\\packages\\pythonsoftwarefoundation.python.3.9_qbz5n2kfra8p0\\localcache\\local-packages\\python39\\site-packages (from tensorflow-intel==2.11.0->tensorflow->keras-rl2) (0.2.0)\n",
      "Requirement already satisfied: h5py>=2.9.0 in c:\\users\\maxie\\appdata\\local\\packages\\pythonsoftwarefoundation.python.3.9_qbz5n2kfra8p0\\localcache\\local-packages\\python39\\site-packages (from tensorflow-intel==2.11.0->tensorflow->keras-rl2) (3.7.0)\n",
      "Requirement already satisfied: wheel<1.0,>=0.23.0 in c:\\users\\maxie\\appdata\\local\\packages\\pythonsoftwarefoundation.python.3.9_qbz5n2kfra8p0\\localcache\\local-packages\\python39\\site-packages (from astunparse>=1.6.0->tensorflow-intel==2.11.0->tensorflow->keras-rl2) (0.38.4)\n",
      "Requirement already satisfied: tensorboard-data-server<0.7.0,>=0.6.0 in c:\\users\\maxie\\appdata\\local\\packages\\pythonsoftwarefoundation.python.3.9_qbz5n2kfra8p0\\localcache\\local-packages\\python39\\site-packages (from tensorboard<2.12,>=2.11->tensorflow-intel==2.11.0->tensorflow->keras-rl2) (0.6.1)\n",
      "Requirement already satisfied: tensorboard-plugin-wit>=1.6.0 in c:\\users\\maxie\\appdata\\local\\packages\\pythonsoftwarefoundation.python.3.9_qbz5n2kfra8p0\\localcache\\local-packages\\python39\\site-packages (from tensorboard<2.12,>=2.11->tensorflow-intel==2.11.0->tensorflow->keras-rl2) (1.8.1)\n",
      "Requirement already satisfied: werkzeug>=1.0.1 in c:\\users\\maxie\\appdata\\local\\packages\\pythonsoftwarefoundation.python.3.9_qbz5n2kfra8p0\\localcache\\local-packages\\python39\\site-packages (from tensorboard<2.12,>=2.11->tensorflow-intel==2.11.0->tensorflow->keras-rl2) (2.2.2)\n",
      "Requirement already satisfied: google-auth<3,>=1.6.3 in c:\\users\\maxie\\appdata\\local\\packages\\pythonsoftwarefoundation.python.3.9_qbz5n2kfra8p0\\localcache\\local-packages\\python39\\site-packages (from tensorboard<2.12,>=2.11->tensorflow-intel==2.11.0->tensorflow->keras-rl2) (2.14.1)\n",
      "Requirement already satisfied: google-auth-oauthlib<0.5,>=0.4.1 in c:\\users\\maxie\\appdata\\local\\packages\\pythonsoftwarefoundation.python.3.9_qbz5n2kfra8p0\\localcache\\local-packages\\python39\\site-packages (from tensorboard<2.12,>=2.11->tensorflow-intel==2.11.0->tensorflow->keras-rl2) (0.4.6)\n",
      "Requirement already satisfied: requests<3,>=2.21.0 in c:\\users\\maxie\\appdata\\local\\packages\\pythonsoftwarefoundation.python.3.9_qbz5n2kfra8p0\\localcache\\local-packages\\python39\\site-packages (from tensorboard<2.12,>=2.11->tensorflow-intel==2.11.0->tensorflow->keras-rl2) (2.28.1)\n",
      "Requirement already satisfied: markdown>=2.6.8 in c:\\users\\maxie\\appdata\\local\\packages\\pythonsoftwarefoundation.python.3.9_qbz5n2kfra8p0\\localcache\\local-packages\\python39\\site-packages (from tensorboard<2.12,>=2.11->tensorflow-intel==2.11.0->tensorflow->keras-rl2) (3.4.1)\n",
      "Requirement already satisfied: cachetools<6.0,>=2.0.0 in c:\\users\\maxie\\appdata\\local\\packages\\pythonsoftwarefoundation.python.3.9_qbz5n2kfra8p0\\localcache\\local-packages\\python39\\site-packages (from google-auth<3,>=1.6.3->tensorboard<2.12,>=2.11->tensorflow-intel==2.11.0->tensorflow->keras-rl2) (5.2.0)\n",
      "Requirement already satisfied: pyasn1-modules>=0.2.1 in c:\\users\\maxie\\appdata\\local\\packages\\pythonsoftwarefoundation.python.3.9_qbz5n2kfra8p0\\localcache\\local-packages\\python39\\site-packages (from google-auth<3,>=1.6.3->tensorboard<2.12,>=2.11->tensorflow-intel==2.11.0->tensorflow->keras-rl2) (0.2.8)\n",
      "Requirement already satisfied: rsa<5,>=3.1.4 in c:\\users\\maxie\\appdata\\local\\packages\\pythonsoftwarefoundation.python.3.9_qbz5n2kfra8p0\\localcache\\local-packages\\python39\\site-packages (from google-auth<3,>=1.6.3->tensorboard<2.12,>=2.11->tensorflow-intel==2.11.0->tensorflow->keras-rl2) (4.9)\n",
      "Requirement already satisfied: requests-oauthlib>=0.7.0 in c:\\users\\maxie\\appdata\\local\\packages\\pythonsoftwarefoundation.python.3.9_qbz5n2kfra8p0\\localcache\\local-packages\\python39\\site-packages (from google-auth-oauthlib<0.5,>=0.4.1->tensorboard<2.12,>=2.11->tensorflow-intel==2.11.0->tensorflow->keras-rl2) (1.3.1)\n",
      "Requirement already satisfied: importlib-metadata>=4.4 in c:\\users\\maxie\\appdata\\local\\packages\\pythonsoftwarefoundation.python.3.9_qbz5n2kfra8p0\\localcache\\local-packages\\python39\\site-packages (from markdown>=2.6.8->tensorboard<2.12,>=2.11->tensorflow-intel==2.11.0->tensorflow->keras-rl2) (5.1.0)\n",
      "Requirement already satisfied: zipp>=0.5 in c:\\users\\maxie\\appdata\\local\\packages\\pythonsoftwarefoundation.python.3.9_qbz5n2kfra8p0\\localcache\\local-packages\\python39\\site-packages (from importlib-metadata>=4.4->markdown>=2.6.8->tensorboard<2.12,>=2.11->tensorflow-intel==2.11.0->tensorflow->keras-rl2) (3.11.0)\n",
      "Requirement already satisfied: pyasn1<0.5.0,>=0.4.6 in c:\\users\\maxie\\appdata\\local\\packages\\pythonsoftwarefoundation.python.3.9_qbz5n2kfra8p0\\localcache\\local-packages\\python39\\site-packages (from pyasn1-modules>=0.2.1->google-auth<3,>=1.6.3->tensorboard<2.12,>=2.11->tensorflow-intel==2.11.0->tensorflow->keras-rl2) (0.4.8)\n",
      "Requirement already satisfied: idna<4,>=2.5 in c:\\users\\maxie\\appdata\\local\\packages\\pythonsoftwarefoundation.python.3.9_qbz5n2kfra8p0\\localcache\\local-packages\\python39\\site-packages (from requests<3,>=2.21.0->tensorboard<2.12,>=2.11->tensorflow-intel==2.11.0->tensorflow->keras-rl2) (3.4)\n",
      "Requirement already satisfied: certifi>=2017.4.17 in c:\\users\\maxie\\appdata\\local\\packages\\pythonsoftwarefoundation.python.3.9_qbz5n2kfra8p0\\localcache\\local-packages\\python39\\site-packages (from requests<3,>=2.21.0->tensorboard<2.12,>=2.11->tensorflow-intel==2.11.0->tensorflow->keras-rl2) (2022.9.24)\n",
      "Requirement already satisfied: urllib3<1.27,>=1.21.1 in c:\\users\\maxie\\appdata\\local\\packages\\pythonsoftwarefoundation.python.3.9_qbz5n2kfra8p0\\localcache\\local-packages\\python39\\site-packages (from requests<3,>=2.21.0->tensorboard<2.12,>=2.11->tensorflow-intel==2.11.0->tensorflow->keras-rl2) (1.26.13)\n",
      "Requirement already satisfied: charset-normalizer<3,>=2 in c:\\users\\maxie\\appdata\\local\\packages\\pythonsoftwarefoundation.python.3.9_qbz5n2kfra8p0\\localcache\\local-packages\\python39\\site-packages (from requests<3,>=2.21.0->tensorboard<2.12,>=2.11->tensorflow-intel==2.11.0->tensorflow->keras-rl2) (2.1.1)\n",
      "Requirement already satisfied: oauthlib>=3.0.0 in c:\\users\\maxie\\appdata\\local\\packages\\pythonsoftwarefoundation.python.3.9_qbz5n2kfra8p0\\localcache\\local-packages\\python39\\site-packages (from requests-oauthlib>=0.7.0->google-auth-oauthlib<0.5,>=0.4.1->tensorboard<2.12,>=2.11->tensorflow-intel==2.11.0->tensorflow->keras-rl2) (3.2.2)\n",
      "Requirement already satisfied: MarkupSafe>=2.1.1 in c:\\users\\maxie\\appdata\\local\\packages\\pythonsoftwarefoundation.python.3.9_qbz5n2kfra8p0\\localcache\\local-packages\\python39\\site-packages (from werkzeug>=1.0.1->tensorboard<2.12,>=2.11->tensorflow-intel==2.11.0->tensorflow->keras-rl2) (2.1.1)\n",
      "Requirement already satisfied: pyparsing>=2.0.2 in c:\\users\\maxie\\appdata\\local\\packages\\pythonsoftwarefoundation.python.3.9_qbz5n2kfra8p0\\localcache\\local-packages\\python39\\site-packages (from packaging->tensorflow-intel==2.11.0->tensorflow->keras-rl2) (2.4.7)\n"
     ]
    }
   ],
   "source": [
    "%run Scripts/Prepare.ipynb"
   ]
  },
  {
   "cell_type": "code",
   "execution_count": 2,
   "metadata": {},
   "outputs": [],
   "source": [
    "from keras.models import Sequential\n",
    "from keras.layers import Dense, Activation, Flatten,Convolution2D\n",
    "\n",
    "from rl.policy import BoltzmannQPolicy"
   ]
  },
  {
   "cell_type": "code",
   "execution_count": 3,
   "metadata": {},
   "outputs": [],
   "source": [
    "trainstep = 1000000\n",
    "learningrate = 1e-3\n",
    "warmup = 100\n",
    "\n",
    "rewardHoch = 4\n",
    "rewardmult = 2\n",
    "alwaysReward = 0.000000001\n",
    "\n",
    "render = False\n",
    "\n",
    "verbose = 3000\n",
    "\n",
    "speed = 10\n",
    "\n",
    "loadfile = None\n",
    "savefile = \"BolzConvolutional\""
   ]
  },
  {
   "cell_type": "code",
   "execution_count": 4,
   "metadata": {},
   "outputs": [
    {
     "name": "stdout",
     "output_type": "stream",
     "text": [
      "Model: \"sequential\"\n",
      "_________________________________________________________________\n",
      " Layer (type)                Output Shape              Param #   \n",
      "=================================================================\n",
      " conv2d (Conv2D)             (None, 1, 20, 10, 32)     64        \n",
      "                                                                 \n",
      " conv2d_1 (Conv2D)           (None, 1, 20, 10, 64)     2112      \n",
      "                                                                 \n",
      " conv2d_2 (Conv2D)           (None, 1, 20, 10, 64)     4160      \n",
      "                                                                 \n",
      " flatten (Flatten)           (None, 12800)             0         \n",
      "                                                                 \n",
      " dense (Dense)               (None, 150)               1920150   \n",
      "                                                                 \n",
      " dense_1 (Dense)             (None, 50)                7550      \n",
      "                                                                 \n",
      " dense_2 (Dense)             (None, 5)                 255       \n",
      "                                                                 \n",
      "=================================================================\n",
      "Total params: 1,934,291\n",
      "Trainable params: 1,934,291\n",
      "Non-trainable params: 0\n",
      "_________________________________________________________________\n",
      "None\n"
     ]
    }
   ],
   "source": [
    "\n",
    "model =  Sequential([\n",
    "        Convolution2D(32,(1,1),activation=\"relu\",input_shape=(1,20,10,1)),\n",
    "        Convolution2D(64,(1,1),activation=\"relu\",input_shape=(1,20,10,1)),\n",
    "        Convolution2D(64,(1,1),activation=\"relu\",input_shape=(1,20,10,1)),\n",
    "        Flatten(),\n",
    "        Dense(150, activation='relu'),\n",
    "        Dense(50, activation='relu'),\n",
    "        Dense(5, activation='relu'),\n",
    "    ])\n",
    "\n",
    "print(model.summary())\n",
    "    \n",
    "policy = BoltzmannQPolicy() "
   ]
  },
  {
   "cell_type": "code",
   "execution_count": 5,
   "metadata": {},
   "outputs": [
    {
     "name": "stdout",
     "output_type": "stream",
     "text": [
      "WARNING:tensorflow:From C:\\Users\\maxie\\AppData\\Local\\Packages\\PythonSoftwareFoundation.Python.3.9_qbz5n2kfra8p0\\LocalCache\\local-packages\\Python39\\site-packages\\tensorflow\\python\\autograph\\pyct\\static_analysis\\liveness.py:83: Analyzer.lamba_check (from tensorflow.python.autograph.pyct.static_analysis.liveness) is deprecated and will be removed after 2023-09-23.\n",
      "Instructions for updating:\n",
      "Lambda fuctions will be no more assumed to be used in the statement where they are used, or at least in the same block. https://github.com/tensorflow/tensorflow/issues/56089\n",
      "Training for 1000000 steps ...\n"
     ]
    },
    {
     "name": "stderr",
     "output_type": "stream",
     "text": [
      "C:\\Users\\maxie\\AppData\\Local\\Packages\\PythonSoftwareFoundation.Python.3.9_qbz5n2kfra8p0\\LocalCache\\local-packages\\Python39\\site-packages\\keras\\engine\\training_v1.py:2357: UserWarning: `Model.state_updates` will be removed in a future version. This property should not be used in TensorFlow 2.0, as `updates` are applied automatically.\n",
      "  updates=self.state_updates,\n"
     ]
    },
    {
     "name": "stdout",
     "output_type": "stream",
     "text": [
      "    582/1000000: episode: 1, duration: 37.565s, episode steps: 582, steps per second:  15, episode reward:  0.000, mean reward:  0.000 [ 0.000,  0.000], mean action: 1.933 [0.000, 4.000],  loss: 0.000044, mae: 0.005968, mean_q: 0.010908\n",
      "   1045/1000000: episode: 2, duration: 35.796s, episode steps: 463, steps per second:  13, episode reward:  0.000, mean reward:  0.000 [ 0.000,  0.000], mean action: 1.959 [0.000, 4.000],  loss: 0.000030, mae: 0.004800, mean_q: 0.008510\n",
      "   1570/1000000: episode: 3, duration: 45.978s, episode steps: 525, steps per second:  11, episode reward:  0.000, mean reward:  0.000 [ 0.000,  0.000], mean action: 2.061 [0.000, 4.000],  loss: 0.000022, mae: 0.004106, mean_q: 0.007403\n",
      "   2191/1000000: episode: 4, duration: 54.328s, episode steps: 621, steps per second:  11, episode reward:  0.000, mean reward:  0.000 [ 0.000,  0.000], mean action: 1.944 [0.000, 4.000],  loss: 0.000022, mae: 0.004552, mean_q: 0.008262\n",
      "   2754/1000000: episode: 5, duration: 48.241s, episode steps: 563, steps per second:  12, episode reward:  0.000, mean reward:  0.000 [ 0.000,  0.000], mean action: 1.938 [0.000, 4.000],  loss: 0.000022, mae: 0.004723, mean_q: 0.008504\n",
      "   3345/1000000: episode: 6, duration: 50.658s, episode steps: 591, steps per second:  12, episode reward:  0.000, mean reward:  0.000 [ 0.000,  0.000], mean action: 2.046 [0.000, 4.000],  loss: 0.000019, mae: 0.004395, mean_q: 0.007914\n",
      "   3796/1000000: episode: 7, duration: 39.826s, episode steps: 451, steps per second:  11, episode reward:  0.000, mean reward:  0.000 [ 0.000,  0.000], mean action: 2.035 [0.000, 4.000],  loss: 0.000017, mae: 0.004238, mean_q: 0.007665\n",
      "   4412/1000000: episode: 8, duration: 55.056s, episode steps: 616, steps per second:  11, episode reward:  0.000, mean reward:  0.000 [ 0.000,  0.000], mean action: 2.005 [0.000, 4.000],  loss: 0.000015, mae: 0.004085, mean_q: 0.007422\n",
      "   4892/1000000: episode: 9, duration: 41.517s, episode steps: 480, steps per second:  12, episode reward:  0.000, mean reward:  0.000 [ 0.000,  0.000], mean action: 2.019 [0.000, 4.000],  loss: 0.000015, mae: 0.004096, mean_q: 0.007462\n",
      "   5483/1000000: episode: 10, duration: 51.149s, episode steps: 591, steps per second:  12, episode reward:  0.000, mean reward:  0.000 [ 0.000,  0.000], mean action: 2.029 [0.000, 4.000],  loss: 0.000015, mae: 0.004112, mean_q: 0.007458\n",
      "   6135/1000000: episode: 11, duration: 55.738s, episode steps: 652, steps per second:  12, episode reward:  0.000, mean reward:  0.000 [ 0.000,  0.000], mean action: 1.969 [0.000, 4.000],  loss: 0.000014, mae: 0.004027, mean_q: 0.007270\n",
      "   6729/1000000: episode: 12, duration: 51.557s, episode steps: 594, steps per second:  12, episode reward:  0.000, mean reward:  0.000 [ 0.000,  0.000], mean action: 1.938 [0.000, 4.000],  loss: 0.000010, mae: 0.004166, mean_q: 0.007130\n",
      "   7300/1000000: episode: 13, duration: 48.585s, episode steps: 571, steps per second:  12, episode reward:  0.000, mean reward:  0.000 [ 0.000,  0.000], mean action: 2.030 [0.000, 4.000],  loss: 0.000006, mae: 0.004630, mean_q: 0.006941\n",
      "   7914/1000000: episode: 14, duration: 53.987s, episode steps: 614, steps per second:  11, episode reward:  0.000, mean reward:  0.000 [ 0.000,  0.000], mean action: 2.054 [0.000, 4.000],  loss: 0.000006, mae: 0.004579, mean_q: 0.006888\n",
      "   8375/1000000: episode: 15, duration: 40.964s, episode steps: 461, steps per second:  11, episode reward:  0.000, mean reward:  0.000 [ 0.000,  0.000], mean action: 1.935 [0.000, 4.000],  loss: 0.000006, mae: 0.004434, mean_q: 0.006687\n",
      "   8864/1000000: episode: 16, duration: 45.665s, episode steps: 489, steps per second:  11, episode reward:  0.000, mean reward:  0.000 [ 0.000,  0.000], mean action: 2.074 [0.000, 4.000],  loss: 0.000005, mae: 0.004308, mean_q: 0.006537\n",
      "   9530/1000000: episode: 17, duration: 61.865s, episode steps: 666, steps per second:  11, episode reward:  0.000, mean reward:  0.000 [ 0.000,  0.000], mean action: 2.062 [0.000, 4.000],  loss: 0.000005, mae: 0.004178, mean_q: 0.006328\n",
      "   9925/1000000: episode: 18, duration: 35.604s, episode steps: 395, steps per second:  11, episode reward:  0.000, mean reward:  0.000 [ 0.000,  0.000], mean action: 1.962 [0.000, 4.000],  loss: 0.000004, mae: 0.004037, mean_q: 0.006121\n",
      "  10409/1000000: episode: 19, duration: 43.174s, episode steps: 484, steps per second:  11, episode reward:  0.000, mean reward:  0.000 [ 0.000,  0.000], mean action: 2.004 [0.000, 4.000],  loss: 0.000004, mae: 0.003933, mean_q: 0.005963\n",
      "  10804/1000000: episode: 20, duration: 35.177s, episode steps: 395, steps per second:  11, episode reward:  0.000, mean reward:  0.000 [ 0.000,  0.000], mean action: 2.101 [0.000, 4.000],  loss: 0.000004, mae: 0.003857, mean_q: 0.005863\n",
      "  11318/1000000: episode: 21, duration: 45.083s, episode steps: 514, steps per second:  11, episode reward:  0.000, mean reward:  0.000 [ 0.000,  0.000], mean action: 1.961 [0.000, 4.000],  loss: 0.000004, mae: 0.003804, mean_q: 0.005784\n",
      "  11792/1000000: episode: 22, duration: 42.234s, episode steps: 474, steps per second:  11, episode reward:  0.000, mean reward:  0.000 [ 0.000,  0.000], mean action: 2.091 [0.000, 4.000],  loss: 0.000004, mae: 0.003705, mean_q: 0.005638\n",
      "  12434/1000000: episode: 23, duration: 56.962s, episode steps: 642, steps per second:  11, episode reward:  0.000, mean reward:  0.000 [ 0.000,  0.000], mean action: 2.064 [0.000, 4.000],  loss: 0.000004, mae: 0.003583, mean_q: 0.005433\n",
      "  12934/1000000: episode: 24, duration: 44.815s, episode steps: 500, steps per second:  11, episode reward:  0.000, mean reward:  0.000 [ 0.000,  0.000], mean action: 2.046 [0.000, 4.000],  loss: 0.000003, mae: 0.003485, mean_q: 0.005304\n",
      "  13503/1000000: episode: 25, duration: 50.011s, episode steps: 569, steps per second:  11, episode reward:  0.000, mean reward:  0.000 [ 0.000,  0.000], mean action: 2.056 [0.000, 4.000],  loss: 0.000001, mae: 0.004413, mean_q: 0.005928\n",
      "  13886/1000000: episode: 26, duration: 34.840s, episode steps: 383, steps per second:  11, episode reward:  0.000, mean reward:  0.000 [ 0.000,  0.000], mean action: 2.102 [0.000, 4.000],  loss: 0.000000, mae: 0.004621, mean_q: 0.005965\n",
      "  14376/1000000: episode: 27, duration: 44.213s, episode steps: 490, steps per second:  11, episode reward:  0.000, mean reward:  0.000 [ 0.000,  0.000], mean action: 1.969 [0.000, 4.000],  loss: 0.000000, mae: 0.004669, mean_q: 0.006012\n",
      "  14813/1000000: episode: 28, duration: 38.937s, episode steps: 437, steps per second:  11, episode reward:  0.000, mean reward:  0.000 [ 0.000,  0.000], mean action: 1.920 [0.000, 4.000],  loss: 0.000000, mae: 0.004668, mean_q: 0.006054\n",
      "  15419/1000000: episode: 29, duration: 54.282s, episode steps: 606, steps per second:  11, episode reward:  0.000, mean reward:  0.000 [ 0.000,  0.000], mean action: 2.038 [0.000, 4.000],  loss: 0.000000, mae: 0.004679, mean_q: 0.006062\n",
      "  15883/1000000: episode: 30, duration: 41.872s, episode steps: 464, steps per second:  11, episode reward:  0.000, mean reward:  0.000 [ 0.000,  0.000], mean action: 1.983 [0.000, 4.000],  loss: 0.000000, mae: 0.004711, mean_q: 0.006122\n"
     ]
    }
   ],
   "source": [
    "%run Scripts/ScriptBase.ipynb"
   ]
  }
 ],
 "metadata": {
  "kernelspec": {
   "display_name": "Python 3.9.13 64-bit (microsoft store)",
   "language": "python",
   "name": "python3"
  },
  "language_info": {
   "codemirror_mode": {
    "name": "ipython",
    "version": 3
   },
   "file_extension": ".py",
   "mimetype": "text/x-python",
   "name": "python",
   "nbconvert_exporter": "python",
   "pygments_lexer": "ipython3",
   "version": "3.9.13"
  },
  "orig_nbformat": 4,
  "vscode": {
   "interpreter": {
    "hash": "f4bbdff7cc7fa638b219fc0c8cef6f1b11f01eaec5f56662ef273699e3711f2e"
   }
  }
 },
 "nbformat": 4,
 "nbformat_minor": 2
}
