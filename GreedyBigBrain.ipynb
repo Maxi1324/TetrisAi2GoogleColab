{
 "cells": [
  {
   "cell_type": "code",
   "execution_count": 1,
   "metadata": {},
   "outputs": [
    {
     "name": "stdout",
     "output_type": "stream",
     "text": [
      "Requirement already satisfied: gym in c:\\users\\maxie\\appdata\\local\\packages\\pythonsoftwarefoundation.python.3.9_qbz5n2kfra8p0\\localcache\\local-packages\\python39\\site-packages (0.26.2)\n",
      "Requirement already satisfied: gym-notices>=0.0.4 in c:\\users\\maxie\\appdata\\local\\packages\\pythonsoftwarefoundation.python.3.9_qbz5n2kfra8p0\\localcache\\local-packages\\python39\\site-packages (from gym) (0.0.8)\n",
      "Requirement already satisfied: cloudpickle>=1.2.0 in c:\\users\\maxie\\appdata\\local\\packages\\pythonsoftwarefoundation.python.3.9_qbz5n2kfra8p0\\localcache\\local-packages\\python39\\site-packages (from gym) (2.2.0)\n",
      "Requirement already satisfied: importlib-metadata>=4.8.0 in c:\\users\\maxie\\appdata\\local\\packages\\pythonsoftwarefoundation.python.3.9_qbz5n2kfra8p0\\localcache\\local-packages\\python39\\site-packages (from gym) (5.1.0)\n",
      "Requirement already satisfied: numpy>=1.18.0 in c:\\users\\maxie\\appdata\\local\\packages\\pythonsoftwarefoundation.python.3.9_qbz5n2kfra8p0\\localcache\\local-packages\\python39\\site-packages (from gym) (1.23.5)\n",
      "Requirement already satisfied: zipp>=0.5 in c:\\users\\maxie\\appdata\\local\\packages\\pythonsoftwarefoundation.python.3.9_qbz5n2kfra8p0\\localcache\\local-packages\\python39\\site-packages (from importlib-metadata>=4.8.0->gym) (3.11.0)\n"
     ]
    },
    {
     "name": "stderr",
     "output_type": "stream",
     "text": [
      "WARNING: You are using pip version 21.0.1; however, version 22.3.1 is available.\n",
      "You should consider upgrading via the 'C:\\Users\\maxie\\AppData\\Local\\Microsoft\\WindowsApps\\PythonSoftwareFoundation.Python.3.9_qbz5n2kfra8p0\\python.exe -m pip install --upgrade pip' command.\n"
     ]
    },
    {
     "name": "stdout",
     "output_type": "stream",
     "text": [
      "Requirement already satisfied: pygame in c:\\users\\maxie\\appdata\\local\\packages\\pythonsoftwarefoundation.python.3.9_qbz5n2kfra8p0\\localcache\\local-packages\\python39\\site-packages (2.1.2)\n"
     ]
    },
    {
     "name": "stderr",
     "output_type": "stream",
     "text": [
      "WARNING: You are using pip version 21.0.1; however, version 22.3.1 is available.\n",
      "You should consider upgrading via the 'C:\\Users\\maxie\\AppData\\Local\\Microsoft\\WindowsApps\\PythonSoftwareFoundation.Python.3.9_qbz5n2kfra8p0\\python.exe -m pip install --upgrade pip' command.\n"
     ]
    },
    {
     "name": "stdout",
     "output_type": "stream",
     "text": [
      "Requirement already satisfied: numpy in c:\\users\\maxie\\appdata\\local\\packages\\pythonsoftwarefoundation.python.3.9_qbz5n2kfra8p0\\localcache\\local-packages\\python39\\site-packages (1.23.5)\n"
     ]
    },
    {
     "name": "stderr",
     "output_type": "stream",
     "text": [
      "WARNING: You are using pip version 21.0.1; however, version 22.3.1 is available.\n",
      "You should consider upgrading via the 'C:\\Users\\maxie\\AppData\\Local\\Microsoft\\WindowsApps\\PythonSoftwareFoundation.Python.3.9_qbz5n2kfra8p0\\python.exe -m pip install --upgrade pip' command.\n"
     ]
    },
    {
     "name": "stdout",
     "output_type": "stream",
     "text": [
      "Requirement already satisfied: keras-rl2 in c:\\users\\maxie\\appdata\\local\\packages\\pythonsoftwarefoundation.python.3.9_qbz5n2kfra8p0\\localcache\\local-packages\\python39\\site-packages (1.0.5)\n",
      "Requirement already satisfied: tensorflow in c:\\users\\maxie\\appdata\\local\\packages\\pythonsoftwarefoundation.python.3.9_qbz5n2kfra8p0\\localcache\\local-packages\\python39\\site-packages (from keras-rl2) (2.11.0)\n",
      "Requirement already satisfied: tensorflow-intel==2.11.0 in c:\\users\\maxie\\appdata\\local\\packages\\pythonsoftwarefoundation.python.3.9_qbz5n2kfra8p0\\localcache\\local-packages\\python39\\site-packages (from tensorflow->keras-rl2) (2.11.0)\n",
      "Requirement already satisfied: libclang>=13.0.0 in c:\\users\\maxie\\appdata\\local\\packages\\pythonsoftwarefoundation.python.3.9_qbz5n2kfra8p0\\localcache\\local-packages\\python39\\site-packages (from tensorflow-intel==2.11.0->tensorflow->keras-rl2) (14.0.6)\n",
      "Requirement already satisfied: astunparse>=1.6.0 in c:\\users\\maxie\\appdata\\local\\packages\\pythonsoftwarefoundation.python.3.9_qbz5n2kfra8p0\\localcache\\local-packages\\python39\\site-packages (from tensorflow-intel==2.11.0->tensorflow->keras-rl2) (1.6.3)\n",
      "Requirement already satisfied: keras<2.12,>=2.11.0 in c:\\users\\maxie\\appdata\\local\\packages\\pythonsoftwarefoundation.python.3.9_qbz5n2kfra8p0\\localcache\\local-packages\\python39\\site-packages (from tensorflow-intel==2.11.0->tensorflow->keras-rl2) (2.11.0)\n",
      "Requirement already satisfied: tensorflow-io-gcs-filesystem>=0.23.1 in c:\\users\\maxie\\appdata\\local\\packages\\pythonsoftwarefoundation.python.3.9_qbz5n2kfra8p0\\localcache\\local-packages\\python39\\site-packages (from tensorflow-intel==2.11.0->tensorflow->keras-rl2) (0.28.0)\n",
      "Requirement already satisfied: tensorflow-estimator<2.12,>=2.11.0 in c:\\users\\maxie\\appdata\\local\\packages\\pythonsoftwarefoundation.python.3.9_qbz5n2kfra8p0\\localcache\\local-packages\\python39\\site-packages (from tensorflow-intel==2.11.0->tensorflow->keras-rl2) (2.11.0)\n",
      "Requirement already satisfied: tensorboard<2.12,>=2.11 in c:\\users\\maxie\\appdata\\local\\packages\\pythonsoftwarefoundation.python.3.9_qbz5n2kfra8p0\\localcache\\local-packages\\python39\\site-packages (from tensorflow-intel==2.11.0->tensorflow->keras-rl2) (2.11.0)\n",
      "Requirement already satisfied: flatbuffers>=2.0 in c:\\users\\maxie\\appdata\\local\\packages\\pythonsoftwarefoundation.python.3.9_qbz5n2kfra8p0\\localcache\\local-packages\\python39\\site-packages (from tensorflow-intel==2.11.0->tensorflow->keras-rl2) (22.11.23)\n",
      "Requirement already satisfied: numpy>=1.20 in c:\\users\\maxie\\appdata\\local\\packages\\pythonsoftwarefoundation.python.3.9_qbz5n2kfra8p0\\localcache\\local-packages\\python39\\site-packages (from tensorflow-intel==2.11.0->tensorflow->keras-rl2) (1.23.5)\n",
      "Requirement already satisfied: protobuf<3.20,>=3.9.2 in c:\\users\\maxie\\appdata\\local\\packages\\pythonsoftwarefoundation.python.3.9_qbz5n2kfra8p0\\localcache\\local-packages\\python39\\site-packages (from tensorflow-intel==2.11.0->tensorflow->keras-rl2) (3.19.6)\n",
      "Requirement already satisfied: packaging in c:\\users\\maxie\\appdata\\local\\packages\\pythonsoftwarefoundation.python.3.9_qbz5n2kfra8p0\\localcache\\local-packages\\python39\\site-packages (from tensorflow-intel==2.11.0->tensorflow->keras-rl2) (20.9)\n",
      "Requirement already satisfied: setuptools in c:\\program files\\windowsapps\\pythonsoftwarefoundation.python.3.9_3.9.3568.0_x64__qbz5n2kfra8p0\\lib\\site-packages (from tensorflow-intel==2.11.0->tensorflow->keras-rl2) (58.1.0)\n",
      "Requirement already satisfied: google-pasta>=0.1.1 in c:\\users\\maxie\\appdata\\local\\packages\\pythonsoftwarefoundation.python.3.9_qbz5n2kfra8p0\\localcache\\local-packages\\python39\\site-packages (from tensorflow-intel==2.11.0->tensorflow->keras-rl2) (0.2.0)\n",
      "Requirement already satisfied: h5py>=2.9.0 in c:\\users\\maxie\\appdata\\local\\packages\\pythonsoftwarefoundation.python.3.9_qbz5n2kfra8p0\\localcache\\local-packages\\python39\\site-packages (from tensorflow-intel==2.11.0->tensorflow->keras-rl2) (3.7.0)\n",
      "Requirement already satisfied: opt-einsum>=2.3.2 in c:\\users\\maxie\\appdata\\local\\packages\\pythonsoftwarefoundation.python.3.9_qbz5n2kfra8p0\\localcache\\local-packages\\python39\\site-packages (from tensorflow-intel==2.11.0->tensorflow->keras-rl2) (3.3.0)\n",
      "Requirement already satisfied: grpcio<2.0,>=1.24.3 in c:\\users\\maxie\\appdata\\local\\packages\\pythonsoftwarefoundation.python.3.9_qbz5n2kfra8p0\\localcache\\local-packages\\python39\\site-packages (from tensorflow-intel==2.11.0->tensorflow->keras-rl2) (1.51.1)\n",
      "Requirement already satisfied: gast<=0.4.0,>=0.2.1 in c:\\users\\maxie\\appdata\\local\\packages\\pythonsoftwarefoundation.python.3.9_qbz5n2kfra8p0\\localcache\\local-packages\\python39\\site-packages (from tensorflow-intel==2.11.0->tensorflow->keras-rl2) (0.4.0)\n",
      "Requirement already satisfied: wrapt>=1.11.0 in c:\\users\\maxie\\appdata\\local\\packages\\pythonsoftwarefoundation.python.3.9_qbz5n2kfra8p0\\localcache\\local-packages\\python39\\site-packages (from tensorflow-intel==2.11.0->tensorflow->keras-rl2) (1.14.1)\n",
      "Requirement already satisfied: typing-extensions>=3.6.6 in c:\\users\\maxie\\appdata\\local\\packages\\pythonsoftwarefoundation.python.3.9_qbz5n2kfra8p0\\localcache\\local-packages\\python39\\site-packages (from tensorflow-intel==2.11.0->tensorflow->keras-rl2) (4.4.0)\n",
      "Requirement already satisfied: six>=1.12.0 in c:\\users\\maxie\\appdata\\local\\packages\\pythonsoftwarefoundation.python.3.9_qbz5n2kfra8p0\\localcache\\local-packages\\python39\\site-packages (from tensorflow-intel==2.11.0->tensorflow->keras-rl2) (1.15.0)\n",
      "Requirement already satisfied: absl-py>=1.0.0 in c:\\users\\maxie\\appdata\\local\\packages\\pythonsoftwarefoundation.python.3.9_qbz5n2kfra8p0\\localcache\\local-packages\\python39\\site-packages (from tensorflow-intel==2.11.0->tensorflow->keras-rl2) (1.3.0)\n",
      "Requirement already satisfied: termcolor>=1.1.0 in c:\\users\\maxie\\appdata\\local\\packages\\pythonsoftwarefoundation.python.3.9_qbz5n2kfra8p0\\localcache\\local-packages\\python39\\site-packages (from tensorflow-intel==2.11.0->tensorflow->keras-rl2) (2.1.1)\n",
      "Requirement already satisfied: wheel<1.0,>=0.23.0 in c:\\users\\maxie\\appdata\\local\\packages\\pythonsoftwarefoundation.python.3.9_qbz5n2kfra8p0\\localcache\\local-packages\\python39\\site-packages (from astunparse>=1.6.0->tensorflow-intel==2.11.0->tensorflow->keras-rl2) (0.38.4)\n",
      "Requirement already satisfied: tensorboard-data-server<0.7.0,>=0.6.0 in c:\\users\\maxie\\appdata\\local\\packages\\pythonsoftwarefoundation.python.3.9_qbz5n2kfra8p0\\localcache\\local-packages\\python39\\site-packages (from tensorboard<2.12,>=2.11->tensorflow-intel==2.11.0->tensorflow->keras-rl2) (0.6.1)\n",
      "Requirement already satisfied: markdown>=2.6.8 in c:\\users\\maxie\\appdata\\local\\packages\\pythonsoftwarefoundation.python.3.9_qbz5n2kfra8p0\\localcache\\local-packages\\python39\\site-packages (from tensorboard<2.12,>=2.11->tensorflow-intel==2.11.0->tensorflow->keras-rl2) (3.4.1)\n",
      "Requirement already satisfied: requests<3,>=2.21.0 in c:\\users\\maxie\\appdata\\local\\packages\\pythonsoftwarefoundation.python.3.9_qbz5n2kfra8p0\\localcache\\local-packages\\python39\\site-packages (from tensorboard<2.12,>=2.11->tensorflow-intel==2.11.0->tensorflow->keras-rl2) (2.28.1)\n",
      "Requirement already satisfied: tensorboard-plugin-wit>=1.6.0 in c:\\users\\maxie\\appdata\\local\\packages\\pythonsoftwarefoundation.python.3.9_qbz5n2kfra8p0\\localcache\\local-packages\\python39\\site-packages (from tensorboard<2.12,>=2.11->tensorflow-intel==2.11.0->tensorflow->keras-rl2) (1.8.1)\n",
      "Requirement already satisfied: werkzeug>=1.0.1 in c:\\users\\maxie\\appdata\\local\\packages\\pythonsoftwarefoundation.python.3.9_qbz5n2kfra8p0\\localcache\\local-packages\\python39\\site-packages (from tensorboard<2.12,>=2.11->tensorflow-intel==2.11.0->tensorflow->keras-rl2) (2.2.2)\n",
      "Requirement already satisfied: google-auth<3,>=1.6.3 in c:\\users\\maxie\\appdata\\local\\packages\\pythonsoftwarefoundation.python.3.9_qbz5n2kfra8p0\\localcache\\local-packages\\python39\\site-packages (from tensorboard<2.12,>=2.11->tensorflow-intel==2.11.0->tensorflow->keras-rl2) (2.14.1)\n",
      "Requirement already satisfied: google-auth-oauthlib<0.5,>=0.4.1 in c:\\users\\maxie\\appdata\\local\\packages\\pythonsoftwarefoundation.python.3.9_qbz5n2kfra8p0\\localcache\\local-packages\\python39\\site-packages (from tensorboard<2.12,>=2.11->tensorflow-intel==2.11.0->tensorflow->keras-rl2) (0.4.6)\n",
      "Requirement already satisfied: rsa<5,>=3.1.4 in c:\\users\\maxie\\appdata\\local\\packages\\pythonsoftwarefoundation.python.3.9_qbz5n2kfra8p0\\localcache\\local-packages\\python39\\site-packages (from google-auth<3,>=1.6.3->tensorboard<2.12,>=2.11->tensorflow-intel==2.11.0->tensorflow->keras-rl2) (4.9)\n",
      "Requirement already satisfied: pyasn1-modules>=0.2.1 in c:\\users\\maxie\\appdata\\local\\packages\\pythonsoftwarefoundation.python.3.9_qbz5n2kfra8p0\\localcache\\local-packages\\python39\\site-packages (from google-auth<3,>=1.6.3->tensorboard<2.12,>=2.11->tensorflow-intel==2.11.0->tensorflow->keras-rl2) (0.2.8)\n",
      "Requirement already satisfied: cachetools<6.0,>=2.0.0 in c:\\users\\maxie\\appdata\\local\\packages\\pythonsoftwarefoundation.python.3.9_qbz5n2kfra8p0\\localcache\\local-packages\\python39\\site-packages (from google-auth<3,>=1.6.3->tensorboard<2.12,>=2.11->tensorflow-intel==2.11.0->tensorflow->keras-rl2) (5.2.0)\n",
      "Requirement already satisfied: requests-oauthlib>=0.7.0 in c:\\users\\maxie\\appdata\\local\\packages\\pythonsoftwarefoundation.python.3.9_qbz5n2kfra8p0\\localcache\\local-packages\\python39\\site-packages (from google-auth-oauthlib<0.5,>=0.4.1->tensorboard<2.12,>=2.11->tensorflow-intel==2.11.0->tensorflow->keras-rl2) (1.3.1)\n",
      "Requirement already satisfied: importlib-metadata>=4.4 in c:\\users\\maxie\\appdata\\local\\packages\\pythonsoftwarefoundation.python.3.9_qbz5n2kfra8p0\\localcache\\local-packages\\python39\\site-packages (from markdown>=2.6.8->tensorboard<2.12,>=2.11->tensorflow-intel==2.11.0->tensorflow->keras-rl2) (5.1.0)\n",
      "Requirement already satisfied: zipp>=0.5 in c:\\users\\maxie\\appdata\\local\\packages\\pythonsoftwarefoundation.python.3.9_qbz5n2kfra8p0\\localcache\\local-packages\\python39\\site-packages (from importlib-metadata>=4.4->markdown>=2.6.8->tensorboard<2.12,>=2.11->tensorflow-intel==2.11.0->tensorflow->keras-rl2) (3.11.0)\n",
      "Requirement already satisfied: pyasn1<0.5.0,>=0.4.6 in c:\\users\\maxie\\appdata\\local\\packages\\pythonsoftwarefoundation.python.3.9_qbz5n2kfra8p0\\localcache\\local-packages\\python39\\site-packages (from pyasn1-modules>=0.2.1->google-auth<3,>=1.6.3->tensorboard<2.12,>=2.11->tensorflow-intel==2.11.0->tensorflow->keras-rl2) (0.4.8)\n",
      "Requirement already satisfied: certifi>=2017.4.17 in c:\\users\\maxie\\appdata\\local\\packages\\pythonsoftwarefoundation.python.3.9_qbz5n2kfra8p0\\localcache\\local-packages\\python39\\site-packages (from requests<3,>=2.21.0->tensorboard<2.12,>=2.11->tensorflow-intel==2.11.0->tensorflow->keras-rl2) (2022.9.24)\n",
      "Requirement already satisfied: urllib3<1.27,>=1.21.1 in c:\\users\\maxie\\appdata\\local\\packages\\pythonsoftwarefoundation.python.3.9_qbz5n2kfra8p0\\localcache\\local-packages\\python39\\site-packages (from requests<3,>=2.21.0->tensorboard<2.12,>=2.11->tensorflow-intel==2.11.0->tensorflow->keras-rl2) (1.26.13)\n",
      "Requirement already satisfied: idna<4,>=2.5 in c:\\users\\maxie\\appdata\\local\\packages\\pythonsoftwarefoundation.python.3.9_qbz5n2kfra8p0\\localcache\\local-packages\\python39\\site-packages (from requests<3,>=2.21.0->tensorboard<2.12,>=2.11->tensorflow-intel==2.11.0->tensorflow->keras-rl2) (3.4)\n",
      "Requirement already satisfied: charset-normalizer<3,>=2 in c:\\users\\maxie\\appdata\\local\\packages\\pythonsoftwarefoundation.python.3.9_qbz5n2kfra8p0\\localcache\\local-packages\\python39\\site-packages (from requests<3,>=2.21.0->tensorboard<2.12,>=2.11->tensorflow-intel==2.11.0->tensorflow->keras-rl2) (2.1.1)\n",
      "Requirement already satisfied: oauthlib>=3.0.0 in c:\\users\\maxie\\appdata\\local\\packages\\pythonsoftwarefoundation.python.3.9_qbz5n2kfra8p0\\localcache\\local-packages\\python39\\site-packages (from requests-oauthlib>=0.7.0->google-auth-oauthlib<0.5,>=0.4.1->tensorboard<2.12,>=2.11->tensorflow-intel==2.11.0->tensorflow->keras-rl2) (3.2.2)\n",
      "Requirement already satisfied: MarkupSafe>=2.1.1 in c:\\users\\maxie\\appdata\\local\\packages\\pythonsoftwarefoundation.python.3.9_qbz5n2kfra8p0\\localcache\\local-packages\\python39\\site-packages (from werkzeug>=1.0.1->tensorboard<2.12,>=2.11->tensorflow-intel==2.11.0->tensorflow->keras-rl2) (2.1.1)\n",
      "Requirement already satisfied: pyparsing>=2.0.2 in c:\\users\\maxie\\appdata\\local\\packages\\pythonsoftwarefoundation.python.3.9_qbz5n2kfra8p0\\localcache\\local-packages\\python39\\site-packages (from packaging->tensorflow-intel==2.11.0->tensorflow->keras-rl2) (2.4.7)\n"
     ]
    },
    {
     "name": "stderr",
     "output_type": "stream",
     "text": [
      "WARNING: You are using pip version 21.0.1; however, version 22.3.1 is available.\n",
      "You should consider upgrading via the 'C:\\Users\\maxie\\AppData\\Local\\Microsoft\\WindowsApps\\PythonSoftwareFoundation.Python.3.9_qbz5n2kfra8p0\\python.exe -m pip install --upgrade pip' command.\n"
     ]
    }
   ],
   "source": [
    "%run Scripts/Prepare.ipynb"
   ]
  },
  {
   "cell_type": "code",
   "execution_count": 2,
   "metadata": {},
   "outputs": [],
   "source": [
    "from keras.models import Sequential\n",
    "from keras.layers import Dense, Activation, Flatten\n",
    "\n",
    "from rl.policy import BoltzmannQPolicy\n",
    "from rl.policy import LinearAnnealedPolicy, EpsGreedyQPolicy"
   ]
  },
  {
   "cell_type": "code",
   "execution_count": 3,
   "metadata": {},
   "outputs": [],
   "source": [
    "trainstep = 1000000\n",
    "learningrate = 1e-3\n",
    "warmup = 100\n",
    "\n",
    "rewardHoch = 4\n",
    "rewardmult = 2\n",
    "alwaysReward = 0.000000001\n",
    "\n",
    "render = False\n",
    "\n",
    "verbose = 3000\n",
    "\n",
    "speed = 10\n",
    "\n",
    "loadfile = None\n",
    "savefile = \"GreedyBig\""
   ]
  },
  {
   "cell_type": "code",
   "execution_count": 4,
   "metadata": {},
   "outputs": [
    {
     "name": "stdout",
     "output_type": "stream",
     "text": [
      "Model: \"sequential\"\n",
      "_________________________________________________________________\n",
      " Layer (type)                Output Shape              Param #   \n",
      "=================================================================\n",
      " dense (Dense)               (None, 1, 20, 10, 1)      2         \n",
      "                                                                 \n",
      " flatten (Flatten)           (None, 200)               0         \n",
      "                                                                 \n",
      " dense_1 (Dense)             (None, 200)               40200     \n",
      "                                                                 \n",
      " dense_2 (Dense)             (None, 200)               40200     \n",
      "                                                                 \n",
      " dense_3 (Dense)             (None, 200)               40200     \n",
      "                                                                 \n",
      " dense_4 (Dense)             (None, 200)               40200     \n",
      "                                                                 \n",
      " dense_5 (Dense)             (None, 200)               40200     \n",
      "                                                                 \n",
      " dense_6 (Dense)             (None, 200)               40200     \n",
      "                                                                 \n",
      " dense_7 (Dense)             (None, 5)                 1005      \n",
      "                                                                 \n",
      "=================================================================\n",
      "Total params: 242,207\n",
      "Trainable params: 242,207\n",
      "Non-trainable params: 0\n",
      "_________________________________________________________________\n",
      "None\n"
     ]
    }
   ],
   "source": [
    "\n",
    "model =  Sequential([\n",
    "        Dense(1, activation='relu', input_shape=(1,20,10,1)),\n",
    "        Flatten(),\n",
    "        Dense(200, activation='relu'),\n",
    "        Dense(200, activation='relu'),\n",
    "        Dense(200, activation='relu'),\n",
    "        Dense(200, activation='relu'),\n",
    "        Dense(200, activation='relu'),\n",
    "        Dense(200, activation='relu'),\n",
    "        Dense(5, activation='relu'),\n",
    "    ])\n",
    "\n",
    "print(model.summary())\n",
    "    \n",
    "policy = LinearAnnealedPolicy(EpsGreedyQPolicy(), \n",
    "                              attr='eps',\n",
    "                              value_max=1.,\n",
    "                              value_min=.1,\n",
    "                              value_test=.05,\n",
    "                              nb_steps=trainstep)"
   ]
  },
  {
   "cell_type": "code",
   "execution_count": 5,
   "metadata": {},
   "outputs": [
    {
     "name": "stdout",
     "output_type": "stream",
     "text": [
      "WARNING:tensorflow:From C:\\Users\\maxie\\AppData\\Local\\Packages\\PythonSoftwareFoundation.Python.3.9_qbz5n2kfra8p0\\LocalCache\\local-packages\\Python39\\site-packages\\tensorflow\\python\\autograph\\pyct\\static_analysis\\liveness.py:83: Analyzer.lamba_check (from tensorflow.python.autograph.pyct.static_analysis.liveness) is deprecated and will be removed after 2023-09-23.\n",
      "Instructions for updating:\n",
      "Lambda fuctions will be no more assumed to be used in the statement where they are used, or at least in the same block. https://github.com/tensorflow/tensorflow/issues/56089\n",
      "Training for 1000000 steps ...\n"
     ]
    },
    {
     "name": "stderr",
     "output_type": "stream",
     "text": [
      "C:\\Users\\maxie\\AppData\\Local\\Packages\\PythonSoftwareFoundation.Python.3.9_qbz5n2kfra8p0\\LocalCache\\local-packages\\Python39\\site-packages\\keras\\engine\\training_v1.py:2357: UserWarning: `Model.state_updates` will be removed in a future version. This property should not be used in TensorFlow 2.0, as `updates` are applied automatically.\n",
      "  updates=self.state_updates,\n"
     ]
    },
    {
     "name": "stdout",
     "output_type": "stream",
     "text": [
      "    444/1000000: episode: 1, duration: 25.560s, episode steps: 444, steps per second:  17, episode reward:  0.000, mean reward:  0.000 [ 0.000,  0.000], mean action: 1.998 [0.000, 4.000],  loss: 0.000000, mae: 0.000000, mean_q: 0.000000, mean_eps: 0.999755\n",
      "   1130/1000000: episode: 2, duration: 36.172s, episode steps: 686, steps per second:  19, episode reward:  0.000, mean reward:  0.000 [ 0.000,  0.000], mean action: 1.990 [0.000, 4.000],  loss: 0.000000, mae: 0.000000, mean_q: 0.000000, mean_eps: 0.999292\n",
      "   1757/1000000: episode: 3, duration: 39.594s, episode steps: 627, steps per second:  16, episode reward:  0.000, mean reward:  0.000 [ 0.000,  0.000], mean action: 2.043 [0.000, 4.000],  loss: 0.000000, mae: 0.000000, mean_q: 0.000000, mean_eps: 0.998701\n",
      "   2280/1000000: episode: 4, duration: 31.874s, episode steps: 523, steps per second:  16, episode reward:  0.000, mean reward:  0.000 [ 0.000,  0.000], mean action: 2.004 [0.000, 4.000],  loss: 0.000000, mae: 0.000000, mean_q: 0.000000, mean_eps: 0.998184\n",
      "   2858/1000000: episode: 5, duration: 35.682s, episode steps: 578, steps per second:  16, episode reward:  0.000, mean reward:  0.000 [ 0.000,  0.000], mean action: 1.978 [0.000, 4.000],  loss: 0.000000, mae: 0.000000, mean_q: 0.000000, mean_eps: 0.997688\n",
      "   3580/1000000: episode: 6, duration: 42.893s, episode steps: 722, steps per second:  17, episode reward:  0.000, mean reward:  0.000 [ 0.000,  0.000], mean action: 2.029 [0.000, 4.000],  loss: 0.000000, mae: 0.000000, mean_q: 0.000000, mean_eps: 0.997103\n",
      "   4072/1000000: episode: 7, duration: 29.428s, episode steps: 492, steps per second:  17, episode reward:  0.000, mean reward:  0.000 [ 0.000,  0.000], mean action: 2.085 [0.000, 4.000],  loss: 0.000000, mae: 0.000000, mean_q: 0.000000, mean_eps: 0.996557\n",
      "   4623/1000000: episode: 8, duration: 33.814s, episode steps: 551, steps per second:  16, episode reward:  0.000, mean reward:  0.000 [ 0.000,  0.000], mean action: 2.047 [0.000, 4.000],  loss: 0.000000, mae: 0.000000, mean_q: 0.000000, mean_eps: 0.996088\n",
      "   5248/1000000: episode: 9, duration: 38.165s, episode steps: 625, steps per second:  16, episode reward:  0.000, mean reward:  0.000 [ 0.000,  0.000], mean action: 2.054 [0.000, 4.000],  loss: 0.000000, mae: 0.000000, mean_q: 0.000000, mean_eps: 0.995559\n",
      "   5633/1000000: episode: 10, duration: 25.389s, episode steps: 385, steps per second:  15, episode reward:  0.000, mean reward:  0.000 [ 0.000,  0.000], mean action: 2.026 [0.000, 4.000],  loss: 0.000000, mae: 0.000000, mean_q: 0.000000, mean_eps: 0.995104\n",
      "   6340/1000000: episode: 11, duration: 43.468s, episode steps: 707, steps per second:  16, episode reward:  0.000, mean reward:  0.000 [ 0.000,  0.000], mean action: 2.034 [0.000, 4.000],  loss: 0.000000, mae: 0.000000, mean_q: 0.000000, mean_eps: 0.994613\n",
      "   6973/1000000: episode: 12, duration: 39.430s, episode steps: 633, steps per second:  16, episode reward:  0.000, mean reward:  0.000 [ 0.000,  0.000], mean action: 2.008 [0.000, 4.000],  loss: 0.000000, mae: 0.000000, mean_q: 0.000000, mean_eps: 0.994010\n",
      "   7493/1000000: episode: 13, duration: 31.685s, episode steps: 520, steps per second:  16, episode reward:  0.000, mean reward:  0.000 [ 0.000,  0.000], mean action: 2.033 [0.000, 4.000],  loss: 0.000000, mae: 0.000000, mean_q: 0.000000, mean_eps: 0.993491\n",
      "   8057/1000000: episode: 14, duration: 34.343s, episode steps: 564, steps per second:  16, episode reward:  0.000, mean reward:  0.000 [ 0.000,  0.000], mean action: 1.941 [0.000, 4.000],  loss: 0.000000, mae: 0.000000, mean_q: 0.000000, mean_eps: 0.993003\n",
      "   8638/1000000: episode: 15, duration: 35.855s, episode steps: 581, steps per second:  16, episode reward:  0.000, mean reward:  0.000 [ 0.000,  0.000], mean action: 1.960 [0.000, 4.000],  loss: 0.000000, mae: 0.000000, mean_q: 0.000000, mean_eps: 0.992488\n",
      "   9084/1000000: episode: 16, duration: 26.094s, episode steps: 446, steps per second:  17, episode reward:  0.000, mean reward:  0.000 [ 0.000,  0.000], mean action: 1.924 [0.000, 4.000],  loss: 0.000000, mae: 0.000000, mean_q: 0.000000, mean_eps: 0.992026\n",
      "   9463/1000000: episode: 17, duration: 23.139s, episode steps: 379, steps per second:  16, episode reward:  0.000, mean reward:  0.000 [ 0.000,  0.000], mean action: 2.087 [0.000, 4.000],  loss: 0.000000, mae: 0.000000, mean_q: 0.000000, mean_eps: 0.991654\n",
      "  10104/1000000: episode: 18, duration: 39.528s, episode steps: 641, steps per second:  16, episode reward:  0.000, mean reward:  0.000 [ 0.000,  0.000], mean action: 2.014 [0.000, 4.000],  loss: 0.000000, mae: 0.000000, mean_q: 0.000000, mean_eps: 0.991195\n",
      "  10662/1000000: episode: 19, duration: 34.687s, episode steps: 558, steps per second:  16, episode reward:  0.000, mean reward:  0.000 [ 0.000,  0.000], mean action: 2.179 [0.000, 4.000],  loss: 0.000000, mae: 0.000000, mean_q: 0.000000, mean_eps: 0.990656\n",
      "  11371/1000000: episode: 20, duration: 44.061s, episode steps: 709, steps per second:  16, episode reward:  0.000, mean reward:  0.000 [ 0.000,  0.000], mean action: 1.932 [0.000, 4.000],  loss: 0.000000, mae: 0.000000, mean_q: 0.000000, mean_eps: 0.990086\n",
      "  11850/1000000: episode: 21, duration: 33.673s, episode steps: 479, steps per second:  14, episode reward:  0.000, mean reward:  0.000 [ 0.000,  0.000], mean action: 1.883 [0.000, 4.000],  loss: 0.000000, mae: 0.000000, mean_q: 0.000000, mean_eps: 0.989551\n",
      "  12320/1000000: episode: 22, duration: 33.814s, episode steps: 470, steps per second:  14, episode reward:  0.000, mean reward:  0.000 [ 0.000,  0.000], mean action: 1.953 [0.000, 4.000],  loss: 0.000000, mae: 0.000000, mean_q: 0.000000, mean_eps: 0.989124\n",
      "  12644/1000000: episode: 23, duration: 22.465s, episode steps: 324, steps per second:  14, episode reward:  0.000, mean reward:  0.000 [ 0.000,  0.000], mean action: 1.867 [0.000, 4.000],  loss: 0.000000, mae: 0.000000, mean_q: 0.000000, mean_eps: 0.988767\n",
      "  13229/1000000: episode: 24, duration: 41.458s, episode steps: 585, steps per second:  14, episode reward:  0.000, mean reward:  0.000 [ 0.000,  0.000], mean action: 2.048 [0.000, 4.000],  loss: 0.000000, mae: 0.000000, mean_q: 0.000000, mean_eps: 0.988358\n",
      "  13787/1000000: episode: 25, duration: 36.733s, episode steps: 558, steps per second:  15, episode reward:  0.000, mean reward:  0.000 [ 0.000,  0.000], mean action: 1.916 [0.000, 4.000],  loss: 0.000000, mae: 0.000000, mean_q: 0.000000, mean_eps: 0.987843\n",
      "  14322/1000000: episode: 26, duration: 36.263s, episode steps: 535, steps per second:  15, episode reward:  0.000, mean reward:  0.000 [ 0.000,  0.000], mean action: 1.968 [0.000, 4.000],  loss: 0.000000, mae: 0.000000, mean_q: 0.000000, mean_eps: 0.987351\n",
      "  15003/1000000: episode: 27, duration: 45.615s, episode steps: 681, steps per second:  15, episode reward:  0.000, mean reward:  0.000 [ 0.000,  0.000], mean action: 1.943 [0.000, 4.000],  loss: 0.000000, mae: 0.000000, mean_q: 0.000000, mean_eps: 0.986804\n",
      "  15536/1000000: episode: 28, duration: 35.911s, episode steps: 533, steps per second:  15, episode reward:  0.000, mean reward:  0.000 [ 0.000,  0.000], mean action: 2.004 [0.000, 4.000],  loss: 0.000000, mae: 0.000000, mean_q: 0.000000, mean_eps: 0.986258\n",
      "  15942/1000000: episode: 29, duration: 25.847s, episode steps: 406, steps per second:  16, episode reward:  0.000, mean reward:  0.000 [ 0.000,  0.000], mean action: 1.892 [0.000, 4.000],  loss: 0.000000, mae: 0.000000, mean_q: 0.000000, mean_eps: 0.985835\n",
      "  16527/1000000: episode: 30, duration: 39.471s, episode steps: 585, steps per second:  15, episode reward:  0.000, mean reward:  0.000 [ 0.000,  0.000], mean action: 1.874 [0.000, 4.000],  loss: 0.000000, mae: 0.000000, mean_q: 0.000000, mean_eps: 0.985389\n",
      "  17016/1000000: episode: 31, duration: 32.442s, episode steps: 489, steps per second:  15, episode reward:  0.000, mean reward:  0.000 [ 0.000,  0.000], mean action: 2.045 [0.000, 4.000],  loss: 0.000000, mae: 0.000000, mean_q: 0.000000, mean_eps: 0.984906\n",
      "  17542/1000000: episode: 32, duration: 34.175s, episode steps: 526, steps per second:  15, episode reward:  0.000, mean reward:  0.000 [ 0.000,  0.000], mean action: 2.006 [0.000, 4.000],  loss: 0.000000, mae: 0.000000, mean_q: 0.000000, mean_eps: 0.984449\n",
      "  18058/1000000: episode: 33, duration: 34.303s, episode steps: 516, steps per second:  15, episode reward:  0.000, mean reward:  0.000 [ 0.000,  0.000], mean action: 1.932 [0.000, 4.000],  loss: 0.000000, mae: 0.000000, mean_q: 0.000000, mean_eps: 0.983980\n",
      "  18702/1000000: episode: 34, duration: 42.726s, episode steps: 644, steps per second:  15, episode reward:  0.000, mean reward:  0.000 [ 0.000,  0.000], mean action: 1.975 [0.000, 4.000],  loss: 0.000000, mae: 0.000000, mean_q: 0.000000, mean_eps: 0.983458\n",
      "  19234/1000000: episode: 35, duration: 35.817s, episode steps: 532, steps per second:  15, episode reward:  0.000, mean reward:  0.000 [ 0.000,  0.000], mean action: 1.898 [0.000, 4.000],  loss: 0.000000, mae: 0.000000, mean_q: 0.000000, mean_eps: 0.982929\n",
      "  19629/1000000: episode: 36, duration: 27.446s, episode steps: 395, steps per second:  14, episode reward:  0.000, mean reward:  0.000 [ 0.000,  0.000], mean action: 2.061 [0.000, 4.000],  loss: 0.000000, mae: 0.000000, mean_q: 0.000000, mean_eps: 0.982512\n",
      "  20202/1000000: episode: 37, duration: 39.952s, episode steps: 573, steps per second:  14, episode reward:  0.000, mean reward:  0.000 [ 0.000,  0.000], mean action: 2.021 [0.000, 4.000],  loss: 0.000000, mae: 0.000000, mean_q: 0.000000, mean_eps: 0.982076\n",
      "  20623/1000000: episode: 38, duration: 27.947s, episode steps: 421, steps per second:  15, episode reward:  0.000, mean reward:  0.000 [ 0.000,  0.000], mean action: 1.986 [0.000, 4.000],  loss: 0.000000, mae: 0.000000, mean_q: 0.000000, mean_eps: 0.981629\n",
      "  21286/1000000: episode: 39, duration: 45.551s, episode steps: 663, steps per second:  15, episode reward:  0.000, mean reward:  0.000 [ 0.000,  0.000], mean action: 1.905 [0.000, 4.000],  loss: 0.000000, mae: 0.000000, mean_q: 0.000000, mean_eps: 0.981141\n",
      "  21781/1000000: episode: 40, duration: 32.809s, episode steps: 495, steps per second:  15, episode reward:  0.000, mean reward:  0.000 [ 0.000,  0.000], mean action: 1.919 [0.000, 4.000],  loss: 0.000000, mae: 0.000000, mean_q: 0.000000, mean_eps: 0.980620\n"
     ]
    }
   ],
   "source": [
    "%run Scripts/ScriptBase.ipynb"
   ]
  }
 ],
 "metadata": {
  "kernelspec": {
   "display_name": "Python 3.9.13 64-bit (microsoft store)",
   "language": "python",
   "name": "python3"
  },
  "language_info": {
   "codemirror_mode": {
    "name": "ipython",
    "version": 3
   },
   "file_extension": ".py",
   "mimetype": "text/x-python",
   "name": "python",
   "nbconvert_exporter": "python",
   "pygments_lexer": "ipython3",
   "version": "3.9.13"
  },
  "orig_nbformat": 4,
  "vscode": {
   "interpreter": {
    "hash": "f4bbdff7cc7fa638b219fc0c8cef6f1b11f01eaec5f56662ef273699e3711f2e"
   }
  }
 },
 "nbformat": 4,
 "nbformat_minor": 2
}
