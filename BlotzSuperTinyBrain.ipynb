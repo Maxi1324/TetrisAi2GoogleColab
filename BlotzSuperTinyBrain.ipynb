{
  "cells": [
    {
      "cell_type": "code",
      "execution_count": null,
      "metadata": {
        "id": "VnKWkE9geg7Q"
      },
      "outputs": [],
      "source": [
        "%run https://github.com/Maxi1324/TetrisAi2GoogleColab/blob/main/Scripts/Prepare.ipynb"
      ]
    },
    {
      "cell_type": "code",
      "execution_count": null,
      "metadata": {
        "id": "U34z78y2eg8E"
      },
      "outputs": [],
      "source": [
        "from keras.models import Sequential\n",
        "from keras.layers import Dense, Activation, Flatten\n",
        "\n",
        "from rl.policy import BoltzmannQPolicy"
      ]
    },
    {
      "cell_type": "code",
      "execution_count": null,
      "metadata": {
        "id": "R0oIJ6Xneg8K"
      },
      "outputs": [],
      "source": [
        "trainstep = 10\n",
        "learningrate = 1e-3\n",
        "warmup = 100\n",
        "\n",
        "rewardHoch = 4\n",
        "rewardmult = 2\n",
        "alwaysReward = 0.000000001\n",
        "\n",
        "render = False\n",
        "\n",
        "verbose = 3000\n",
        "\n",
        "speed = 10\n",
        "\n",
        "loadfile = None\n",
        "savefile = \"BoltzTiny\""
      ]
    },
    {
      "cell_type": "code",
      "execution_count": null,
      "metadata": {
        "id": "uXrZmdRWeg8X",
        "outputId": "d14b941f-4054-404b-c150-c534787d1376"
      },
      "outputs": [
        {
          "name": "stdout",
          "output_type": "stream",
          "text": [
            "Model: \"sequential_30\"\n",
            "_________________________________________________________________\n",
            " Layer (type)                Output Shape              Param #   \n",
            "=================================================================\n",
            " dense_104 (Dense)           (None, 1, 20, 10, 1)      2         \n",
            "                                                                 \n",
            " flatten_30 (Flatten)        (None, 200)               0         \n",
            "                                                                 \n",
            " dense_105 (Dense)           (None, 25)                5025      \n",
            "                                                                 \n",
            " dense_106 (Dense)           (None, 25)                650       \n",
            "                                                                 \n",
            " dense_107 (Dense)           (None, 25)                650       \n",
            "                                                                 \n",
            " dense_108 (Dense)           (None, 5)                 130       \n",
            "                                                                 \n",
            "=================================================================\n",
            "Total params: 6,457\n",
            "Trainable params: 6,457\n",
            "Non-trainable params: 0\n",
            "_________________________________________________________________\n",
            "None\n"
          ]
        }
      ],
      "source": [
        "\n",
        "model =  Sequential([\n",
        "        Dense(1, activation='relu', input_shape=(1,20,10,1)),\n",
        "        Flatten(),\n",
        "        Dense(10, activation='relu'),\n",
        "        Dense(25, activation='relu'),\n",
        "        Dense(10, activation='relu'),\n",
        "        Dense(5, activation='relu'),\n",
        "    ])\n",
        "\n",
        "print(model.summary())\n",
        "    \n",
        "policy = BoltzmannQPolicy() "
      ]
    },
    {
      "cell_type": "code",
      "execution_count": null,
      "metadata": {
        "id": "WAgmc8Jyeg87",
        "outputId": "f6c4df56-6bef-44d6-bc54-488c489eb69b"
      },
      "outputs": [
        {
          "name": "stdout",
          "output_type": "stream",
          "text": [
            "Training for 10 steps ...\n",
            "done, took 1.152 seconds\n",
            "finished training\n"
          ]
        }
      ],
      "source": [
        "%run https://github.com/Maxi1324/TetrisAi2GoogleColab/blob/main/Scripts/ScriptBase.ipynb"
      ]
    }
  ],
  "metadata": {
    "kernelspec": {
      "display_name": "Python 3.9.13 64-bit (microsoft store)",
      "language": "python",
      "name": "python3"
    },
    "language_info": {
      "codemirror_mode": {
        "name": "ipython",
        "version": 3
      },
      "file_extension": ".py",
      "mimetype": "text/x-python",
      "name": "python",
      "nbconvert_exporter": "python",
      "pygments_lexer": "ipython3",
      "version": "3.9.13"
    },
    "orig_nbformat": 4,
    "vscode": {
      "interpreter": {
        "hash": "f4bbdff7cc7fa638b219fc0c8cef6f1b11f01eaec5f56662ef273699e3711f2e"
      }
    },
    "colab": {
      "provenance": []
    }
  },
  "nbformat": 4,
  "nbformat_minor": 0
}