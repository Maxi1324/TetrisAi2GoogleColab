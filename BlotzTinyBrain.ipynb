{
 "cells": [
  {
   "cell_type": "code",
   "execution_count": 1,
   "metadata": {},
   "outputs": [
    {
     "name": "stdout",
     "output_type": "stream",
     "text": [
      "Requirement already satisfied: gym in c:\\users\\maxie\\appdata\\local\\packages\\pythonsoftwarefoundation.python.3.9_qbz5n2kfra8p0\\localcache\\local-packages\\python39\\site-packages (0.26.2)\n",
      "Requirement already satisfied: importlib-metadata>=4.8.0 in c:\\users\\maxie\\appdata\\local\\packages\\pythonsoftwarefoundation.python.3.9_qbz5n2kfra8p0\\localcache\\local-packages\\python39\\site-packages (from gym) (5.1.0)\n",
      "Requirement already satisfied: gym-notices>=0.0.4 in c:\\users\\maxie\\appdata\\local\\packages\\pythonsoftwarefoundation.python.3.9_qbz5n2kfra8p0\\localcache\\local-packages\\python39\\site-packages (from gym) (0.0.8)\n",
      "Requirement already satisfied: cloudpickle>=1.2.0 in c:\\users\\maxie\\appdata\\local\\packages\\pythonsoftwarefoundation.python.3.9_qbz5n2kfra8p0\\localcache\\local-packages\\python39\\site-packages (from gym) (2.2.0)\n",
      "Requirement already satisfied: numpy>=1.18.0 in c:\\users\\maxie\\appdata\\local\\packages\\pythonsoftwarefoundation.python.3.9_qbz5n2kfra8p0\\localcache\\local-packages\\python39\\site-packages (from gym) (1.23.5)\n",
      "Requirement already satisfied: zipp>=0.5 in c:\\users\\maxie\\appdata\\local\\packages\\pythonsoftwarefoundation.python.3.9_qbz5n2kfra8p0\\localcache\\local-packages\\python39\\site-packages (from importlib-metadata>=4.8.0->gym) (3.11.0)\n"
     ]
    },
    {
     "name": "stderr",
     "output_type": "stream",
     "text": [
      "WARNING: You are using pip version 21.0.1; however, version 22.3.1 is available.\n",
      "You should consider upgrading via the 'C:\\Users\\maxie\\AppData\\Local\\Microsoft\\WindowsApps\\PythonSoftwareFoundation.Python.3.9_qbz5n2kfra8p0\\python.exe -m pip install --upgrade pip' command.\n"
     ]
    },
    {
     "name": "stdout",
     "output_type": "stream",
     "text": [
      "Requirement already satisfied: pygame in c:\\users\\maxie\\appdata\\local\\packages\\pythonsoftwarefoundation.python.3.9_qbz5n2kfra8p0\\localcache\\local-packages\\python39\\site-packages (2.1.2)"
     ]
    },
    {
     "name": "stderr",
     "output_type": "stream",
     "text": [
      "WARNING: You are using pip version 21.0.1; however, version 22.3.1 is available.\n",
      "You should consider upgrading via the 'C:\\Users\\maxie\\AppData\\Local\\Microsoft\\WindowsApps\\PythonSoftwareFoundation.Python.3.9_qbz5n2kfra8p0\\python.exe -m pip install --upgrade pip' command.\n"
     ]
    },
    {
     "name": "stdout",
     "output_type": "stream",
     "text": [
      "\n",
      "Requirement already satisfied: numpy in c:\\users\\maxie\\appdata\\local\\packages\\pythonsoftwarefoundation.python.3.9_qbz5n2kfra8p0\\localcache\\local-packages\\python39\\site-packages (1.23.5)\n"
     ]
    },
    {
     "name": "stderr",
     "output_type": "stream",
     "text": [
      "WARNING: You are using pip version 21.0.1; however, version 22.3.1 is available.\n",
      "You should consider upgrading via the 'C:\\Users\\maxie\\AppData\\Local\\Microsoft\\WindowsApps\\PythonSoftwareFoundation.Python.3.9_qbz5n2kfra8p0\\python.exe -m pip install --upgrade pip' command.\n"
     ]
    },
    {
     "name": "stdout",
     "output_type": "stream",
     "text": [
      "Requirement already satisfied: keras-rl2 in c:\\users\\maxie\\appdata\\local\\packages\\pythonsoftwarefoundation.python.3.9_qbz5n2kfra8p0\\localcache\\local-packages\\python39\\site-packages (1.0.5)\n",
      "Requirement already satisfied: tensorflow in c:\\users\\maxie\\appdata\\local\\packages\\pythonsoftwarefoundation.python.3.9_qbz5n2kfra8p0\\localcache\\local-packages\\python39\\site-packages (from keras-rl2) (2.11.0)\n",
      "Requirement already satisfied: tensorflow-intel==2.11.0 in c:\\users\\maxie\\appdata\\local\\packages\\pythonsoftwarefoundation.python.3.9_qbz5n2kfra8p0\\localcache\\local-packages\\python39\\site-packages (from tensorflow->keras-rl2) (2.11.0)\n",
      "Requirement already satisfied: tensorflow-estimator<2.12,>=2.11.0 in c:\\users\\maxie\\appdata\\local\\packages\\pythonsoftwarefoundation.python.3.9_qbz5n2kfra8p0\\localcache\\local-packages\\python39\\site-packages (from tensorflow-intel==2.11.0->tensorflow->keras-rl2) (2.11.0)\n",
      "Requirement already satisfied: opt-einsum>=2.3.2 in c:\\users\\maxie\\appdata\\local\\packages\\pythonsoftwarefoundation.python.3.9_qbz5n2kfra8p0\\localcache\\local-packages\\python39\\site-packages (from tensorflow-intel==2.11.0->tensorflow->keras-rl2) (3.3.0)\n",
      "Requirement already satisfied: keras<2.12,>=2.11.0 in c:\\users\\maxie\\appdata\\local\\packages\\pythonsoftwarefoundation.python.3.9_qbz5n2kfra8p0\\localcache\\local-packages\\python39\\site-packages (from tensorflow-intel==2.11.0->tensorflow->keras-rl2) (2.11.0)\n",
      "Requirement already satisfied: setuptools in c:\\program files\\windowsapps\\pythonsoftwarefoundation.python.3.9_3.9.3568.0_x64__qbz5n2kfra8p0\\lib\\site-packages (from tensorflow-intel==2.11.0->tensorflow->keras-rl2) (58.1.0)\n",
      "Requirement already satisfied: tensorboard<2.12,>=2.11 in c:\\users\\maxie\\appdata\\local\\packages\\pythonsoftwarefoundation.python.3.9_qbz5n2kfra8p0\\localcache\\local-packages\\python39\\site-packages (from tensorflow-intel==2.11.0->tensorflow->keras-rl2) (2.11.0)\n",
      "Requirement already satisfied: six>=1.12.0 in c:\\users\\maxie\\appdata\\local\\packages\\pythonsoftwarefoundation.python.3.9_qbz5n2kfra8p0\\localcache\\local-packages\\python39\\site-packages (from tensorflow-intel==2.11.0->tensorflow->keras-rl2) (1.15.0)\n",
      "Requirement already satisfied: gast<=0.4.0,>=0.2.1 in c:\\users\\maxie\\appdata\\local\\packages\\pythonsoftwarefoundation.python.3.9_qbz5n2kfra8p0\\localcache\\local-packages\\python39\\site-packages (from tensorflow-intel==2.11.0->tensorflow->keras-rl2) (0.4.0)\n",
      "Requirement already satisfied: astunparse>=1.6.0 in c:\\users\\maxie\\appdata\\local\\packages\\pythonsoftwarefoundation.python.3.9_qbz5n2kfra8p0\\localcache\\local-packages\\python39\\site-packages (from tensorflow-intel==2.11.0->tensorflow->keras-rl2) (1.6.3)\n",
      "Requirement already satisfied: numpy>=1.20 in c:\\users\\maxie\\appdata\\local\\packages\\pythonsoftwarefoundation.python.3.9_qbz5n2kfra8p0\\localcache\\local-packages\\python39\\site-packages (from tensorflow-intel==2.11.0->tensorflow->keras-rl2) (1.23.5)\n",
      "Requirement already satisfied: h5py>=2.9.0 in c:\\users\\maxie\\appdata\\local\\packages\\pythonsoftwarefoundation.python.3.9_qbz5n2kfra8p0\\localcache\\local-packages\\python39\\site-packages (from tensorflow-intel==2.11.0->tensorflow->keras-rl2) (3.7.0)\n",
      "Requirement already satisfied: wrapt>=1.11.0 in c:\\users\\maxie\\appdata\\local\\packages\\pythonsoftwarefoundation.python.3.9_qbz5n2kfra8p0\\localcache\\local-packages\\python39\\site-packages (from tensorflow-intel==2.11.0->tensorflow->keras-rl2) (1.14.1)\n",
      "Requirement already satisfied: typing-extensions>=3.6.6 in c:\\users\\maxie\\appdata\\local\\packages\\pythonsoftwarefoundation.python.3.9_qbz5n2kfra8p0\\localcache\\local-packages\\python39\\site-packages (from tensorflow-intel==2.11.0->tensorflow->keras-rl2) (4.4.0)\n",
      "Requirement already satisfied: packaging in c:\\users\\maxie\\appdata\\local\\packages\\pythonsoftwarefoundation.python.3.9_qbz5n2kfra8p0\\localcache\\local-packages\\python39\\site-packages (from tensorflow-intel==2.11.0->tensorflow->keras-rl2) (20.9)\n",
      "Requirement already satisfied: termcolor>=1.1.0 in c:\\users\\maxie\\appdata\\local\\packages\\pythonsoftwarefoundation.python.3.9_qbz5n2kfra8p0\\localcache\\local-packages\\python39\\site-packages (from tensorflow-intel==2.11.0->tensorflow->keras-rl2) (2.1.1)\n",
      "Requirement already satisfied: protobuf<3.20,>=3.9.2 in c:\\users\\maxie\\appdata\\local\\packages\\pythonsoftwarefoundation.python.3.9_qbz5n2kfra8p0\\localcache\\local-packages\\python39\\site-packages (from tensorflow-intel==2.11.0->tensorflow->keras-rl2) (3.19.6)\n",
      "Requirement already satisfied: tensorflow-io-gcs-filesystem>=0.23.1 in c:\\users\\maxie\\appdata\\local\\packages\\pythonsoftwarefoundation.python.3.9_qbz5n2kfra8p0\\localcache\\local-packages\\python39\\site-packages (from tensorflow-intel==2.11.0->tensorflow->keras-rl2) (0.28.0)\n",
      "Requirement already satisfied: libclang>=13.0.0 in c:\\users\\maxie\\appdata\\local\\packages\\pythonsoftwarefoundation.python.3.9_qbz5n2kfra8p0\\localcache\\local-packages\\python39\\site-packages (from tensorflow-intel==2.11.0->tensorflow->keras-rl2) (14.0.6)\n",
      "Requirement already satisfied: absl-py>=1.0.0 in c:\\users\\maxie\\appdata\\local\\packages\\pythonsoftwarefoundation.python.3.9_qbz5n2kfra8p0\\localcache\\local-packages\\python39\\site-packages (from tensorflow-intel==2.11.0->tensorflow->keras-rl2) (1.3.0)\n",
      "Requirement already satisfied: flatbuffers>=2.0 in c:\\users\\maxie\\appdata\\local\\packages\\pythonsoftwarefoundation.python.3.9_qbz5n2kfra8p0\\localcache\\local-packages\\python39\\site-packages (from tensorflow-intel==2.11.0->tensorflow->keras-rl2) (22.11.23)\n",
      "Requirement already satisfied: grpcio<2.0,>=1.24.3 in c:\\users\\maxie\\appdata\\local\\packages\\pythonsoftwarefoundation.python.3.9_qbz5n2kfra8p0\\localcache\\local-packages\\python39\\site-packages (from tensorflow-intel==2.11.0->tensorflow->keras-rl2) (1.51.1)\n",
      "Requirement already satisfied: google-pasta>=0.1.1 in c:\\users\\maxie\\appdata\\local\\packages\\pythonsoftwarefoundation.python.3.9_qbz5n2kfra8p0\\localcache\\local-packages\\python39\\site-packages (from tensorflow-intel==2.11.0->tensorflow->keras-rl2) (0.2.0)\n",
      "Requirement already satisfied: wheel<1.0,>=0.23.0 in c:\\users\\maxie\\appdata\\local\\packages\\pythonsoftwarefoundation.python.3.9_qbz5n2kfra8p0\\localcache\\local-packages\\python39\\site-packages (from astunparse>=1.6.0->tensorflow-intel==2.11.0->tensorflow->keras-rl2) (0.38.4)\n",
      "Requirement already satisfied: werkzeug>=1.0.1 in c:\\users\\maxie\\appdata\\local\\packages\\pythonsoftwarefoundation.python.3.9_qbz5n2kfra8p0\\localcache\\local-packages\\python39\\site-packages (from tensorboard<2.12,>=2.11->tensorflow-intel==2.11.0->tensorflow->keras-rl2) (2.2.2)\n",
      "Requirement already satisfied: requests<3,>=2.21.0 in c:\\users\\maxie\\appdata\\local\\packages\\pythonsoftwarefoundation.python.3.9_qbz5n2kfra8p0\\localcache\\local-packages\\python39\\site-packages (from tensorboard<2.12,>=2.11->tensorflow-intel==2.11.0->tensorflow->keras-rl2) (2.28.1)\n",
      "Requirement already satisfied: google-auth<3,>=1.6.3 in c:\\users\\maxie\\appdata\\local\\packages\\pythonsoftwarefoundation.python.3.9_qbz5n2kfra8p0\\localcache\\local-packages\\python39\\site-packages (from tensorboard<2.12,>=2.11->tensorflow-intel==2.11.0->tensorflow->keras-rl2) (2.14.1)\n",
      "Requirement already satisfied: google-auth-oauthlib<0.5,>=0.4.1 in c:\\users\\maxie\\appdata\\local\\packages\\pythonsoftwarefoundation.python.3.9_qbz5n2kfra8p0\\localcache\\local-packages\\python39\\site-packages (from tensorboard<2.12,>=2.11->tensorflow-intel==2.11.0->tensorflow->keras-rl2) (0.4.6)\n",
      "Requirement already satisfied: tensorboard-plugin-wit>=1.6.0 in c:\\users\\maxie\\appdata\\local\\packages\\pythonsoftwarefoundation.python.3.9_qbz5n2kfra8p0\\localcache\\local-packages\\python39\\site-packages (from tensorboard<2.12,>=2.11->tensorflow-intel==2.11.0->tensorflow->keras-rl2) (1.8.1)\n",
      "Requirement already satisfied: markdown>=2.6.8 in c:\\users\\maxie\\appdata\\local\\packages\\pythonsoftwarefoundation.python.3.9_qbz5n2kfra8p0\\localcache\\local-packages\\python39\\site-packages (from tensorboard<2.12,>=2.11->tensorflow-intel==2.11.0->tensorflow->keras-rl2) (3.4.1)\n",
      "Requirement already satisfied: tensorboard-data-server<0.7.0,>=0.6.0 in c:\\users\\maxie\\appdata\\local\\packages\\pythonsoftwarefoundation.python.3.9_qbz5n2kfra8p0\\localcache\\local-packages\\python39\\site-packages (from tensorboard<2.12,>=2.11->tensorflow-intel==2.11.0->tensorflow->keras-rl2) (0.6.1)\n",
      "Requirement already satisfied: pyasn1-modules>=0.2.1 in c:\\users\\maxie\\appdata\\local\\packages\\pythonsoftwarefoundation.python.3.9_qbz5n2kfra8p0\\localcache\\local-packages\\python39\\site-packages (from google-auth<3,>=1.6.3->tensorboard<2.12,>=2.11->tensorflow-intel==2.11.0->tensorflow->keras-rl2) (0.2.8)\n",
      "Requirement already satisfied: cachetools<6.0,>=2.0.0 in c:\\users\\maxie\\appdata\\local\\packages\\pythonsoftwarefoundation.python.3.9_qbz5n2kfra8p0\\localcache\\local-packages\\python39\\site-packages (from google-auth<3,>=1.6.3->tensorboard<2.12,>=2.11->tensorflow-intel==2.11.0->tensorflow->keras-rl2) (5.2.0)\n",
      "Requirement already satisfied: rsa<5,>=3.1.4 in c:\\users\\maxie\\appdata\\local\\packages\\pythonsoftwarefoundation.python.3.9_qbz5n2kfra8p0\\localcache\\local-packages\\python39\\site-packages (from google-auth<3,>=1.6.3->tensorboard<2.12,>=2.11->tensorflow-intel==2.11.0->tensorflow->keras-rl2) (4.9)\n",
      "Requirement already satisfied: requests-oauthlib>=0.7.0 in c:\\users\\maxie\\appdata\\local\\packages\\pythonsoftwarefoundation.python.3.9_qbz5n2kfra8p0\\localcache\\local-packages\\python39\\site-packages (from google-auth-oauthlib<0.5,>=0.4.1->tensorboard<2.12,>=2.11->tensorflow-intel==2.11.0->tensorflow->keras-rl2) (1.3.1)\n",
      "Requirement already satisfied: importlib-metadata>=4.4 in c:\\users\\maxie\\appdata\\local\\packages\\pythonsoftwarefoundation.python.3.9_qbz5n2kfra8p0\\localcache\\local-packages\\python39\\site-packages (from markdown>=2.6.8->tensorboard<2.12,>=2.11->tensorflow-intel==2.11.0->tensorflow->keras-rl2) (5.1.0)\n",
      "Requirement already satisfied: zipp>=0.5 in c:\\users\\maxie\\appdata\\local\\packages\\pythonsoftwarefoundation.python.3.9_qbz5n2kfra8p0\\localcache\\local-packages\\python39\\site-packages (from importlib-metadata>=4.4->markdown>=2.6.8->tensorboard<2.12,>=2.11->tensorflow-intel==2.11.0->tensorflow->keras-rl2) (3.11.0)\n",
      "Requirement already satisfied: pyasn1<0.5.0,>=0.4.6 in c:\\users\\maxie\\appdata\\local\\packages\\pythonsoftwarefoundation.python.3.9_qbz5n2kfra8p0\\localcache\\local-packages\\python39\\site-packages (from pyasn1-modules>=0.2.1->google-auth<3,>=1.6.3->tensorboard<2.12,>=2.11->tensorflow-intel==2.11.0->tensorflow->keras-rl2) (0.4.8)\n",
      "Requirement already satisfied: charset-normalizer<3,>=2 in c:\\users\\maxie\\appdata\\local\\packages\\pythonsoftwarefoundation.python.3.9_qbz5n2kfra8p0\\localcache\\local-packages\\python39\\site-packages (from requests<3,>=2.21.0->tensorboard<2.12,>=2.11->tensorflow-intel==2.11.0->tensorflow->keras-rl2) (2.1.1)\n",
      "Requirement already satisfied: certifi>=2017.4.17 in c:\\users\\maxie\\appdata\\local\\packages\\pythonsoftwarefoundation.python.3.9_qbz5n2kfra8p0\\localcache\\local-packages\\python39\\site-packages (from requests<3,>=2.21.0->tensorboard<2.12,>=2.11->tensorflow-intel==2.11.0->tensorflow->keras-rl2) (2022.9.24)\n",
      "Requirement already satisfied: idna<4,>=2.5 in c:\\users\\maxie\\appdata\\local\\packages\\pythonsoftwarefoundation.python.3.9_qbz5n2kfra8p0\\localcache\\local-packages\\python39\\site-packages (from requests<3,>=2.21.0->tensorboard<2.12,>=2.11->tensorflow-intel==2.11.0->tensorflow->keras-rl2) (3.4)\n",
      "Requirement already satisfied: urllib3<1.27,>=1.21.1 in c:\\users\\maxie\\appdata\\local\\packages\\pythonsoftwarefoundation.python.3.9_qbz5n2kfra8p0\\localcache\\local-packages\\python39\\site-packages (from requests<3,>=2.21.0->tensorboard<2.12,>=2.11->tensorflow-intel==2.11.0->tensorflow->keras-rl2) (1.26.13)\n",
      "Requirement already satisfied: oauthlib>=3.0.0 in c:\\users\\maxie\\appdata\\local\\packages\\pythonsoftwarefoundation.python.3.9_qbz5n2kfra8p0\\localcache\\local-packages\\python39\\site-packages (from requests-oauthlib>=0.7.0->google-auth-oauthlib<0.5,>=0.4.1->tensorboard<2.12,>=2.11->tensorflow-intel==2.11.0->tensorflow->keras-rl2) (3.2.2)\n",
      "Requirement already satisfied: MarkupSafe>=2.1.1 in c:\\users\\maxie\\appdata\\local\\packages\\pythonsoftwarefoundation.python.3.9_qbz5n2kfra8p0\\localcache\\local-packages\\python39\\site-packages (from werkzeug>=1.0.1->tensorboard<2.12,>=2.11->tensorflow-intel==2.11.0->tensorflow->keras-rl2) (2.1.1)\n",
      "Requirement already satisfied: pyparsing>=2.0.2 in c:\\users\\maxie\\appdata\\local\\packages\\pythonsoftwarefoundation.python.3.9_qbz5n2kfra8p0\\localcache\\local-packages\\python39\\site-packages (from packaging->tensorflow-intel==2.11.0->tensorflow->keras-rl2) (2.4.7)\n"
     ]
    },
    {
     "name": "stderr",
     "output_type": "stream",
     "text": [
      "WARNING: You are using pip version 21.0.1; however, version 22.3.1 is available.\n",
      "You should consider upgrading via the 'C:\\Users\\maxie\\AppData\\Local\\Microsoft\\WindowsApps\\PythonSoftwareFoundation.Python.3.9_qbz5n2kfra8p0\\python.exe -m pip install --upgrade pip' command.\n"
     ]
    }
   ],
   "source": [
    "%run Scripts/Prepare.ipynb"
   ]
  },
  {
   "cell_type": "code",
   "execution_count": 2,
   "metadata": {},
   "outputs": [],
   "source": [
    "from keras.models import Sequential\n",
    "from keras.layers import Dense, Activation, Flatten\n",
    "\n",
    "from rl.policy import BoltzmannQPolicy"
   ]
  },
  {
   "cell_type": "code",
   "execution_count": 3,
   "metadata": {},
   "outputs": [],
   "source": [
    "trainstep = 1000000\n",
    "learningrate = 1e-3\n",
    "warmup = 100\n",
    "\n",
    "rewardHoch = 4\n",
    "rewardmult = 2\n",
    "alwaysReward = 0.000000001\n",
    "\n",
    "render = False\n",
    "\n",
    "verbose = 3000\n",
    "\n",
    "speed = 10\n",
    "\n",
    "loadfile = None\n",
    "savefile = \"BoltzTiny\""
   ]
  },
  {
   "cell_type": "code",
   "execution_count": 4,
   "metadata": {},
   "outputs": [
    {
     "name": "stdout",
     "output_type": "stream",
     "text": [
      "Model: \"sequential\"\n",
      "_________________________________________________________________\n",
      " Layer (type)                Output Shape              Param #   \n",
      "=================================================================\n",
      " dense (Dense)               (None, 1, 20, 10, 1)      2         \n",
      "                                                                 \n",
      " flatten (Flatten)           (None, 200)               0         \n",
      "                                                                 \n",
      " dense_1 (Dense)             (None, 25)                5025      \n",
      "                                                                 \n",
      " dense_2 (Dense)             (None, 25)                650       \n",
      "                                                                 \n",
      " dense_3 (Dense)             (None, 25)                650       \n",
      "                                                                 \n",
      " dense_4 (Dense)             (None, 5)                 130       \n",
      "                                                                 \n",
      "=================================================================\n",
      "Total params: 6,457\n",
      "Trainable params: 6,457\n",
      "Non-trainable params: 0\n",
      "_________________________________________________________________\n",
      "None\n"
     ]
    }
   ],
   "source": [
    "\n",
    "model =  Sequential([\n",
    "        Dense(1, activation='relu', input_shape=(1,20,10,1)),\n",
    "        Flatten(),\n",
    "        Dense(25, activation='relu'),\n",
    "        Dense(25, activation='relu'),\n",
    "        Dense(25, activation='relu'),\n",
    "        Dense(5, activation='relu'),\n",
    "    ])\n",
    "\n",
    "print(model.summary())\n",
    "    \n",
    "policy = BoltzmannQPolicy() "
   ]
  },
  {
   "cell_type": "code",
   "execution_count": 5,
   "metadata": {},
   "outputs": [
    {
     "name": "stdout",
     "output_type": "stream",
     "text": [
      "WARNING:tensorflow:From C:\\Users\\maxie\\AppData\\Local\\Packages\\PythonSoftwareFoundation.Python.3.9_qbz5n2kfra8p0\\LocalCache\\local-packages\\Python39\\site-packages\\tensorflow\\python\\autograph\\pyct\\static_analysis\\liveness.py:83: Analyzer.lamba_check (from tensorflow.python.autograph.pyct.static_analysis.liveness) is deprecated and will be removed after 2023-09-23.\n",
      "Instructions for updating:\n",
      "Lambda fuctions will be no more assumed to be used in the statement where they are used, or at least in the same block. https://github.com/tensorflow/tensorflow/issues/56089\n",
      "Training for 1000000 steps ...\n"
     ]
    },
    {
     "name": "stderr",
     "output_type": "stream",
     "text": [
      "C:\\Users\\maxie\\AppData\\Local\\Packages\\PythonSoftwareFoundation.Python.3.9_qbz5n2kfra8p0\\LocalCache\\local-packages\\Python39\\site-packages\\keras\\engine\\training_v1.py:2357: UserWarning: `Model.state_updates` will be removed in a future version. This property should not be used in TensorFlow 2.0, as `updates` are applied automatically.\n",
      "  updates=self.state_updates,\n"
     ]
    },
    {
     "name": "stdout",
     "output_type": "stream",
     "text": [
      "    342/1000000: episode: 1, duration: 7.903s, episode steps: 342, steps per second:  43, episode reward:  0.000, mean reward:  0.000 [ 0.000,  0.000], mean action: 2.032 [0.000, 4.000],  loss: 0.000053, mae: 0.054870, mean_q: 0.073167\n",
      "    861/1000000: episode: 2, duration: 15.824s, episode steps: 519, steps per second:  33, episode reward:  0.000, mean reward:  0.000 [ 0.000,  0.000], mean action: 1.983 [0.000, 4.000],  loss: 0.000069, mae: 0.101057, mean_q: 0.131252\n",
      "   1516/1000000: episode: 3, duration: 25.073s, episode steps: 655, steps per second:  26, episode reward:  0.000, mean reward:  0.000 [ 0.000,  0.000], mean action: 1.966 [0.000, 4.000],  loss: 0.000041, mae: 0.113569, mean_q: 0.146151\n",
      "   1934/1000000: episode: 4, duration: 17.511s, episode steps: 418, steps per second:  24, episode reward:  0.000, mean reward:  0.000 [ 0.000,  0.000], mean action: 1.990 [0.000, 4.000],  loss: 0.000048, mae: 0.126912, mean_q: 0.163070\n",
      "   2695/1000000: episode: 5, duration: 34.356s, episode steps: 761, steps per second:  22, episode reward:  0.000, mean reward:  0.000 [ 0.000,  0.000], mean action: 1.900 [0.000, 4.000],  loss: 0.000056, mae: 0.135187, mean_q: 0.173338\n",
      "   3114/1000000: episode: 6, duration: 22.865s, episode steps: 419, steps per second:  18, episode reward:  0.000, mean reward:  0.000 [ 0.000,  0.000], mean action: 2.091 [0.000, 4.000],  loss: 0.000053, mae: 0.141301, mean_q: 0.180387\n",
      "   3628/1000000: episode: 7, duration: 24.365s, episode steps: 514, steps per second:  21, episode reward:  0.000, mean reward:  0.000 [ 0.000,  0.000], mean action: 1.955 [0.000, 4.000],  loss: 0.000043, mae: 0.143540, mean_q: 0.182658\n",
      "   4126/1000000: episode: 8, duration: 24.353s, episode steps: 498, steps per second:  20, episode reward:  0.000, mean reward:  0.000 [ 0.000,  0.000], mean action: 1.922 [0.000, 4.000],  loss: 0.000040, mae: 0.146209, mean_q: 0.185881\n",
      "   4649/1000000: episode: 9, duration: 26.577s, episode steps: 523, steps per second:  20, episode reward:  0.000, mean reward:  0.000 [ 0.000,  0.000], mean action: 1.985 [0.000, 4.000],  loss: 0.000035, mae: 0.150688, mean_q: 0.191395\n",
      "   5380/1000000: episode: 10, duration: 35.055s, episode steps: 731, steps per second:  21, episode reward:  0.000, mean reward:  0.000 [ 0.000,  0.000], mean action: 1.985 [0.000, 4.000],  loss: 0.000034, mae: 0.154804, mean_q: 0.196407\n",
      "   6024/1000000: episode: 11, duration: 30.077s, episode steps: 644, steps per second:  21, episode reward:  0.000, mean reward:  0.000 [ 0.000,  0.000], mean action: 1.970 [0.000, 4.000],  loss: 0.000031, mae: 0.156174, mean_q: 0.197781\n",
      "   6655/1000000: episode: 12, duration: 31.692s, episode steps: 631, steps per second:  20, episode reward:  0.000, mean reward:  0.000 [ 0.000,  0.000], mean action: 1.962 [0.000, 4.000],  loss: 0.000027, mae: 0.157567, mean_q: 0.199481\n",
      "   7366/1000000: episode: 13, duration: 34.235s, episode steps: 711, steps per second:  21, episode reward:  0.000, mean reward:  0.000 [ 0.000,  0.000], mean action: 2.037 [0.000, 4.000],  loss: 0.000026, mae: 0.158228, mean_q: 0.200223\n",
      "   7776/1000000: episode: 14, duration: 23.320s, episode steps: 410, steps per second:  18, episode reward:  0.000, mean reward:  0.000 [ 0.000,  0.000], mean action: 2.029 [0.000, 4.000],  loss: 0.000024, mae: 0.157194, mean_q: 0.198804\n",
      "   8309/1000000: episode: 15, duration: 27.224s, episode steps: 533, steps per second:  20, episode reward:  0.000, mean reward:  0.000 [ 0.000,  0.000], mean action: 2.047 [0.000, 4.000],  loss: 0.000024, mae: 0.155421, mean_q: 0.196461\n",
      "   8834/1000000: episode: 16, duration: 25.652s, episode steps: 525, steps per second:  20, episode reward:  0.000, mean reward:  0.000 [ 0.000,  0.000], mean action: 1.977 [0.000, 4.000],  loss: 0.000023, mae: 0.153364, mean_q: 0.193668\n",
      "   9313/1000000: episode: 17, duration: 24.584s, episode steps: 479, steps per second:  19, episode reward:  0.000, mean reward:  0.000 [ 0.000,  0.000], mean action: 1.904 [0.000, 4.000],  loss: 0.000019, mae: 0.152206, mean_q: 0.191989\n",
      "   9913/1000000: episode: 18, duration: 29.343s, episode steps: 600, steps per second:  20, episode reward:  0.000, mean reward:  0.000 [ 0.000,  0.000], mean action: 1.892 [0.000, 4.000],  loss: 0.000020, mae: 0.149033, mean_q: 0.188019\n",
      "  10497/1000000: episode: 19, duration: 29.494s, episode steps: 584, steps per second:  20, episode reward:  0.000, mean reward:  0.000 [ 0.000,  0.000], mean action: 1.940 [0.000, 4.000],  loss: 0.000015, mae: 0.144602, mean_q: 0.182240\n",
      "  11002/1000000: episode: 20, duration: 24.774s, episode steps: 505, steps per second:  20, episode reward:  0.000, mean reward:  0.000 [ 0.000,  0.000], mean action: 2.123 [0.000, 4.000],  loss: 0.000014, mae: 0.139916, mean_q: 0.176348\n",
      "  11657/1000000: episode: 21, duration: 32.348s, episode steps: 655, steps per second:  20, episode reward:  0.000, mean reward:  0.000 [ 0.000,  0.000], mean action: 1.994 [0.000, 4.000],  loss: 0.000013, mae: 0.135751, mean_q: 0.171068\n",
      "  12454/1000000: episode: 22, duration: 39.857s, episode steps: 797, steps per second:  20, episode reward:  0.000, mean reward:  0.000 [ 0.000,  0.000], mean action: 1.986 [0.000, 4.000],  loss: 0.000014, mae: 0.131657, mean_q: 0.166037\n",
      "  13189/1000000: episode: 23, duration: 36.524s, episode steps: 735, steps per second:  20, episode reward:  0.000, mean reward:  0.000 [ 0.000,  0.000], mean action: 1.985 [0.000, 4.000],  loss: 0.000011, mae: 0.125790, mean_q: 0.158470\n",
      "  13762/1000000: episode: 24, duration: 28.703s, episode steps: 573, steps per second:  20, episode reward:  0.000, mean reward:  0.000 [ 0.000,  0.000], mean action: 2.070 [0.000, 4.000],  loss: 0.000008, mae: 0.120547, mean_q: 0.151791\n",
      "  14083/1000000: episode: 25, duration: 16.785s, episode steps: 321, steps per second:  19, episode reward:  0.000, mean reward:  0.000 [ 0.000,  0.000], mean action: 1.938 [0.000, 4.000],  loss: 0.000007, mae: 0.117618, mean_q: 0.148056\n",
      "  14727/1000000: episode: 26, duration: 32.462s, episode steps: 644, steps per second:  20, episode reward:  0.000, mean reward:  0.000 [ 0.000,  0.000], mean action: 1.972 [0.000, 4.000],  loss: 0.000009, mae: 0.114207, mean_q: 0.143827\n",
      "  15373/1000000: episode: 27, duration: 36.155s, episode steps: 646, steps per second:  18, episode reward:  0.000, mean reward:  0.000 [ 0.000,  0.000], mean action: 2.070 [0.000, 4.000],  loss: 0.000008, mae: 0.109957, mean_q: 0.138556\n",
      "  15957/1000000: episode: 28, duration: 35.888s, episode steps: 584, steps per second:  16, episode reward:  0.000, mean reward:  0.000 [ 0.000,  0.000], mean action: 2.036 [0.000, 4.000],  loss: 0.000006, mae: 0.105677, mean_q: 0.133107\n",
      "  16445/1000000: episode: 29, duration: 28.041s, episode steps: 488, steps per second:  17, episode reward:  0.000, mean reward:  0.000 [ 0.000,  0.000], mean action: 1.912 [0.000, 4.000],  loss: 0.000006, mae: 0.101525, mean_q: 0.127763\n",
      "  17010/1000000: episode: 30, duration: 33.964s, episode steps: 565, steps per second:  17, episode reward:  0.000, mean reward:  0.000 [ 0.000,  0.000], mean action: 1.952 [0.000, 4.000],  loss: 0.000008, mae: 0.098149, mean_q: 0.123765\n",
      "  17516/1000000: episode: 31, duration: 26.986s, episode steps: 506, steps per second:  19, episode reward:  0.000, mean reward:  0.000 [ 0.000,  0.000], mean action: 2.006 [0.000, 4.000],  loss: 0.000007, mae: 0.094907, mean_q: 0.119532\n",
      "  18031/1000000: episode: 32, duration: 29.071s, episode steps: 515, steps per second:  18, episode reward:  0.000, mean reward:  0.000 [ 0.000,  0.000], mean action: 2.004 [0.000, 4.000],  loss: 0.000006, mae: 0.091741, mean_q: 0.115507\n",
      "  18791/1000000: episode: 33, duration: 41.107s, episode steps: 760, steps per second:  18, episode reward:  0.000, mean reward:  0.000 [ 0.000,  0.000], mean action: 2.025 [0.000, 4.000],  loss: 0.000005, mae: 0.088021, mean_q: 0.110935\n",
      "  19332/1000000: episode: 34, duration: 31.076s, episode steps: 541, steps per second:  17, episode reward:  0.000, mean reward:  0.000 [ 0.000,  0.000], mean action: 2.009 [0.000, 4.000],  loss: 0.000005, mae: 0.084277, mean_q: 0.106162\n",
      "  19855/1000000: episode: 35, duration: 29.395s, episode steps: 523, steps per second:  18, episode reward:  0.000, mean reward:  0.000 [ 0.000,  0.000], mean action: 1.925 [0.000, 4.000],  loss: 0.000004, mae: 0.080744, mean_q: 0.101780\n",
      "  20398/1000000: episode: 36, duration: 28.360s, episode steps: 543, steps per second:  19, episode reward:  0.000, mean reward:  0.000 [ 0.000,  0.000], mean action: 2.033 [0.000, 4.000],  loss: 0.000004, mae: 0.077481, mean_q: 0.097653\n",
      "  21038/1000000: episode: 37, duration: 36.784s, episode steps: 640, steps per second:  17, episode reward:  0.000, mean reward:  0.000 [ 0.000,  0.000], mean action: 1.958 [0.000, 4.000],  loss: 0.000004, mae: 0.073934, mean_q: 0.093177\n",
      "  21819/1000000: episode: 38, duration: 42.350s, episode steps: 781, steps per second:  18, episode reward:  0.000, mean reward:  0.000 [ 0.000,  0.000], mean action: 1.983 [0.000, 4.000],  loss: 0.000003, mae: 0.069955, mean_q: 0.088173\n",
      "  22310/1000000: episode: 39, duration: 27.242s, episode steps: 491, steps per second:  18, episode reward:  0.000, mean reward:  0.000 [ 0.000,  0.000], mean action: 1.951 [0.000, 4.000],  loss: 0.000003, mae: 0.066341, mean_q: 0.083554\n",
      "  22625/1000000: episode: 40, duration: 18.007s, episode steps: 315, steps per second:  17, episode reward:  0.000, mean reward:  0.000 [ 0.000,  0.000], mean action: 1.984 [0.000, 4.000],  loss: 0.000002, mae: 0.064095, mean_q: 0.080741\n",
      "  23357/1000000: episode: 41, duration: 39.779s, episode steps: 732, steps per second:  18, episode reward:  0.000, mean reward:  0.000 [ 0.000,  0.000], mean action: 1.970 [0.000, 4.000],  loss: 0.000002, mae: 0.061179, mean_q: 0.077053\n",
      "  23874/1000000: episode: 42, duration: 28.948s, episode steps: 517, steps per second:  18, episode reward:  0.000, mean reward:  0.000 [ 0.000,  0.000], mean action: 1.878 [0.000, 4.000],  loss: 0.000002, mae: 0.057939, mean_q: 0.072963\n",
      "  24470/1000000: episode: 43, duration: 33.051s, episode steps: 596, steps per second:  18, episode reward:  0.000, mean reward:  0.000 [ 0.000,  0.000], mean action: 1.956 [0.000, 4.000],  loss: 0.000001, mae: 0.054959, mean_q: 0.069205\n",
      "  24916/1000000: episode: 44, duration: 26.666s, episode steps: 446, steps per second:  17, episode reward:  0.000, mean reward:  0.000 [ 0.000,  0.000], mean action: 1.955 [0.000, 4.000],  loss: 0.000001, mae: 0.052559, mean_q: 0.066178\n",
      "  25488/1000000: episode: 45, duration: 31.589s, episode steps: 572, steps per second:  18, episode reward:  0.000, mean reward:  0.000 [ 0.000,  0.000], mean action: 2.005 [0.000, 4.000],  loss: 0.000001, mae: 0.050284, mean_q: 0.063391\n",
      "  25963/1000000: episode: 46, duration: 26.152s, episode steps: 475, steps per second:  18, episode reward:  0.000, mean reward:  0.000 [ 0.000,  0.000], mean action: 2.017 [0.000, 4.000],  loss: 0.000001, mae: 0.047847, mean_q: 0.060344\n",
      "  26386/1000000: episode: 47, duration: 23.285s, episode steps: 423, steps per second:  18, episode reward:  0.000, mean reward:  0.000 [ 0.000,  0.000], mean action: 2.087 [0.000, 4.000],  loss: 0.000001, mae: 0.045833, mean_q: 0.057734\n",
      "  26990/1000000: episode: 48, duration: 33.469s, episode steps: 604, steps per second:  18, episode reward:  0.000, mean reward:  0.000 [ 0.000,  0.000], mean action: 1.957 [0.000, 4.000],  loss: 0.000001, mae: 0.043705, mean_q: 0.055109\n",
      "  27663/1000000: episode: 49, duration: 36.438s, episode steps: 673, steps per second:  18, episode reward:  0.000, mean reward:  0.000 [ 0.000,  0.000], mean action: 2.003 [0.000, 4.000],  loss: 0.000001, mae: 0.041422, mean_q: 0.052261\n"
     ]
    }
   ],
   "source": [
    "%run Scripts/ScriptBase.ipynb"
   ]
  }
 ],
 "metadata": {
  "kernelspec": {
   "display_name": "Python 3.9.13 64-bit (microsoft store)",
   "language": "python",
   "name": "python3"
  },
  "language_info": {
   "codemirror_mode": {
    "name": "ipython",
    "version": 3
   },
   "file_extension": ".py",
   "mimetype": "text/x-python",
   "name": "python",
   "nbconvert_exporter": "python",
   "pygments_lexer": "ipython3",
   "version": "3.9.13"
  },
  "orig_nbformat": 4,
  "vscode": {
   "interpreter": {
    "hash": "f4bbdff7cc7fa638b219fc0c8cef6f1b11f01eaec5f56662ef273699e3711f2e"
   }
  }
 },
 "nbformat": 4,
 "nbformat_minor": 2
}
