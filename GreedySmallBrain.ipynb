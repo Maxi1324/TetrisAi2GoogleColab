{
 "cells": [
  {
   "cell_type": "code",
   "execution_count": null,
   "metadata": {},
   "outputs": [],
   "source": [
    "%run Scripts/Prepare.ipynb"
   ]
  },
  {
   "cell_type": "code",
   "execution_count": null,
   "metadata": {},
   "outputs": [],
   "source": [
    "from keras.models import Sequential\n",
    "from keras.layers import Dense, Activation, Flatten\n",
    "\n",
    "from rl.policy import LinearAnnealedPolicy, EpsGreedyQPolicy"
   ]
  },
  {
   "cell_type": "code",
   "execution_count": null,
   "metadata": {},
   "outputs": [],
   "source": [
    "trainstep = 1000000\n",
    "learningrate = 1e-3\n",
    "warmup = 100\n",
    "\n",
    "rewardHoch = 4\n",
    "rewardmult = 2\n",
    "alwaysReward = 0.000000001\n",
    "\n",
    "render = False\n",
    "\n",
    "verbose = 3000\n",
    "\n",
    "speed = 10\n",
    "\n",
    "loadfile = None\n",
    "savefile = \"GreedySmall\""
   ]
  },
  {
   "cell_type": "code",
   "execution_count": null,
   "metadata": {},
   "outputs": [],
   "source": [
    "\n",
    "model =  Sequential([\n",
    "        Dense(1, activation='relu', input_shape=(1,20,10,1)),\n",
    "        Flatten(),\n",
    "        Dense(100, activation='relu'),\n",
    "        Dense(200, activation='relu'),\n",
    "        Dense(100, activation='relu'),\n",
    "        Dense(5, activation='relu'),\n",
    "    ])\n",
    "\n",
    "print(model.summary())\n",
    "    \n",
    "policy = LinearAnnealedPolicy(EpsGreedyQPolicy(), \n",
    "                              attr='eps',\n",
    "                              value_max=1.,\n",
    "                              value_min=.1,\n",
    "                              value_test=.05,\n",
    "                              nb_steps=trainstep) "
   ]
  },
  {
   "cell_type": "code",
   "execution_count": 31,
   "metadata": {},
   "outputs": [],
   "source": [
    "%run Scripts/ScriptBase.ipynb"
   ]
  }
 ],
 "metadata": {
  "kernelspec": {
   "display_name": "Python 3.9.13 64-bit (microsoft store)",
   "language": "python",
   "name": "python3"
  },
  "language_info": {
   "codemirror_mode": {
    "name": "ipython",
    "version": 3
   },
   "file_extension": ".py",
   "mimetype": "text/x-python",
   "name": "python",
   "nbconvert_exporter": "python",
   "pygments_lexer": "ipython3",
   "version": "3.9.13"
  },
  "orig_nbformat": 4,
  "vscode": {
   "interpreter": {
    "hash": "f4bbdff7cc7fa638b219fc0c8cef6f1b11f01eaec5f56662ef273699e3711f2e"
   }
  }
 },
 "nbformat": 4,
 "nbformat_minor": 2
}
